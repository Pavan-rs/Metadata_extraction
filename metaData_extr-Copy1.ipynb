{
 "cells": [
  {
   "cell_type": "code",
   "execution_count": 1,
   "metadata": {},
   "outputs": [],
   "source": [
    "from elasticsearch import Elasticsearch\n",
    "import json\n",
    "from elasticsearch.helpers import scan\n",
    "from elasticsearch_dsl import Search,Q\n",
    "from credentials import usr_pwd"
   ]
  },
  {
   "cell_type": "code",
   "execution_count": 2,
   "metadata": {},
   "outputs": [],
   "source": [
    "hosts = [\"10.1.8.6:9200\"]\n",
    "user,pas = usr_pwd()"
   ]
  },
  {
   "cell_type": "code",
   "execution_count": 3,
   "metadata": {},
   "outputs": [],
   "source": [
    "es = Elasticsearch(hosts,\n",
    "                  timeout = 6000,\n",
    "                  use_ssl = True,\n",
    "                  verify_certs = False,\n",
    "                  ssl_show_warn = False,\n",
    "                  raise_on_error = False,\n",
    "                  http_auth = (user,pas)\n",
    "                  )"
   ]
  },
  {
   "cell_type": "code",
   "execution_count": 4,
   "metadata": {},
   "outputs": [
    {
     "data": {
      "text/plain": [
       "True"
      ]
     },
     "execution_count": 4,
     "metadata": {},
     "output_type": "execute_result"
    }
   ],
   "source": [
    "es.ping()"
   ]
  },
  {
   "cell_type": "code",
   "execution_count": 5,
   "metadata": {},
   "outputs": [
    {
     "name": "stderr",
     "output_type": "stream",
     "text": [
      "/home/pavan_rs/.local/lib/python3.7/site-packages/pandas/compat/_optional.py:138: UserWarning: Pandas requires version '2.7.0' or newer of 'numexpr' (version '2.6.9' currently installed).\n",
      "  warnings.warn(msg, UserWarning)\n"
     ]
    }
   ],
   "source": [
    "import pandas as pd\n",
    "import numpy as np"
   ]
  },
  {
   "cell_type": "code",
   "execution_count": 6,
   "metadata": {},
   "outputs": [
    {
     "data": {
      "text/plain": [
       "'/mnt/cantire-analytics/datarepo/pavan rs/elasticsearch_works'"
      ]
     },
     "execution_count": 6,
     "metadata": {},
     "output_type": "execute_result"
    }
   ],
   "source": [
    "pwd"
   ]
  },
  {
   "cell_type": "code",
   "execution_count": 9,
   "metadata": {},
   "outputs": [
    {
     "name": "stdout",
     "output_type": "stream",
     "text": [
      "/mnt/cantire-analytics/datarepo/zz\n"
     ]
    }
   ],
   "source": [
    "cd zz"
   ]
  },
  {
   "cell_type": "code",
   "execution_count": 27,
   "metadata": {},
   "outputs": [
    {
     "name": "stdout",
     "output_type": "stream",
     "text": [
      "(1774, 10)\n"
     ]
    },
    {
     "data": {
      "text/html": [
       "<div>\n",
       "<style scoped>\n",
       "    .dataframe tbody tr th:only-of-type {\n",
       "        vertical-align: middle;\n",
       "    }\n",
       "\n",
       "    .dataframe tbody tr th {\n",
       "        vertical-align: top;\n",
       "    }\n",
       "\n",
       "    .dataframe thead th {\n",
       "        text-align: right;\n",
       "    }\n",
       "</style>\n",
       "<table border=\"1\" class=\"dataframe\">\n",
       "  <thead>\n",
       "    <tr style=\"text-align: right;\">\n",
       "      <th></th>\n",
       "      <th>vendor_number</th>\n",
       "      <th>vendor_name</th>\n",
       "      <th>cbm_number</th>\n",
       "      <th>cbm_name</th>\n",
       "      <th>contract_number</th>\n",
       "      <th>contract_date</th>\n",
       "      <th>amount</th>\n",
       "      <th>program_name</th>\n",
       "      <th>filename</th>\n",
       "      <th>md5</th>\n",
       "    </tr>\n",
       "  </thead>\n",
       "  <tbody>\n",
       "    <tr>\n",
       "      <th>0</th>\n",
       "      <td>9680</td>\n",
       "      <td>EURO-PRO CORPORATION</td>\n",
       "      <td>30.0</td>\n",
       "      <td>NaN</td>\n",
       "      <td>NaN</td>\n",
       "      <td>2022-09-12 00:00:00</td>\n",
       "      <td>200.06</td>\n",
       "      <td>Vendor Funds to Support Webshop Orders for DWO...</td>\n",
       "      <td>Shark_9680_-_Margin_O&amp;A_Q1_Q2_-_Webshop_Orders...</td>\n",
       "      <td>dabd09db079b69c5e71cff3fd6ca995c</td>\n",
       "    </tr>\n",
       "  </tbody>\n",
       "</table>\n",
       "</div>"
      ],
      "text/plain": [
       "  vendor_number           vendor_name  cbm_number cbm_name contract_number  \\\n",
       "0          9680  EURO-PRO CORPORATION        30.0      NaN             NaN   \n",
       "\n",
       "         contract_date  amount  \\\n",
       "0  2022-09-12 00:00:00  200.06   \n",
       "\n",
       "                                        program_name  \\\n",
       "0  Vendor Funds to Support Webshop Orders for DWO...   \n",
       "\n",
       "                                            filename  \\\n",
       "0  Shark_9680_-_Margin_O&A_Q1_Q2_-_Webshop_Orders...   \n",
       "\n",
       "                                md5  \n",
       "0  dabd09db079b69c5e71cff3fd6ca995c  "
      ]
     },
     "execution_count": 27,
     "metadata": {},
     "output_type": "execute_result"
    }
   ],
   "source": [
    "df = pd.read_excel(\"entityExtractionOA_sep_oct.xlsx\")\n",
    "print(df.shape)\n",
    "df.head(1)"
   ]
  },
  {
   "cell_type": "code",
   "execution_count": 28,
   "metadata": {},
   "outputs": [
    {
     "data": {
      "text/plain": [
       "1602"
      ]
     },
     "execution_count": 28,
     "metadata": {},
     "output_type": "execute_result"
    }
   ],
   "source": [
    "len(df[\"md5\"].unique())"
   ]
  },
  {
   "cell_type": "code",
   "execution_count": 29,
   "metadata": {},
   "outputs": [],
   "source": [
    "md5s = df[\"md5\"].unique()"
   ]
  },
  {
   "cell_type": "code",
   "execution_count": 30,
   "metadata": {},
   "outputs": [
    {
     "data": {
      "text/plain": [
       "'dabd09db079b69c5e71cff3fd6ca995c'"
      ]
     },
     "execution_count": 30,
     "metadata": {},
     "output_type": "execute_result"
    }
   ],
   "source": [
    "md5s[0]"
   ]
  },
  {
   "cell_type": "code",
   "execution_count": 31,
   "metadata": {},
   "outputs": [],
   "source": [
    "import csv\n",
    "header = [\"md5\",\"from\",\"to\",\"subject\",\"email_date\"]\n",
    "with open(\"entityExtrOA__.csv\",\"a\") as f:\n",
    "            csvwriter = csv.writer(f)\n",
    "            csvwriter.writerow(header)"
   ]
  },
  {
   "cell_type": "code",
   "execution_count": 55,
   "metadata": {},
   "outputs": [],
   "source": [
    "# body = {\n",
    "#         \"query\":{\n",
    "#             \"bool\":{\n",
    "#                 \"must\":[\n",
    "#                 {\n",
    "#                     \"match_phrase_prefix\":{\n",
    "#                         \"fileType\":\"Email\"\n",
    "#                     }\n",
    "#                 },\n",
    "#                 {\n",
    "#                     \"match_phrase_prefix\":{\n",
    "#                         \"Attachment.MD5\":\"0623d50b518c76f9573b63a5c6d9ac3c\"\n",
    "#                     }\n",
    "#                 }]\n",
    "#             }\n",
    "#         }\n",
    "#     }\n",
    "# res = es.search(index=\"cantire-2022-*\",body=body)\n",
    "# res[\"hits\"][\"hits\"]"
   ]
  },
  {
   "cell_type": "code",
   "execution_count": 32,
   "metadata": {},
   "outputs": [
    {
     "name": "stderr",
     "output_type": "stream",
     "text": [
      "  0%|          | 0/1602 [00:00<?, ?it/s]/opt/anaconda3/lib/python3.7/site-packages/ipykernel_launcher.py:22: DeprecationWarning: The 'body' parameter is deprecated for the 'search' API and will be removed in a future version. Instead use API parameters directly. See https://github.com/elastic/elasticsearch-py/issues/1698 for more information\n",
      "100%|██████████| 1602/1602 [08:50<00:00,  3.02it/s]\n"
     ]
    }
   ],
   "source": [
    "from tqdm import tqdm\n",
    "i=0\n",
    "lis = []\n",
    "for name in tqdm(md5s):\n",
    "    i+=1\n",
    "    body = {\n",
    "        \"query\":{\n",
    "            \"bool\":{\n",
    "                \"must\":[{\n",
    "                    \"match_phrase_prefix\":{\n",
    "                        \"Attachment.MD5\":name\n",
    "                    }\n",
    "                },\n",
    "                {\n",
    "                    \"match_phrase_prefix\":{\n",
    "                        \"fileType\":\"Email\"\n",
    "                    }\n",
    "                }]\n",
    "            }\n",
    "        }\n",
    "    }\n",
    "    res = es.search(index=\"cantire-2022-*\",body = body)\n",
    "    frm = []\n",
    "    to = []\n",
    "    sub = []\n",
    "    date = []\n",
    "    md5 = []\n",
    "    try:\n",
    "        f = res[\"hits\"][\"hits\"][0][\"_source\"][\"metaData\"][\"from\"]\n",
    "        if type(f)!=str:\n",
    "            frm.extend(f)\n",
    "        else:\n",
    "            frm.append(f)\n",
    "    except:\n",
    "        pass\n",
    "    try:\n",
    "        t = res[\"hits\"][\"hits\"][0][\"_source\"][\"metaData\"][\"to\"]\n",
    "        if type(t)!=str:\n",
    "            to.extend(t)\n",
    "        else:\n",
    "            to.append(t)\n",
    "    except:\n",
    "        pass\n",
    "    try:\n",
    "        s = res[\"hits\"][\"hits\"][0][\"_source\"][\"metaData\"][\"subject\"]\n",
    "        if type(s)!=str:\n",
    "            sub.extend(s)\n",
    "        else:\n",
    "            sub.append(s)\n",
    "    except:\n",
    "        pass\n",
    "    try:\n",
    "        d = res[\"hits\"][\"hits\"][0][\"_source\"][\"metaData\"][\"date\"]\n",
    "        if type(d)!=str:\n",
    "            date.extend(d)\n",
    "        else:\n",
    "            date.append(d)\n",
    "    except:\n",
    "        pass\n",
    "#     try:\n",
    "#         m = res[\"hits\"][\"hits\"][0][\"_source\"][\"MD5\"]\n",
    "#         if type(m)!=str:\n",
    "#             md5.extend(m)\n",
    "#         else:\n",
    "#             md5.append(m)\n",
    "#     except:\n",
    "#         pass\n",
    "    lis.extend([[name,frm,to,sub,date]])\n",
    "    if i==100:\n",
    "        with open(\"entityExtrOA__.csv\",\"a\") as file:\n",
    "            csvwriter = csv.writer(file)\n",
    "            csvwriter.writerows(lis)\n",
    "        lis=[]\n",
    "        i=0\n",
    "if i!=0:\n",
    "    with open(\"entityExtrOA__.csv\",\"a\") as file:\n",
    "            csvwriter = csv.writer(file)\n",
    "            csvwriter.writerows(lis)"
   ]
  },
  {
   "cell_type": "code",
   "execution_count": null,
   "metadata": {},
   "outputs": [],
   "source": []
  },
  {
   "cell_type": "code",
   "execution_count": 40,
   "metadata": {},
   "outputs": [],
   "source": [
    "df = pd.read_csv(\"entityExtrOA__.csv\")"
   ]
  },
  {
   "cell_type": "code",
   "execution_count": 41,
   "metadata": {},
   "outputs": [
    {
     "data": {
      "text/plain": [
       "177"
      ]
     },
     "execution_count": 41,
     "metadata": {},
     "output_type": "execute_result"
    }
   ],
   "source": [
    "null_lis = [val for val in df[\"email_date\"] if len(eval(val))==0]\n",
    "len(null_lis)"
   ]
  },
  {
   "cell_type": "code",
   "execution_count": null,
   "metadata": {},
   "outputs": [],
   "source": []
  },
  {
   "cell_type": "code",
   "execution_count": 42,
   "metadata": {},
   "outputs": [],
   "source": [
    "k = []\n",
    "for i in range(len(df[\"email_date\"])):\n",
    "    if len(df[\"email_date\"][i]) <= 4:\n",
    "        k.append(i)"
   ]
  },
  {
   "cell_type": "code",
   "execution_count": 43,
   "metadata": {},
   "outputs": [
    {
     "data": {
      "text/plain": [
       "177"
      ]
     },
     "execution_count": 43,
     "metadata": {},
     "output_type": "execute_result"
    }
   ],
   "source": [
    "len(k)"
   ]
  },
  {
   "cell_type": "code",
   "execution_count": 44,
   "metadata": {},
   "outputs": [],
   "source": [
    "import csv\n",
    "header = [\"md5\"]\n",
    "with open(\"OA_missing_md5_lis_2.csv\",\"a\") as f:\n",
    "            csvwriter = csv.writer(f)\n",
    "            csvwriter.writerow(header)"
   ]
  },
  {
   "cell_type": "code",
   "execution_count": 45,
   "metadata": {},
   "outputs": [],
   "source": [
    "for i in k:\n",
    "    lis = []\n",
    "    lis.append(df[\"md5\"][i])\n",
    "    with open(\"OA_missing_md5_lis_2.csv\",\"a\") as f:\n",
    "                csvwriter = csv.writer(f)\n",
    "                csvwriter.writerow(lis)"
   ]
  },
  {
   "cell_type": "code",
   "execution_count": null,
   "metadata": {},
   "outputs": [],
   "source": []
  },
  {
   "cell_type": "code",
   "execution_count": null,
   "metadata": {},
   "outputs": [],
   "source": []
  },
  {
   "cell_type": "code",
   "execution_count": null,
   "metadata": {},
   "outputs": [],
   "source": []
  },
  {
   "cell_type": "code",
   "execution_count": 106,
   "metadata": {},
   "outputs": [
    {
     "data": {
      "text/html": [
       "<div>\n",
       "<style scoped>\n",
       "    .dataframe tbody tr th:only-of-type {\n",
       "        vertical-align: middle;\n",
       "    }\n",
       "\n",
       "    .dataframe tbody tr th {\n",
       "        vertical-align: top;\n",
       "    }\n",
       "\n",
       "    .dataframe thead th {\n",
       "        text-align: right;\n",
       "    }\n",
       "</style>\n",
       "<table border=\"1\" class=\"dataframe\">\n",
       "  <thead>\n",
       "    <tr style=\"text-align: right;\">\n",
       "      <th></th>\n",
       "      <th>sku</th>\n",
       "      <th>product_description</th>\n",
       "      <th>cost_per_unit</th>\n",
       "      <th>vendor_name</th>\n",
       "      <th>vendor_number</th>\n",
       "      <th>date</th>\n",
       "      <th>purchase_agreement_date</th>\n",
       "      <th>cbm_number</th>\n",
       "      <th>cbm_name</th>\n",
       "      <th>contract_number</th>\n",
       "      <th>promotional_deal</th>\n",
       "      <th>signatures</th>\n",
       "      <th>format</th>\n",
       "      <th>source</th>\n",
       "      <th>filename</th>\n",
       "      <th>md5</th>\n",
       "      <th>program_name</th>\n",
       "    </tr>\n",
       "  </thead>\n",
       "  <tbody>\n",
       "    <tr>\n",
       "      <th>0</th>\n",
       "      <td>439402</td>\n",
       "      <td>BISL SPINWAVE ROBOT</td>\n",
       "      <td>500</td>\n",
       "      <td>BITCO- BISSELL International Trading Company</td>\n",
       "      <td>2454</td>\n",
       "      <td>August 25th, 2022</td>\n",
       "      <td>NaN</td>\n",
       "      <td>030 - John Hooke</td>\n",
       "      <td>NaN</td>\n",
       "      <td>NaN</td>\n",
       "      <td>All orders placed during the ordering window f...</td>\n",
       "      <td>0</td>\n",
       "      <td>old</td>\n",
       "      <td>email</td>\n",
       "      <td>BISSELL_-0439402_Q3_&amp;_Q4_Cost_Down_signed.pdf</td>\n",
       "      <td>36de90459b3d13079a20c2557dc4eb3b</td>\n",
       "      <td>NaN</td>\n",
       "    </tr>\n",
       "  </tbody>\n",
       "</table>\n",
       "</div>"
      ],
      "text/plain": [
       "      sku  product_description cost_per_unit  \\\n",
       "0  439402  BISL SPINWAVE ROBOT           500   \n",
       "\n",
       "                                    vendor_name vendor_number  \\\n",
       "0  BITCO- BISSELL International Trading Company          2454   \n",
       "\n",
       "                date purchase_agreement_date        cbm_number cbm_name  \\\n",
       "0  August 25th, 2022                     NaN  030 - John Hooke      NaN   \n",
       "\n",
       "  contract_number                                   promotional_deal  \\\n",
       "0             NaN  All orders placed during the ordering window f...   \n",
       "\n",
       "   signatures format source                                       filename  \\\n",
       "0           0    old  email  BISSELL_-0439402_Q3_&_Q4_Cost_Down_signed.pdf   \n",
       "\n",
       "                                md5 program_name  \n",
       "0  36de90459b3d13079a20c2557dc4eb3b          NaN  "
      ]
     },
     "execution_count": 106,
     "metadata": {},
     "output_type": "execute_result"
    }
   ],
   "source": [
    "import pandas as pd\n",
    "df1 = pd.read_excel(\"entityExtractionCD_sep_oct.xlsx\")\n",
    "df1.head(1)"
   ]
  },
  {
   "cell_type": "code",
   "execution_count": 107,
   "metadata": {},
   "outputs": [
    {
     "data": {
      "text/html": [
       "<div>\n",
       "<style scoped>\n",
       "    .dataframe tbody tr th:only-of-type {\n",
       "        vertical-align: middle;\n",
       "    }\n",
       "\n",
       "    .dataframe tbody tr th {\n",
       "        vertical-align: top;\n",
       "    }\n",
       "\n",
       "    .dataframe thead th {\n",
       "        text-align: right;\n",
       "    }\n",
       "</style>\n",
       "<table border=\"1\" class=\"dataframe\">\n",
       "  <thead>\n",
       "    <tr style=\"text-align: right;\">\n",
       "      <th></th>\n",
       "      <th>md5</th>\n",
       "      <th>from</th>\n",
       "      <th>to</th>\n",
       "      <th>subject</th>\n",
       "      <th>email_date</th>\n",
       "    </tr>\n",
       "  </thead>\n",
       "  <tbody>\n",
       "    <tr>\n",
       "      <th>0</th>\n",
       "      <td>36de90459b3d13079a20c2557dc4eb3b</td>\n",
       "      <td>['\"Wright', 'Steve.Wright@bissell.com']</td>\n",
       "      <td>['Meg.Casbourn@cantire.com', '\"Chalmers', 'Nel...</td>\n",
       "      <td>['[EXTERNAL] - RE: 2022 ODS Q3 &amp; Q4 BISSELL ru...</td>\n",
       "      <td>['2022/09/06 21:02:35']</td>\n",
       "    </tr>\n",
       "  </tbody>\n",
       "</table>\n",
       "</div>"
      ],
      "text/plain": [
       "                                md5                                     from  \\\n",
       "0  36de90459b3d13079a20c2557dc4eb3b  ['\"Wright', 'Steve.Wright@bissell.com']   \n",
       "\n",
       "                                                  to  \\\n",
       "0  ['Meg.Casbourn@cantire.com', '\"Chalmers', 'Nel...   \n",
       "\n",
       "                                             subject               email_date  \n",
       "0  ['[EXTERNAL] - RE: 2022 ODS Q3 & Q4 BISSELL ru...  ['2022/09/06 21:02:35']  "
      ]
     },
     "execution_count": 107,
     "metadata": {},
     "output_type": "execute_result"
    }
   ],
   "source": [
    "df2 = pd.read_csv(\"entityExtrCD.csv\")\n",
    "df2.head(1)"
   ]
  },
  {
   "cell_type": "code",
   "execution_count": 107,
   "metadata": {},
   "outputs": [
    {
     "data": {
      "text/html": [
       "<div>\n",
       "<style scoped>\n",
       "    .dataframe tbody tr th:only-of-type {\n",
       "        vertical-align: middle;\n",
       "    }\n",
       "\n",
       "    .dataframe tbody tr th {\n",
       "        vertical-align: top;\n",
       "    }\n",
       "\n",
       "    .dataframe thead th {\n",
       "        text-align: right;\n",
       "    }\n",
       "</style>\n",
       "<table border=\"1\" class=\"dataframe\">\n",
       "  <thead>\n",
       "    <tr style=\"text-align: right;\">\n",
       "      <th></th>\n",
       "      <th>vendor_number</th>\n",
       "      <th>vendor_name</th>\n",
       "      <th>cbm_number</th>\n",
       "      <th>cbm_name</th>\n",
       "      <th>contract_number</th>\n",
       "      <th>contract_date</th>\n",
       "      <th>amount</th>\n",
       "      <th>program_name</th>\n",
       "      <th>filename</th>\n",
       "      <th>md5</th>\n",
       "      <th>from</th>\n",
       "      <th>to</th>\n",
       "      <th>subject</th>\n",
       "      <th>email_date</th>\n",
       "    </tr>\n",
       "  </thead>\n",
       "  <tbody>\n",
       "    <tr>\n",
       "      <th>0</th>\n",
       "      <td>9680</td>\n",
       "      <td>EURO-PRO CORPORATION</td>\n",
       "      <td>30.0</td>\n",
       "      <td>NaN</td>\n",
       "      <td>NaN</td>\n",
       "      <td>2022-09-12 00:00:00</td>\n",
       "      <td>200.06</td>\n",
       "      <td>Vendor Funds to Support Webshop Orders for DWO...</td>\n",
       "      <td>Shark_9680_-_Margin_O&amp;A_Q1_Q2_-_Webshop_Orders...</td>\n",
       "      <td>dabd09db079b69c5e71cff3fd6ca995c</td>\n",
       "      <td>['Meg.Casbourn@cantire.com']</td>\n",
       "      <td>['John.Hooke@cantire.com', 'REddy@sharkninja.c...</td>\n",
       "      <td>['[EXTERNAL] - RE: SHARK ALM Activity Tracking...</td>\n",
       "      <td>['2022/09/21 13:27:13']</td>\n",
       "    </tr>\n",
       "    <tr>\n",
       "      <th>1</th>\n",
       "      <td>3290</td>\n",
       "      <td>RUST-OLEUM CORP</td>\n",
       "      <td>NaN</td>\n",
       "      <td>NaN</td>\n",
       "      <td>NaN</td>\n",
       "      <td>NaN</td>\n",
       "      <td>Per Unit</td>\n",
       "      <td>2022 Q1 Cost Downs</td>\n",
       "      <td>22-0304-3290-163.pdf</td>\n",
       "      <td>965aebacf070da9ef75b1c45e0623023</td>\n",
       "      <td>['RForsyth@rustoleum.ca']</td>\n",
       "      <td>['Andrew.Holder@cantire.com']</td>\n",
       "      <td>['[EXTERNAL] - RE: 22-0304-3290-163.docx']</td>\n",
       "      <td>['2022/01/19 07:50:38']</td>\n",
       "    </tr>\n",
       "    <tr>\n",
       "      <th>2</th>\n",
       "      <td>NaN</td>\n",
       "      <td>NaN</td>\n",
       "      <td>58.0</td>\n",
       "      <td>NaN</td>\n",
       "      <td>NaN</td>\n",
       "      <td>NaN</td>\n",
       "      <td>Per Unit ($)</td>\n",
       "      <td>2022 Q4 Cost Downs</td>\n",
       "      <td>22-0349-4109-058.pdf</td>\n",
       "      <td>0e0f9d79ac55cf5cdd790b69eaf9a947</td>\n",
       "      <td>['\"Houle', 'houle.t@pg.com']</td>\n",
       "      <td>['Andrew.Holder@cantire.com']</td>\n",
       "      <td>['[EXTERNAL] - RE: Deals 0349/350/351 Updated ...</td>\n",
       "      <td>['2022/09/14 19:55:02']</td>\n",
       "    </tr>\n",
       "    <tr>\n",
       "      <th>3</th>\n",
       "      <td>NaN</td>\n",
       "      <td>NaN</td>\n",
       "      <td>NaN</td>\n",
       "      <td>NaN</td>\n",
       "      <td>NaN</td>\n",
       "      <td>NaN</td>\n",
       "      <td>See Schedule A attached hereto</td>\n",
       "      <td>Deal 329/2022</td>\n",
       "      <td>Deal_329_Cost_Down_OA_Agreement_-_v9344.pdf</td>\n",
       "      <td>feacec6cb818338171c53fb5af32483e</td>\n",
       "      <td>['Shelley.Silliker@cantire.com']</td>\n",
       "      <td>['david.wright@advantagesolutions.net']</td>\n",
       "      <td>['[EXTERNAL] - cost downs Deal 329 and 330']</td>\n",
       "      <td>['2022/01/17 19:35:32']</td>\n",
       "    </tr>\n",
       "    <tr>\n",
       "      <th>4</th>\n",
       "      <td>4520</td>\n",
       "      <td>MTD PRODUCTS LTD.</td>\n",
       "      <td>90.0</td>\n",
       "      <td>NaN</td>\n",
       "      <td>NaN</td>\n",
       "      <td>August 29th 2022</td>\n",
       "      <td>14569</td>\n",
       "      <td>Non Advertising O&amp;A</td>\n",
       "      <td>OverAbove_2022_MTDZT.pdf</td>\n",
       "      <td>48e1cf410ba92719d34f1b8e3f82ce03</td>\n",
       "      <td>['Karl.Solis@cantire.com']</td>\n",
       "      <td>['Vendor.Support@cantire.com']</td>\n",
       "      <td>['[EXTERNAL] - FW: O&amp;A for ZT Tractors - V# 21...</td>\n",
       "      <td>['2022/09/26 15:59:52']</td>\n",
       "    </tr>\n",
       "  </tbody>\n",
       "</table>\n",
       "</div>"
      ],
      "text/plain": [
       "  vendor_number           vendor_name  cbm_number cbm_name contract_number  \\\n",
       "0          9680  EURO-PRO CORPORATION        30.0      NaN             NaN   \n",
       "1          3290       RUST-OLEUM CORP         NaN      NaN             NaN   \n",
       "2           NaN                   NaN        58.0      NaN             NaN   \n",
       "3           NaN                   NaN         NaN      NaN             NaN   \n",
       "4          4520     MTD PRODUCTS LTD.        90.0      NaN             NaN   \n",
       "\n",
       "         contract_date                          amount  \\\n",
       "0  2022-09-12 00:00:00                          200.06   \n",
       "1                  NaN                        Per Unit   \n",
       "2                  NaN                    Per Unit ($)   \n",
       "3                  NaN  See Schedule A attached hereto   \n",
       "4     August 29th 2022                           14569   \n",
       "\n",
       "                                        program_name  \\\n",
       "0  Vendor Funds to Support Webshop Orders for DWO...   \n",
       "1                                 2022 Q1 Cost Downs   \n",
       "2                                 2022 Q4 Cost Downs   \n",
       "3                                      Deal 329/2022   \n",
       "4                                Non Advertising O&A   \n",
       "\n",
       "                                            filename  \\\n",
       "0  Shark_9680_-_Margin_O&A_Q1_Q2_-_Webshop_Orders...   \n",
       "1                               22-0304-3290-163.pdf   \n",
       "2                               22-0349-4109-058.pdf   \n",
       "3        Deal_329_Cost_Down_OA_Agreement_-_v9344.pdf   \n",
       "4                           OverAbove_2022_MTDZT.pdf   \n",
       "\n",
       "                                md5                              from  \\\n",
       "0  dabd09db079b69c5e71cff3fd6ca995c      ['Meg.Casbourn@cantire.com']   \n",
       "1  965aebacf070da9ef75b1c45e0623023         ['RForsyth@rustoleum.ca']   \n",
       "2  0e0f9d79ac55cf5cdd790b69eaf9a947      ['\"Houle', 'houle.t@pg.com']   \n",
       "3  feacec6cb818338171c53fb5af32483e  ['Shelley.Silliker@cantire.com']   \n",
       "4  48e1cf410ba92719d34f1b8e3f82ce03        ['Karl.Solis@cantire.com']   \n",
       "\n",
       "                                                  to  \\\n",
       "0  ['John.Hooke@cantire.com', 'REddy@sharkninja.c...   \n",
       "1                      ['Andrew.Holder@cantire.com']   \n",
       "2                      ['Andrew.Holder@cantire.com']   \n",
       "3            ['david.wright@advantagesolutions.net']   \n",
       "4                     ['Vendor.Support@cantire.com']   \n",
       "\n",
       "                                             subject               email_date  \n",
       "0  ['[EXTERNAL] - RE: SHARK ALM Activity Tracking...  ['2022/09/21 13:27:13']  \n",
       "1         ['[EXTERNAL] - RE: 22-0304-3290-163.docx']  ['2022/01/19 07:50:38']  \n",
       "2  ['[EXTERNAL] - RE: Deals 0349/350/351 Updated ...  ['2022/09/14 19:55:02']  \n",
       "3       ['[EXTERNAL] - cost downs Deal 329 and 330']  ['2022/01/17 19:35:32']  \n",
       "4  ['[EXTERNAL] - FW: O&A for ZT Tractors - V# 21...  ['2022/09/26 15:59:52']  "
      ]
     },
     "execution_count": 107,
     "metadata": {},
     "output_type": "execute_result"
    }
   ],
   "source": [
    "df = pd.merge(df1, df2, on='filename', how='left')\n",
    "df.head()"
   ]
  },
  {
   "cell_type": "code",
   "execution_count": 108,
   "metadata": {},
   "outputs": [],
   "source": [
    "df.to_csv(\"oa-sep-oct-fin.csv\")"
   ]
  },
  {
   "cell_type": "code",
   "execution_count": null,
   "metadata": {},
   "outputs": [],
   "source": []
  },
  {
   "cell_type": "code",
   "execution_count": null,
   "metadata": {},
   "outputs": [],
   "source": []
  },
  {
   "cell_type": "code",
   "execution_count": null,
   "metadata": {},
   "outputs": [],
   "source": []
  },
  {
   "cell_type": "code",
   "execution_count": 109,
   "metadata": {},
   "outputs": [
    {
     "data": {
      "text/plain": [
       "'/mnt/cantire-analytics/datarepo/zz'"
      ]
     },
     "execution_count": 109,
     "metadata": {},
     "output_type": "execute_result"
    }
   ],
   "source": [
    "pwd"
   ]
  },
  {
   "cell_type": "code",
   "execution_count": 11,
   "metadata": {},
   "outputs": [
    {
     "name": "stdout",
     "output_type": "stream",
     "text": [
      "/mnt/cantire-analytics/datarepo/zz\n"
     ]
    }
   ],
   "source": [
    "cd zz"
   ]
  },
  {
   "cell_type": "code",
   "execution_count": 12,
   "metadata": {},
   "outputs": [
    {
     "name": "stdout",
     "output_type": "stream",
     "text": [
      "(2445, 5)\n",
      "  classification              Filename  \\\n",
      "0             OA  22-0351-G48P-114.pdf   \n",
      "\n",
      "                                            FilePath  \\\n",
      "0  cantire-2022-08/_doc/39f58eb48812784b6e38fcb37...   \n",
      "\n",
      "                                MD5                        Email Path  \n",
      "0  39f58eb48812784b6e38fcb3721834d4  fd46d4149eb7798b576ce097949eebe5  \n"
     ]
    }
   ],
   "source": [
    "import pandas as pd\n",
    "dff = pd.read_excel(\"Aug-Oct-OA_CD.xlsx\",sheet_name=\"Aug-Oct-OA_CD\")\n",
    "print(dff.shape)\n",
    "print(dff.head(1))"
   ]
  },
  {
   "cell_type": "code",
   "execution_count": 14,
   "metadata": {},
   "outputs": [
    {
     "data": {
      "text/plain": [
       "2028"
      ]
     },
     "execution_count": 14,
     "metadata": {},
     "output_type": "execute_result"
    }
   ],
   "source": [
    "len(dff[\"MD5\"].unique())"
   ]
  },
  {
   "cell_type": "code",
   "execution_count": 16,
   "metadata": {},
   "outputs": [],
   "source": [
    "md5s = dff[\"MD5\"].unique()"
   ]
  },
  {
   "cell_type": "code",
   "execution_count": 17,
   "metadata": {},
   "outputs": [
    {
     "data": {
      "text/plain": [
       "'39f58eb48812784b6e38fcb3721834d4'"
      ]
     },
     "execution_count": 17,
     "metadata": {},
     "output_type": "execute_result"
    }
   ],
   "source": [
    "md5s[0]"
   ]
  },
  {
   "cell_type": "code",
   "execution_count": 18,
   "metadata": {},
   "outputs": [
    {
     "data": {
      "text/plain": [
       "2028"
      ]
     },
     "execution_count": 18,
     "metadata": {},
     "output_type": "execute_result"
    }
   ],
   "source": [
    "len(md5s)"
   ]
  },
  {
   "cell_type": "code",
   "execution_count": 19,
   "metadata": {},
   "outputs": [
    {
     "data": {
      "text/plain": [
       "'/mnt/cantire-analytics/datarepo/zz'"
      ]
     },
     "execution_count": 19,
     "metadata": {},
     "output_type": "execute_result"
    }
   ],
   "source": [
    "pwd"
   ]
  },
  {
   "cell_type": "code",
   "execution_count": 32,
   "metadata": {},
   "outputs": [],
   "source": [
    "import csv\n",
    "header = [\"md5\",\"from\",\"to\",\"cc\",\"subject\",\"email_date\"]\n",
    "with open(\"aug_oct_oa-cd.csv\",\"a\") as f:\n",
    "            csvwriter = csv.writer(f)\n",
    "            csvwriter.writerow(header)"
   ]
  },
  {
   "cell_type": "code",
   "execution_count": 33,
   "metadata": {},
   "outputs": [
    {
     "name": "stderr",
     "output_type": "stream",
     "text": [
      "  0%|          | 0/2028 [00:00<?, ?it/s]/opt/anaconda3/lib/python3.7/site-packages/ipykernel_launcher.py:25: DeprecationWarning: The 'body' parameter is deprecated for the 'search' API and will be removed in a future version. Instead use API parameters directly. See https://github.com/elastic/elasticsearch-py/issues/1698 for more information\n",
      "100%|██████████| 2028/2028 [08:29<00:00,  3.98it/s]\n"
     ]
    }
   ],
   "source": [
    "from tqdm import tqdm\n",
    "i=0\n",
    "lis = []\n",
    "# indexes = [\"cantire-2021-08\",\"cantire-2021-09\",\"cantire-2021-10\",\"cantire-2021-11\",\"cantire-2021-12\",\"cantire-2022-01\",\"cantire-2022-02\",\n",
    "#           \"cantire-2022-03\",\"cantire-2022-04\",\"cantire-2022-05\",\"cantire-2022-06\",\"cantire-2022-07\",\"cantire-2022-08\"]\n",
    "indexes = [\"cantire-2022-08\",\"cantire-2022-09\",\"cantire-2022-10\"]\n",
    "for name in tqdm(md5s):\n",
    "    i+=1\n",
    "    body = {\n",
    "        \"query\":{\n",
    "            \"bool\":{\n",
    "                \"must\":[{\n",
    "                    \"match_phrase_prefix\":{\n",
    "                        \"Attachment.MD5\":name\n",
    "                    }\n",
    "                },\n",
    "                {\n",
    "                    \"match_phrase_prefix\":{\n",
    "                        \"fileType\":\"Email\"\n",
    "                    }\n",
    "                }]\n",
    "            }\n",
    "        }\n",
    "    }\n",
    "    res = es.search(index=indexes,body = body)\n",
    "    frm = []\n",
    "    to = []\n",
    "    cc = []\n",
    "    sub = []\n",
    "    date = []\n",
    "    try:\n",
    "        f = res[\"hits\"][\"hits\"][0][\"_source\"][\"metaData\"][\"from\"]\n",
    "        if type(f)!=str:\n",
    "            frm.extend(f)\n",
    "        else:\n",
    "            frm.append(f)\n",
    "    except:\n",
    "        pass\n",
    "    try:\n",
    "        t = res[\"hits\"][\"hits\"][0][\"_source\"][\"metaData\"][\"to\"]\n",
    "        if type(t)!=str:\n",
    "            to.extend(t)\n",
    "        else:\n",
    "            to.append(t)\n",
    "    except:\n",
    "        pass\n",
    "    try:\n",
    "        c = res[\"hits\"][\"hits\"][0][\"_source\"][\"metaData\"][\"cc\"]\n",
    "        if type(t)!=str:\n",
    "            cc.extend(c)\n",
    "        else:\n",
    "            cc.append(c)\n",
    "    except:\n",
    "        pass\n",
    "    try:\n",
    "        s = res[\"hits\"][\"hits\"][0][\"_source\"][\"metaData\"][\"subject\"]\n",
    "        if type(s)!=str:\n",
    "            sub.extend(s)\n",
    "        else:\n",
    "            sub.append(s)\n",
    "    except:\n",
    "        pass\n",
    "    try:\n",
    "        d = res[\"hits\"][\"hits\"][0][\"_source\"][\"metaData\"][\"date\"]\n",
    "        if type(d)!=str:\n",
    "            date.extend(d)\n",
    "        else:\n",
    "            date.append(d)\n",
    "    except:\n",
    "        pass\n",
    "    lis.extend([[name,frm,to,cc,sub,date]])\n",
    "    if i==100:\n",
    "        with open(\"aug_oct_oa-cd.csv\",\"a\") as file:\n",
    "            csvwriter = csv.writer(file)\n",
    "            csvwriter.writerows(lis)\n",
    "        lis=[]\n",
    "        i=0\n",
    "if i!=0:\n",
    "    with open(\"aug_oct_oa-cd.csv\",\"a\") as file:\n",
    "            csvwriter = csv.writer(file)\n",
    "            csvwriter.writerows(lis)"
   ]
  },
  {
   "cell_type": "code",
   "execution_count": null,
   "metadata": {},
   "outputs": [],
   "source": []
  },
  {
   "cell_type": "code",
   "execution_count": 35,
   "metadata": {},
   "outputs": [
    {
     "data": {
      "text/plain": [
       "(2028, 6)"
      ]
     },
     "execution_count": 35,
     "metadata": {},
     "output_type": "execute_result"
    }
   ],
   "source": [
    "df = pd.read_csv(\"aug_oct_oa-cd.csv\")\n",
    "df.shape"
   ]
  },
  {
   "cell_type": "code",
   "execution_count": 36,
   "metadata": {},
   "outputs": [
    {
     "data": {
      "text/plain": [
       "52"
      ]
     },
     "execution_count": 36,
     "metadata": {},
     "output_type": "execute_result"
    }
   ],
   "source": [
    "len([val for val in df[\"from\"] if len(eval(val))==0])"
   ]
  },
  {
   "cell_type": "code",
   "execution_count": 48,
   "metadata": {},
   "outputs": [
    {
     "data": {
      "text/plain": [
       "52"
      ]
     },
     "execution_count": 48,
     "metadata": {},
     "output_type": "execute_result"
    }
   ],
   "source": [
    "k = []\n",
    "for i in range(len(df[\"from\"])):\n",
    "    if len(df[\"from\"][i]) <= 4:\n",
    "        k.append(i)\n",
    "len(k)"
   ]
  },
  {
   "cell_type": "code",
   "execution_count": 53,
   "metadata": {},
   "outputs": [
    {
     "data": {
      "text/plain": [
       "171"
      ]
     },
     "execution_count": 53,
     "metadata": {},
     "output_type": "execute_result"
    }
   ],
   "source": [
    "k[13]"
   ]
  },
  {
   "cell_type": "code",
   "execution_count": 49,
   "metadata": {},
   "outputs": [],
   "source": [
    "import csv\n",
    "header = [\"md5\"]\n",
    "with open(\"AUG_OCT_missing_md5_lis.csv\",\"a\") as f:\n",
    "            csvwriter = csv.writer(f)\n",
    "            csvwriter.writerow(header)"
   ]
  },
  {
   "cell_type": "code",
   "execution_count": 54,
   "metadata": {},
   "outputs": [],
   "source": [
    "for i in k:\n",
    "    lis = []\n",
    "    lis.append(df[\"md5\"][i])\n",
    "    with open(\"AUG_OCT_missing_md5_lis.csv\",\"a\") as f:\n",
    "                csvwriter = csv.writer(f)\n",
    "                csvwriter.writerow(lis)"
   ]
  },
  {
   "cell_type": "code",
   "execution_count": 37,
   "metadata": {},
   "outputs": [
    {
     "data": {
      "text/plain": [
       "(2445, 5)"
      ]
     },
     "execution_count": 37,
     "metadata": {},
     "output_type": "execute_result"
    }
   ],
   "source": [
    "import pandas as pd\n",
    "df3 = pd.read_excel(\"Aug-Oct-OA_CD.xlsx\",sheet_name=\"Aug-Oct-OA_CD\")\n",
    "df3.shape"
   ]
  },
  {
   "cell_type": "code",
   "execution_count": 38,
   "metadata": {},
   "outputs": [
    {
     "data": {
      "text/html": [
       "<div>\n",
       "<style scoped>\n",
       "    .dataframe tbody tr th:only-of-type {\n",
       "        vertical-align: middle;\n",
       "    }\n",
       "\n",
       "    .dataframe tbody tr th {\n",
       "        vertical-align: top;\n",
       "    }\n",
       "\n",
       "    .dataframe thead th {\n",
       "        text-align: right;\n",
       "    }\n",
       "</style>\n",
       "<table border=\"1\" class=\"dataframe\">\n",
       "  <thead>\n",
       "    <tr style=\"text-align: right;\">\n",
       "      <th></th>\n",
       "      <th>md5</th>\n",
       "      <th>from</th>\n",
       "      <th>to</th>\n",
       "      <th>cc</th>\n",
       "      <th>subject</th>\n",
       "      <th>email_date</th>\n",
       "    </tr>\n",
       "  </thead>\n",
       "  <tbody>\n",
       "    <tr>\n",
       "      <th>0</th>\n",
       "      <td>39f58eb48812784b6e38fcb3721834d4</td>\n",
       "      <td>[]</td>\n",
       "      <td>[]</td>\n",
       "      <td>[]</td>\n",
       "      <td>[]</td>\n",
       "      <td>[]</td>\n",
       "    </tr>\n",
       "  </tbody>\n",
       "</table>\n",
       "</div>"
      ],
      "text/plain": [
       "                                md5 from  to  cc subject email_date\n",
       "0  39f58eb48812784b6e38fcb3721834d4   []  []  []      []         []"
      ]
     },
     "execution_count": 38,
     "metadata": {},
     "output_type": "execute_result"
    }
   ],
   "source": [
    "df4 = pd.read_csv(\"aug_oct_oa-cd.csv\")\n",
    "df4.head(1)"
   ]
  },
  {
   "cell_type": "code",
   "execution_count": 39,
   "metadata": {},
   "outputs": [],
   "source": [
    "df4.rename(columns = {'md5':'MD5'}, inplace = True)"
   ]
  },
  {
   "cell_type": "code",
   "execution_count": 41,
   "metadata": {},
   "outputs": [
    {
     "data": {
      "text/html": [
       "<div>\n",
       "<style scoped>\n",
       "    .dataframe tbody tr th:only-of-type {\n",
       "        vertical-align: middle;\n",
       "    }\n",
       "\n",
       "    .dataframe tbody tr th {\n",
       "        vertical-align: top;\n",
       "    }\n",
       "\n",
       "    .dataframe thead th {\n",
       "        text-align: right;\n",
       "    }\n",
       "</style>\n",
       "<table border=\"1\" class=\"dataframe\">\n",
       "  <thead>\n",
       "    <tr style=\"text-align: right;\">\n",
       "      <th></th>\n",
       "      <th>MD5</th>\n",
       "      <th>from</th>\n",
       "      <th>to</th>\n",
       "      <th>cc</th>\n",
       "      <th>subject</th>\n",
       "      <th>email_date</th>\n",
       "    </tr>\n",
       "  </thead>\n",
       "  <tbody>\n",
       "    <tr>\n",
       "      <th>0</th>\n",
       "      <td>39f58eb48812784b6e38fcb3721834d4</td>\n",
       "      <td>[]</td>\n",
       "      <td>[]</td>\n",
       "      <td>[]</td>\n",
       "      <td>[]</td>\n",
       "      <td>[]</td>\n",
       "    </tr>\n",
       "  </tbody>\n",
       "</table>\n",
       "</div>"
      ],
      "text/plain": [
       "                                MD5 from  to  cc subject email_date\n",
       "0  39f58eb48812784b6e38fcb3721834d4   []  []  []      []         []"
      ]
     },
     "execution_count": 41,
     "metadata": {},
     "output_type": "execute_result"
    }
   ],
   "source": [
    "df4.head(1)"
   ]
  },
  {
   "cell_type": "code",
   "execution_count": 42,
   "metadata": {},
   "outputs": [
    {
     "data": {
      "text/html": [
       "<div>\n",
       "<style scoped>\n",
       "    .dataframe tbody tr th:only-of-type {\n",
       "        vertical-align: middle;\n",
       "    }\n",
       "\n",
       "    .dataframe tbody tr th {\n",
       "        vertical-align: top;\n",
       "    }\n",
       "\n",
       "    .dataframe thead th {\n",
       "        text-align: right;\n",
       "    }\n",
       "</style>\n",
       "<table border=\"1\" class=\"dataframe\">\n",
       "  <thead>\n",
       "    <tr style=\"text-align: right;\">\n",
       "      <th></th>\n",
       "      <th>classification</th>\n",
       "      <th>Filename</th>\n",
       "      <th>FilePath</th>\n",
       "      <th>MD5</th>\n",
       "      <th>Email Path</th>\n",
       "      <th>from</th>\n",
       "      <th>to</th>\n",
       "      <th>cc</th>\n",
       "      <th>subject</th>\n",
       "      <th>email_date</th>\n",
       "    </tr>\n",
       "  </thead>\n",
       "  <tbody>\n",
       "    <tr>\n",
       "      <th>0</th>\n",
       "      <td>OA</td>\n",
       "      <td>22-0351-G48P-114.pdf</td>\n",
       "      <td>cantire-2022-08/_doc/39f58eb48812784b6e38fcb37...</td>\n",
       "      <td>39f58eb48812784b6e38fcb3721834d4</td>\n",
       "      <td>fd46d4149eb7798b576ce097949eebe5</td>\n",
       "      <td>[]</td>\n",
       "      <td>[]</td>\n",
       "      <td>[]</td>\n",
       "      <td>[]</td>\n",
       "      <td>[]</td>\n",
       "    </tr>\n",
       "    <tr>\n",
       "      <th>1</th>\n",
       "      <td>OA</td>\n",
       "      <td>22-0349-G48P-114.pdf</td>\n",
       "      <td>cantire-2022-08/_doc/531dfc97145f6ebbc18870b1b...</td>\n",
       "      <td>531dfc97145f6ebbc18870b1b7015d99</td>\n",
       "      <td>fd46d4149eb7798b576ce097949eebe5</td>\n",
       "      <td>[]</td>\n",
       "      <td>[]</td>\n",
       "      <td>[]</td>\n",
       "      <td>[]</td>\n",
       "      <td>[]</td>\n",
       "    </tr>\n",
       "    <tr>\n",
       "      <th>2</th>\n",
       "      <td>OA</td>\n",
       "      <td>22-0346-G48P-114.pdf</td>\n",
       "      <td>cantire-2022-08/_doc/d38a2de9a71ae4f3b6e359c16...</td>\n",
       "      <td>d38a2de9a71ae4f3b6e359c1603d5c72</td>\n",
       "      <td>fd46d4149eb7798b576ce097949eebe5</td>\n",
       "      <td>[]</td>\n",
       "      <td>[]</td>\n",
       "      <td>[]</td>\n",
       "      <td>[]</td>\n",
       "      <td>[]</td>\n",
       "    </tr>\n",
       "    <tr>\n",
       "      <th>3</th>\n",
       "      <td>OA</td>\n",
       "      <td>22-0344-G48P-114.pdf</td>\n",
       "      <td>cantire-2022-08/_doc/159c408b89896a00f3dc6c57d...</td>\n",
       "      <td>159c408b89896a00f3dc6c57d0c66bbe</td>\n",
       "      <td>fd46d4149eb7798b576ce097949eebe5</td>\n",
       "      <td>[]</td>\n",
       "      <td>[]</td>\n",
       "      <td>[]</td>\n",
       "      <td>[]</td>\n",
       "      <td>[]</td>\n",
       "    </tr>\n",
       "    <tr>\n",
       "      <th>4</th>\n",
       "      <td>OA</td>\n",
       "      <td>22-0348-G48P-114.pdf</td>\n",
       "      <td>cantire-2022-08/_doc/3b4c529c842bfd1fd48477ac3...</td>\n",
       "      <td>3b4c529c842bfd1fd48477ac3e1641a4</td>\n",
       "      <td>fd46d4149eb7798b576ce097949eebe5</td>\n",
       "      <td>[]</td>\n",
       "      <td>[]</td>\n",
       "      <td>[]</td>\n",
       "      <td>[]</td>\n",
       "      <td>[]</td>\n",
       "    </tr>\n",
       "  </tbody>\n",
       "</table>\n",
       "</div>"
      ],
      "text/plain": [
       "  classification              Filename  \\\n",
       "0             OA  22-0351-G48P-114.pdf   \n",
       "1             OA  22-0349-G48P-114.pdf   \n",
       "2             OA  22-0346-G48P-114.pdf   \n",
       "3             OA  22-0344-G48P-114.pdf   \n",
       "4             OA  22-0348-G48P-114.pdf   \n",
       "\n",
       "                                            FilePath  \\\n",
       "0  cantire-2022-08/_doc/39f58eb48812784b6e38fcb37...   \n",
       "1  cantire-2022-08/_doc/531dfc97145f6ebbc18870b1b...   \n",
       "2  cantire-2022-08/_doc/d38a2de9a71ae4f3b6e359c16...   \n",
       "3  cantire-2022-08/_doc/159c408b89896a00f3dc6c57d...   \n",
       "4  cantire-2022-08/_doc/3b4c529c842bfd1fd48477ac3...   \n",
       "\n",
       "                                MD5                        Email Path from  \\\n",
       "0  39f58eb48812784b6e38fcb3721834d4  fd46d4149eb7798b576ce097949eebe5   []   \n",
       "1  531dfc97145f6ebbc18870b1b7015d99  fd46d4149eb7798b576ce097949eebe5   []   \n",
       "2  d38a2de9a71ae4f3b6e359c1603d5c72  fd46d4149eb7798b576ce097949eebe5   []   \n",
       "3  159c408b89896a00f3dc6c57d0c66bbe  fd46d4149eb7798b576ce097949eebe5   []   \n",
       "4  3b4c529c842bfd1fd48477ac3e1641a4  fd46d4149eb7798b576ce097949eebe5   []   \n",
       "\n",
       "   to  cc subject email_date  \n",
       "0  []  []      []         []  \n",
       "1  []  []      []         []  \n",
       "2  []  []      []         []  \n",
       "3  []  []      []         []  \n",
       "4  []  []      []         []  "
      ]
     },
     "execution_count": 42,
     "metadata": {},
     "output_type": "execute_result"
    }
   ],
   "source": [
    "dff = pd.merge(df3, df4, on='MD5', how='left')"
   ]
  },
  {
   "cell_type": "code",
   "execution_count": 43,
   "metadata": {},
   "outputs": [
    {
     "data": {
      "text/html": [
       "<div>\n",
       "<style scoped>\n",
       "    .dataframe tbody tr th:only-of-type {\n",
       "        vertical-align: middle;\n",
       "    }\n",
       "\n",
       "    .dataframe tbody tr th {\n",
       "        vertical-align: top;\n",
       "    }\n",
       "\n",
       "    .dataframe thead th {\n",
       "        text-align: right;\n",
       "    }\n",
       "</style>\n",
       "<table border=\"1\" class=\"dataframe\">\n",
       "  <thead>\n",
       "    <tr style=\"text-align: right;\">\n",
       "      <th></th>\n",
       "      <th>classification</th>\n",
       "      <th>Filename</th>\n",
       "      <th>FilePath</th>\n",
       "      <th>MD5</th>\n",
       "      <th>Email Path</th>\n",
       "      <th>from</th>\n",
       "      <th>to</th>\n",
       "      <th>cc</th>\n",
       "      <th>subject</th>\n",
       "      <th>email_date</th>\n",
       "    </tr>\n",
       "  </thead>\n",
       "  <tbody>\n",
       "    <tr>\n",
       "      <th>2440</th>\n",
       "      <td>OA</td>\n",
       "      <td>CTC_2022_Over_&amp;_Above_Agreement_-_Poppa_Corn_C...</td>\n",
       "      <td>cantire-2022-10/_doc/f29e00c5bfb38a567f130aadc...</td>\n",
       "      <td>f29e00c5bfb38a567f130aadcad5fc83</td>\n",
       "      <td>d235b8c188ea5951af2fc5f5541f8e7e</td>\n",
       "      <td>['gregh@poppacorncorp.com']</td>\n",
       "      <td>['Shelley.Silliker@cantire.com']</td>\n",
       "      <td>['petiab@poppacorncorp.com']</td>\n",
       "      <td>['[EXTERNAL] - RE: 2022 Summer Markdown Agreem...</td>\n",
       "      <td>['2022/10/05 19:44:47']</td>\n",
       "    </tr>\n",
       "    <tr>\n",
       "      <th>2441</th>\n",
       "      <td>OA</td>\n",
       "      <td>1274_DNT8659216.pdf</td>\n",
       "      <td>cantire-2022-10/_doc/4de7ce02d5c5bf2e92dc092be...</td>\n",
       "      <td>4de7ce02d5c5bf2e92dc092bebd7c495</td>\n",
       "      <td>4117743db093caf859d6d445fe59b8ab</td>\n",
       "      <td>['APSupport@cantire.com']</td>\n",
       "      <td>['CanAR@scj.com', 'BDimock@scj.com', 'nalsar@s...</td>\n",
       "      <td>['APSupport@cantire.com']</td>\n",
       "      <td>['[EXTERNAL] - 1274 CTC Debit/Credit Note Atta...</td>\n",
       "      <td>['2022/10/05 19:29:08']</td>\n",
       "    </tr>\n",
       "    <tr>\n",
       "      <th>2442</th>\n",
       "      <td>OA</td>\n",
       "      <td>1274_DNT8659216.pdf</td>\n",
       "      <td>cantire-2022-10/_doc/4de7ce02d5c5bf2e92dc092be...</td>\n",
       "      <td>4de7ce02d5c5bf2e92dc092bebd7c495</td>\n",
       "      <td>4117743db093caf859d6d445fe59b8ab</td>\n",
       "      <td>['APSupport@cantire.com']</td>\n",
       "      <td>['CanAR@scj.com', 'BDimock@scj.com', 'nalsar@s...</td>\n",
       "      <td>['APSupport@cantire.com']</td>\n",
       "      <td>['[EXTERNAL] - 1274 CTC Debit/Credit Note Atta...</td>\n",
       "      <td>['2022/10/05 19:29:08']</td>\n",
       "    </tr>\n",
       "    <tr>\n",
       "      <th>2443</th>\n",
       "      <td>OA</td>\n",
       "      <td>CTC_2022_Over_&amp;_Above_Agreement_-_Poppa_Corn_C...</td>\n",
       "      <td>cantire-2022-10/_doc/f29e00c5bfb38a567f130aadc...</td>\n",
       "      <td>f29e00c5bfb38a567f130aadcad5fc83</td>\n",
       "      <td>d235b8c188ea5951af2fc5f5541f8e7e</td>\n",
       "      <td>['gregh@poppacorncorp.com']</td>\n",
       "      <td>['Shelley.Silliker@cantire.com']</td>\n",
       "      <td>['petiab@poppacorncorp.com']</td>\n",
       "      <td>['[EXTERNAL] - RE: 2022 Summer Markdown Agreem...</td>\n",
       "      <td>['2022/10/05 19:44:47']</td>\n",
       "    </tr>\n",
       "    <tr>\n",
       "      <th>2444</th>\n",
       "      <td>OA</td>\n",
       "      <td>Andrea-Prima_OA_Contract_067_Q1_2022.pdf</td>\n",
       "      <td>cantire-2022-10/_doc/f09a6bbda3206359e8323a8fa...</td>\n",
       "      <td>f09a6bbda3206359e8323a8fa3a8639c</td>\n",
       "      <td>e52410aa1abf2d0b22f2b4ab669c0bf9</td>\n",
       "      <td>['Jiea.Jeong@cantire.com']</td>\n",
       "      <td>['Amanda.Lee@cantire.com']</td>\n",
       "      <td>['Bonnie.Choi@cantire.com', 'Sarah.Lackey@cant...</td>\n",
       "      <td>['[EXTERNAL] - RE: Prima Q1-O&amp;A Contract']</td>\n",
       "      <td>['2022/10/11 14:01:22']</td>\n",
       "    </tr>\n",
       "  </tbody>\n",
       "</table>\n",
       "</div>"
      ],
      "text/plain": [
       "     classification                                           Filename  \\\n",
       "2440             OA  CTC_2022_Over_&_Above_Agreement_-_Poppa_Corn_C...   \n",
       "2441             OA                                1274_DNT8659216.pdf   \n",
       "2442             OA                                1274_DNT8659216.pdf   \n",
       "2443             OA  CTC_2022_Over_&_Above_Agreement_-_Poppa_Corn_C...   \n",
       "2444             OA           Andrea-Prima_OA_Contract_067_Q1_2022.pdf   \n",
       "\n",
       "                                               FilePath  \\\n",
       "2440  cantire-2022-10/_doc/f29e00c5bfb38a567f130aadc...   \n",
       "2441  cantire-2022-10/_doc/4de7ce02d5c5bf2e92dc092be...   \n",
       "2442  cantire-2022-10/_doc/4de7ce02d5c5bf2e92dc092be...   \n",
       "2443  cantire-2022-10/_doc/f29e00c5bfb38a567f130aadc...   \n",
       "2444  cantire-2022-10/_doc/f09a6bbda3206359e8323a8fa...   \n",
       "\n",
       "                                   MD5                        Email Path  \\\n",
       "2440  f29e00c5bfb38a567f130aadcad5fc83  d235b8c188ea5951af2fc5f5541f8e7e   \n",
       "2441  4de7ce02d5c5bf2e92dc092bebd7c495  4117743db093caf859d6d445fe59b8ab   \n",
       "2442  4de7ce02d5c5bf2e92dc092bebd7c495  4117743db093caf859d6d445fe59b8ab   \n",
       "2443  f29e00c5bfb38a567f130aadcad5fc83  d235b8c188ea5951af2fc5f5541f8e7e   \n",
       "2444  f09a6bbda3206359e8323a8fa3a8639c  e52410aa1abf2d0b22f2b4ab669c0bf9   \n",
       "\n",
       "                             from  \\\n",
       "2440  ['gregh@poppacorncorp.com']   \n",
       "2441    ['APSupport@cantire.com']   \n",
       "2442    ['APSupport@cantire.com']   \n",
       "2443  ['gregh@poppacorncorp.com']   \n",
       "2444   ['Jiea.Jeong@cantire.com']   \n",
       "\n",
       "                                                     to  \\\n",
       "2440                   ['Shelley.Silliker@cantire.com']   \n",
       "2441  ['CanAR@scj.com', 'BDimock@scj.com', 'nalsar@s...   \n",
       "2442  ['CanAR@scj.com', 'BDimock@scj.com', 'nalsar@s...   \n",
       "2443                   ['Shelley.Silliker@cantire.com']   \n",
       "2444                         ['Amanda.Lee@cantire.com']   \n",
       "\n",
       "                                                     cc  \\\n",
       "2440                       ['petiab@poppacorncorp.com']   \n",
       "2441                          ['APSupport@cantire.com']   \n",
       "2442                          ['APSupport@cantire.com']   \n",
       "2443                       ['petiab@poppacorncorp.com']   \n",
       "2444  ['Bonnie.Choi@cantire.com', 'Sarah.Lackey@cant...   \n",
       "\n",
       "                                                subject  \\\n",
       "2440  ['[EXTERNAL] - RE: 2022 Summer Markdown Agreem...   \n",
       "2441  ['[EXTERNAL] - 1274 CTC Debit/Credit Note Atta...   \n",
       "2442  ['[EXTERNAL] - 1274 CTC Debit/Credit Note Atta...   \n",
       "2443  ['[EXTERNAL] - RE: 2022 Summer Markdown Agreem...   \n",
       "2444         ['[EXTERNAL] - RE: Prima Q1-O&A Contract']   \n",
       "\n",
       "                   email_date  \n",
       "2440  ['2022/10/05 19:44:47']  \n",
       "2441  ['2022/10/05 19:29:08']  \n",
       "2442  ['2022/10/05 19:29:08']  \n",
       "2443  ['2022/10/05 19:44:47']  \n",
       "2444  ['2022/10/11 14:01:22']  "
      ]
     },
     "execution_count": 43,
     "metadata": {},
     "output_type": "execute_result"
    }
   ],
   "source": [
    "dff.tail()"
   ]
  },
  {
   "cell_type": "code",
   "execution_count": 44,
   "metadata": {},
   "outputs": [],
   "source": [
    "dff.to_csv(\"AUG-OCT-OA-CD.csv\")"
   ]
  },
  {
   "cell_type": "code",
   "execution_count": 45,
   "metadata": {},
   "outputs": [
    {
     "data": {
      "text/html": [
       "<div>\n",
       "<style scoped>\n",
       "    .dataframe tbody tr th:only-of-type {\n",
       "        vertical-align: middle;\n",
       "    }\n",
       "\n",
       "    .dataframe tbody tr th {\n",
       "        vertical-align: top;\n",
       "    }\n",
       "\n",
       "    .dataframe thead th {\n",
       "        text-align: right;\n",
       "    }\n",
       "</style>\n",
       "<table border=\"1\" class=\"dataframe\">\n",
       "  <thead>\n",
       "    <tr style=\"text-align: right;\">\n",
       "      <th></th>\n",
       "      <th>Unnamed: 0</th>\n",
       "      <th>classification</th>\n",
       "      <th>Filename</th>\n",
       "      <th>FilePath</th>\n",
       "      <th>MD5</th>\n",
       "      <th>Email Path</th>\n",
       "      <th>from</th>\n",
       "      <th>to</th>\n",
       "      <th>cc</th>\n",
       "      <th>subject</th>\n",
       "      <th>email_date</th>\n",
       "    </tr>\n",
       "  </thead>\n",
       "  <tbody>\n",
       "    <tr>\n",
       "      <th>0</th>\n",
       "      <td>0</td>\n",
       "      <td>OA</td>\n",
       "      <td>22-0351-G48P-114.pdf</td>\n",
       "      <td>cantire-2022-08/_doc/39f58eb48812784b6e38fcb37...</td>\n",
       "      <td>39f58eb48812784b6e38fcb3721834d4</td>\n",
       "      <td>fd46d4149eb7798b576ce097949eebe5</td>\n",
       "      <td>[]</td>\n",
       "      <td>[]</td>\n",
       "      <td>[]</td>\n",
       "      <td>[]</td>\n",
       "      <td>[]</td>\n",
       "    </tr>\n",
       "    <tr>\n",
       "      <th>1</th>\n",
       "      <td>1</td>\n",
       "      <td>OA</td>\n",
       "      <td>22-0349-G48P-114.pdf</td>\n",
       "      <td>cantire-2022-08/_doc/531dfc97145f6ebbc18870b1b...</td>\n",
       "      <td>531dfc97145f6ebbc18870b1b7015d99</td>\n",
       "      <td>fd46d4149eb7798b576ce097949eebe5</td>\n",
       "      <td>[]</td>\n",
       "      <td>[]</td>\n",
       "      <td>[]</td>\n",
       "      <td>[]</td>\n",
       "      <td>[]</td>\n",
       "    </tr>\n",
       "    <tr>\n",
       "      <th>2</th>\n",
       "      <td>2</td>\n",
       "      <td>OA</td>\n",
       "      <td>22-0346-G48P-114.pdf</td>\n",
       "      <td>cantire-2022-08/_doc/d38a2de9a71ae4f3b6e359c16...</td>\n",
       "      <td>d38a2de9a71ae4f3b6e359c1603d5c72</td>\n",
       "      <td>fd46d4149eb7798b576ce097949eebe5</td>\n",
       "      <td>[]</td>\n",
       "      <td>[]</td>\n",
       "      <td>[]</td>\n",
       "      <td>[]</td>\n",
       "      <td>[]</td>\n",
       "    </tr>\n",
       "    <tr>\n",
       "      <th>3</th>\n",
       "      <td>3</td>\n",
       "      <td>OA</td>\n",
       "      <td>22-0344-G48P-114.pdf</td>\n",
       "      <td>cantire-2022-08/_doc/159c408b89896a00f3dc6c57d...</td>\n",
       "      <td>159c408b89896a00f3dc6c57d0c66bbe</td>\n",
       "      <td>fd46d4149eb7798b576ce097949eebe5</td>\n",
       "      <td>[]</td>\n",
       "      <td>[]</td>\n",
       "      <td>[]</td>\n",
       "      <td>[]</td>\n",
       "      <td>[]</td>\n",
       "    </tr>\n",
       "    <tr>\n",
       "      <th>4</th>\n",
       "      <td>4</td>\n",
       "      <td>OA</td>\n",
       "      <td>22-0348-G48P-114.pdf</td>\n",
       "      <td>cantire-2022-08/_doc/3b4c529c842bfd1fd48477ac3...</td>\n",
       "      <td>3b4c529c842bfd1fd48477ac3e1641a4</td>\n",
       "      <td>fd46d4149eb7798b576ce097949eebe5</td>\n",
       "      <td>[]</td>\n",
       "      <td>[]</td>\n",
       "      <td>[]</td>\n",
       "      <td>[]</td>\n",
       "      <td>[]</td>\n",
       "    </tr>\n",
       "    <tr>\n",
       "      <th>...</th>\n",
       "      <td>...</td>\n",
       "      <td>...</td>\n",
       "      <td>...</td>\n",
       "      <td>...</td>\n",
       "      <td>...</td>\n",
       "      <td>...</td>\n",
       "      <td>...</td>\n",
       "      <td>...</td>\n",
       "      <td>...</td>\n",
       "      <td>...</td>\n",
       "      <td>...</td>\n",
       "    </tr>\n",
       "    <tr>\n",
       "      <th>2440</th>\n",
       "      <td>2440</td>\n",
       "      <td>OA</td>\n",
       "      <td>CTC_2022_Over_&amp;_Above_Agreement_-_Poppa_Corn_C...</td>\n",
       "      <td>cantire-2022-10/_doc/f29e00c5bfb38a567f130aadc...</td>\n",
       "      <td>f29e00c5bfb38a567f130aadcad5fc83</td>\n",
       "      <td>d235b8c188ea5951af2fc5f5541f8e7e</td>\n",
       "      <td>['gregh@poppacorncorp.com']</td>\n",
       "      <td>['Shelley.Silliker@cantire.com']</td>\n",
       "      <td>['petiab@poppacorncorp.com']</td>\n",
       "      <td>['[EXTERNAL] - RE: 2022 Summer Markdown Agreem...</td>\n",
       "      <td>['2022/10/05 19:44:47']</td>\n",
       "    </tr>\n",
       "    <tr>\n",
       "      <th>2441</th>\n",
       "      <td>2441</td>\n",
       "      <td>OA</td>\n",
       "      <td>1274_DNT8659216.pdf</td>\n",
       "      <td>cantire-2022-10/_doc/4de7ce02d5c5bf2e92dc092be...</td>\n",
       "      <td>4de7ce02d5c5bf2e92dc092bebd7c495</td>\n",
       "      <td>4117743db093caf859d6d445fe59b8ab</td>\n",
       "      <td>['APSupport@cantire.com']</td>\n",
       "      <td>['CanAR@scj.com', 'BDimock@scj.com', 'nalsar@s...</td>\n",
       "      <td>['APSupport@cantire.com']</td>\n",
       "      <td>['[EXTERNAL] - 1274 CTC Debit/Credit Note Atta...</td>\n",
       "      <td>['2022/10/05 19:29:08']</td>\n",
       "    </tr>\n",
       "    <tr>\n",
       "      <th>2442</th>\n",
       "      <td>2442</td>\n",
       "      <td>OA</td>\n",
       "      <td>1274_DNT8659216.pdf</td>\n",
       "      <td>cantire-2022-10/_doc/4de7ce02d5c5bf2e92dc092be...</td>\n",
       "      <td>4de7ce02d5c5bf2e92dc092bebd7c495</td>\n",
       "      <td>4117743db093caf859d6d445fe59b8ab</td>\n",
       "      <td>['APSupport@cantire.com']</td>\n",
       "      <td>['CanAR@scj.com', 'BDimock@scj.com', 'nalsar@s...</td>\n",
       "      <td>['APSupport@cantire.com']</td>\n",
       "      <td>['[EXTERNAL] - 1274 CTC Debit/Credit Note Atta...</td>\n",
       "      <td>['2022/10/05 19:29:08']</td>\n",
       "    </tr>\n",
       "    <tr>\n",
       "      <th>2443</th>\n",
       "      <td>2443</td>\n",
       "      <td>OA</td>\n",
       "      <td>CTC_2022_Over_&amp;_Above_Agreement_-_Poppa_Corn_C...</td>\n",
       "      <td>cantire-2022-10/_doc/f29e00c5bfb38a567f130aadc...</td>\n",
       "      <td>f29e00c5bfb38a567f130aadcad5fc83</td>\n",
       "      <td>d235b8c188ea5951af2fc5f5541f8e7e</td>\n",
       "      <td>['gregh@poppacorncorp.com']</td>\n",
       "      <td>['Shelley.Silliker@cantire.com']</td>\n",
       "      <td>['petiab@poppacorncorp.com']</td>\n",
       "      <td>['[EXTERNAL] - RE: 2022 Summer Markdown Agreem...</td>\n",
       "      <td>['2022/10/05 19:44:47']</td>\n",
       "    </tr>\n",
       "    <tr>\n",
       "      <th>2444</th>\n",
       "      <td>2444</td>\n",
       "      <td>OA</td>\n",
       "      <td>Andrea-Prima_OA_Contract_067_Q1_2022.pdf</td>\n",
       "      <td>cantire-2022-10/_doc/f09a6bbda3206359e8323a8fa...</td>\n",
       "      <td>f09a6bbda3206359e8323a8fa3a8639c</td>\n",
       "      <td>e52410aa1abf2d0b22f2b4ab669c0bf9</td>\n",
       "      <td>['Jiea.Jeong@cantire.com']</td>\n",
       "      <td>['Amanda.Lee@cantire.com']</td>\n",
       "      <td>['Bonnie.Choi@cantire.com', 'Sarah.Lackey@cant...</td>\n",
       "      <td>['[EXTERNAL] - RE: Prima Q1-O&amp;A Contract']</td>\n",
       "      <td>['2022/10/11 14:01:22']</td>\n",
       "    </tr>\n",
       "  </tbody>\n",
       "</table>\n",
       "<p>2445 rows × 11 columns</p>\n",
       "</div>"
      ],
      "text/plain": [
       "      Unnamed: 0 classification  \\\n",
       "0              0             OA   \n",
       "1              1             OA   \n",
       "2              2             OA   \n",
       "3              3             OA   \n",
       "4              4             OA   \n",
       "...          ...            ...   \n",
       "2440        2440             OA   \n",
       "2441        2441             OA   \n",
       "2442        2442             OA   \n",
       "2443        2443             OA   \n",
       "2444        2444             OA   \n",
       "\n",
       "                                               Filename  \\\n",
       "0                                  22-0351-G48P-114.pdf   \n",
       "1                                  22-0349-G48P-114.pdf   \n",
       "2                                  22-0346-G48P-114.pdf   \n",
       "3                                  22-0344-G48P-114.pdf   \n",
       "4                                  22-0348-G48P-114.pdf   \n",
       "...                                                 ...   \n",
       "2440  CTC_2022_Over_&_Above_Agreement_-_Poppa_Corn_C...   \n",
       "2441                                1274_DNT8659216.pdf   \n",
       "2442                                1274_DNT8659216.pdf   \n",
       "2443  CTC_2022_Over_&_Above_Agreement_-_Poppa_Corn_C...   \n",
       "2444           Andrea-Prima_OA_Contract_067_Q1_2022.pdf   \n",
       "\n",
       "                                               FilePath  \\\n",
       "0     cantire-2022-08/_doc/39f58eb48812784b6e38fcb37...   \n",
       "1     cantire-2022-08/_doc/531dfc97145f6ebbc18870b1b...   \n",
       "2     cantire-2022-08/_doc/d38a2de9a71ae4f3b6e359c16...   \n",
       "3     cantire-2022-08/_doc/159c408b89896a00f3dc6c57d...   \n",
       "4     cantire-2022-08/_doc/3b4c529c842bfd1fd48477ac3...   \n",
       "...                                                 ...   \n",
       "2440  cantire-2022-10/_doc/f29e00c5bfb38a567f130aadc...   \n",
       "2441  cantire-2022-10/_doc/4de7ce02d5c5bf2e92dc092be...   \n",
       "2442  cantire-2022-10/_doc/4de7ce02d5c5bf2e92dc092be...   \n",
       "2443  cantire-2022-10/_doc/f29e00c5bfb38a567f130aadc...   \n",
       "2444  cantire-2022-10/_doc/f09a6bbda3206359e8323a8fa...   \n",
       "\n",
       "                                   MD5                        Email Path  \\\n",
       "0     39f58eb48812784b6e38fcb3721834d4  fd46d4149eb7798b576ce097949eebe5   \n",
       "1     531dfc97145f6ebbc18870b1b7015d99  fd46d4149eb7798b576ce097949eebe5   \n",
       "2     d38a2de9a71ae4f3b6e359c1603d5c72  fd46d4149eb7798b576ce097949eebe5   \n",
       "3     159c408b89896a00f3dc6c57d0c66bbe  fd46d4149eb7798b576ce097949eebe5   \n",
       "4     3b4c529c842bfd1fd48477ac3e1641a4  fd46d4149eb7798b576ce097949eebe5   \n",
       "...                                ...                               ...   \n",
       "2440  f29e00c5bfb38a567f130aadcad5fc83  d235b8c188ea5951af2fc5f5541f8e7e   \n",
       "2441  4de7ce02d5c5bf2e92dc092bebd7c495  4117743db093caf859d6d445fe59b8ab   \n",
       "2442  4de7ce02d5c5bf2e92dc092bebd7c495  4117743db093caf859d6d445fe59b8ab   \n",
       "2443  f29e00c5bfb38a567f130aadcad5fc83  d235b8c188ea5951af2fc5f5541f8e7e   \n",
       "2444  f09a6bbda3206359e8323a8fa3a8639c  e52410aa1abf2d0b22f2b4ab669c0bf9   \n",
       "\n",
       "                             from  \\\n",
       "0                              []   \n",
       "1                              []   \n",
       "2                              []   \n",
       "3                              []   \n",
       "4                              []   \n",
       "...                           ...   \n",
       "2440  ['gregh@poppacorncorp.com']   \n",
       "2441    ['APSupport@cantire.com']   \n",
       "2442    ['APSupport@cantire.com']   \n",
       "2443  ['gregh@poppacorncorp.com']   \n",
       "2444   ['Jiea.Jeong@cantire.com']   \n",
       "\n",
       "                                                     to  \\\n",
       "0                                                    []   \n",
       "1                                                    []   \n",
       "2                                                    []   \n",
       "3                                                    []   \n",
       "4                                                    []   \n",
       "...                                                 ...   \n",
       "2440                   ['Shelley.Silliker@cantire.com']   \n",
       "2441  ['CanAR@scj.com', 'BDimock@scj.com', 'nalsar@s...   \n",
       "2442  ['CanAR@scj.com', 'BDimock@scj.com', 'nalsar@s...   \n",
       "2443                   ['Shelley.Silliker@cantire.com']   \n",
       "2444                         ['Amanda.Lee@cantire.com']   \n",
       "\n",
       "                                                     cc  \\\n",
       "0                                                    []   \n",
       "1                                                    []   \n",
       "2                                                    []   \n",
       "3                                                    []   \n",
       "4                                                    []   \n",
       "...                                                 ...   \n",
       "2440                       ['petiab@poppacorncorp.com']   \n",
       "2441                          ['APSupport@cantire.com']   \n",
       "2442                          ['APSupport@cantire.com']   \n",
       "2443                       ['petiab@poppacorncorp.com']   \n",
       "2444  ['Bonnie.Choi@cantire.com', 'Sarah.Lackey@cant...   \n",
       "\n",
       "                                                subject  \\\n",
       "0                                                    []   \n",
       "1                                                    []   \n",
       "2                                                    []   \n",
       "3                                                    []   \n",
       "4                                                    []   \n",
       "...                                                 ...   \n",
       "2440  ['[EXTERNAL] - RE: 2022 Summer Markdown Agreem...   \n",
       "2441  ['[EXTERNAL] - 1274 CTC Debit/Credit Note Atta...   \n",
       "2442  ['[EXTERNAL] - 1274 CTC Debit/Credit Note Atta...   \n",
       "2443  ['[EXTERNAL] - RE: 2022 Summer Markdown Agreem...   \n",
       "2444         ['[EXTERNAL] - RE: Prima Q1-O&A Contract']   \n",
       "\n",
       "                   email_date  \n",
       "0                          []  \n",
       "1                          []  \n",
       "2                          []  \n",
       "3                          []  \n",
       "4                          []  \n",
       "...                       ...  \n",
       "2440  ['2022/10/05 19:44:47']  \n",
       "2441  ['2022/10/05 19:29:08']  \n",
       "2442  ['2022/10/05 19:29:08']  \n",
       "2443  ['2022/10/05 19:44:47']  \n",
       "2444  ['2022/10/11 14:01:22']  \n",
       "\n",
       "[2445 rows x 11 columns]"
      ]
     },
     "execution_count": 45,
     "metadata": {},
     "output_type": "execute_result"
    }
   ],
   "source": [
    "d = pd.read_csv(\"AUG-OCT-OA-CD.csv\")\n",
    "d"
   ]
  },
  {
   "cell_type": "code",
   "execution_count": null,
   "metadata": {},
   "outputs": [],
   "source": []
  }
 ],
 "metadata": {
  "kernelspec": {
   "display_name": "Python 3",
   "language": "python",
   "name": "python3"
  },
  "language_info": {
   "codemirror_mode": {
    "name": "ipython",
    "version": 3
   },
   "file_extension": ".py",
   "mimetype": "text/x-python",
   "name": "python",
   "nbconvert_exporter": "python",
   "pygments_lexer": "ipython3",
   "version": "3.7.3"
  }
 },
 "nbformat": 4,
 "nbformat_minor": 2
}
