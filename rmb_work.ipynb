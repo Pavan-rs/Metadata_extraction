{
 "cells": [
  {
   "cell_type": "code",
   "execution_count": 56,
   "metadata": {},
   "outputs": [],
   "source": [
    "from elasticsearch import Elasticsearch\n",
    "import json\n",
    "from elasticsearch.helpers import scan\n",
    "from elasticsearch_dsl import Search,Q\n",
    "from credentials import usr_pwd"
   ]
  },
  {
   "cell_type": "code",
   "execution_count": 10,
   "metadata": {},
   "outputs": [],
   "source": [
    "hosts = [\"10.1.8.6:9200\"]\n",
    "user,pas = usr_pwd()"
   ]
  },
  {
   "cell_type": "code",
   "execution_count": 11,
   "metadata": {},
   "outputs": [],
   "source": [
    "es = Elasticsearch(hosts,\n",
    "                  timeout = 6000,\n",
    "                  use_ssl = True,\n",
    "                  verify_certs = False,\n",
    "                  ssl_show_warn = False,\n",
    "                  raise_on_error = False,\n",
    "                  http_auth = (user,pas)\n",
    "                  )"
   ]
  },
  {
   "cell_type": "code",
   "execution_count": 12,
   "metadata": {},
   "outputs": [
    {
     "data": {
      "text/plain": [
       "True"
      ]
     },
     "execution_count": 12,
     "metadata": {},
     "output_type": "execute_result"
    }
   ],
   "source": [
    "es.ping()"
   ]
  },
  {
   "cell_type": "code",
   "execution_count": 5,
   "metadata": {},
   "outputs": [
    {
     "name": "stderr",
     "output_type": "stream",
     "text": [
      "/opt/anaconda3/lib/python3.7/site-packages/ipykernel_launcher.py:25: DeprecationWarning: The 'body' parameter is deprecated for the 'search' API and will be removed in a future version. Instead use API parameters directly. See https://github.com/elastic/elasticsearch-py/issues/1698 for more information\n"
     ]
    },
    {
     "name": "stdout",
     "output_type": "stream",
     "text": [
      "996\n"
     ]
    }
   ],
   "source": [
    "body = {\n",
    "    \"size\":1000,\n",
    "    \"query\":{\n",
    "        \"bool\":{\n",
    "#             \"filter\":{\n",
    "#                 \"exists\":{\n",
    "#                     \"field\":\"Attachment\"\n",
    "#                 }\n",
    "#             },\n",
    "            \"must\":[\n",
    "                {\n",
    "                \"match_phrase\":{\n",
    "                    \"content\":\"rmb devaluation\"\n",
    "                }\n",
    "            }\n",
    "#             ,{\n",
    "#                 \"match_phrase_prefix\":{\n",
    "#                     \"fileType\":\"pdf\"\n",
    "#                 }\n",
    "#             }\n",
    "            ]\n",
    "        }\n",
    "    }\n",
    "}\n",
    "res = es.search(index=[\"*\"],body=body)\n",
    "print(len(res[\"hits\"][\"hits\"]))"
   ]
  },
  {
   "cell_type": "code",
   "execution_count": null,
   "metadata": {},
   "outputs": [],
   "source": [
    "# res[\"hits\"][\"hits\"][0]"
   ]
  },
  {
   "cell_type": "code",
   "execution_count": null,
   "metadata": {},
   "outputs": [],
   "source": []
  },
  {
   "cell_type": "code",
   "execution_count": null,
   "metadata": {},
   "outputs": [],
   "source": []
  },
  {
   "cell_type": "code",
   "execution_count": null,
   "metadata": {},
   "outputs": [],
   "source": []
  },
  {
   "cell_type": "code",
   "execution_count": null,
   "metadata": {},
   "outputs": [],
   "source": []
  },
  {
   "cell_type": "code",
   "execution_count": null,
   "metadata": {},
   "outputs": [],
   "source": []
  },
  {
   "cell_type": "code",
   "execution_count": null,
   "metadata": {},
   "outputs": [],
   "source": []
  },
  {
   "cell_type": "code",
   "execution_count": null,
   "metadata": {},
   "outputs": [],
   "source": []
  },
  {
   "cell_type": "code",
   "execution_count": null,
   "metadata": {},
   "outputs": [],
   "source": []
  },
  {
   "cell_type": "markdown",
   "metadata": {},
   "source": [
    "## Extracting metadata based on phrase"
   ]
  },
  {
   "cell_type": "code",
   "execution_count": 13,
   "metadata": {},
   "outputs": [],
   "source": [
    "body = {\n",
    "    \"size\":5000,\n",
    "    \"query\":{\n",
    "        \"bool\":{\n",
    "            \"must\":[{\n",
    "                \"match_phrase_prefix\":{\n",
    "                    \"content\":\"For 97 years, Canadian Tire Retail\"\n",
    "#                     \"content\":\"For 97 years, Canadian Tire Retail has maintained a strong relationship with its customers from coast-to-coast.\"\n",
    "#                     \"content\":\"For 97 years, Canadian Tire Retail has maintained a strong relationship with its customers from coast-to-coast.  As the retail market evolves and competition increases, we have been investing to build improved customer acquisition capabilities within our organization. These developing capabilities have played a key role in delivering 21 consecutive quarters of growth at CTR.  Our success is due in large part to incremental investments we are making to aggressively market new customer-centric vehicles that enable us to connect with and reward customers in new ways and build loyalty to drive sustainable growth. At the same time, we are investing in our traditional vehicles that continue to deliver strong results. As our relevance with our customers has grown, so has our collective business.\"\n",
    "                }\n",
    "            },\n",
    "            {\n",
    "                \"match_phrase_prefix\":{\n",
    "                    \"fileType\":\"Email\"\n",
    "                }\n",
    "            }]\n",
    "        }\n",
    "    }\n",
    "}"
   ]
  },
  {
   "cell_type": "code",
   "execution_count": 15,
   "metadata": {},
   "outputs": [
    {
     "name": "stderr",
     "output_type": "stream",
     "text": [
      "/opt/anaconda3/lib/python3.7/site-packages/ipykernel_launcher.py:1: DeprecationWarning: The 'body' parameter is deprecated for the 'search' API and will be removed in a future version. Instead use API parameters directly. See https://github.com/elastic/elasticsearch-py/issues/1698 for more information\n",
      "  \"\"\"Entry point for launching an IPython kernel.\n"
     ]
    },
    {
     "name": "stdout",
     "output_type": "stream",
     "text": [
      "2493\n"
     ]
    }
   ],
   "source": [
    "res = es.search(index=[\"cantire-2020-*\",\"cantire-2021-*\"],body=body)\n",
    "print(len(res[\"hits\"][\"hits\"]))\n",
    "\n",
    "#2222 - match_phrase_prefix for cantire-202*\n",
    "#878 - cantire-2020*,cantire-2021* - full phrase\n",
    "#2035 - first sentence with above index.\n",
    "#2493 - for short phrase (\"For 97 years, Canadian Tire Retail\")"
   ]
  },
  {
   "cell_type": "code",
   "execution_count": 61,
   "metadata": {},
   "outputs": [
    {
     "data": {
      "text/plain": [
       "{'content': 'Hi Tina,\\r\\n\\r\\nWe received the approval information from your vendor support team about the change. Thank you.\\r\\n\\r\\n\\r\\n\\r\\nBest regards,\\r\\nHayley Xu \\r\\n\\r\\n\\r\\n\\r\\nShanghai Greatway Industry Co.,Ltd\\r\\nTel:  +86-021-64501185 ext 6532\\r\\nFax: +86-021-64508336\\r\\nMobile:+86-18721829914\\r\\nWeb: www.guangwei-china.com \\r\\n \\r\\n----- Original Message -----\\r\\nFrom：Hayley Xu\\r\\nDate：2020-09-04 16:09\\r\\nSubject：Re: RE: RE: RE: Re: 1% Vendor Fund Initiative - CT investment and Vendor support\\r\\nTo：Tina Zhang\\r\\n\\r\\nHi Tina,\\r\\n\\r\\nThanks for your information.\\r\\n\\r\\nThe terms is revised and resubmitted. Please help to check it , thank you.\\r\\n\\r\\n\\r\\nBest regards,\\r\\nHayley Xu \\r\\n\\r\\n\\r\\n\\r\\nShanghai Greatway Industry Co.,Ltd\\r\\nTel:  +86-021-64501185 ext 6532\\r\\nFax: +86-021-64508336\\r\\nMobile:+86-18721829914\\r\\nWeb: www.guangwei-china.com \\r\\n  \\r\\n----- Original Message -----\\r\\nFrom：Tina Zhang\\r\\nDate：2020-09-04 09:23\\r\\nSubject：RE: RE: RE: Re: 1% Vendor Fund Initiative - CT investment and Vendor support\\r\\nTo：Hayley Xu\\r\\n\\r\\nHi Hayley,\\r\\n \\r\\nIt seems the updated VSF terms didn’t be approved yet, could you pls resubmit the changes once again?\\r\\n \\r\\nAdding 1% into the advertising terms and change the effective date to 01/01/2020, let me know when you have done.\\r\\n \\r\\n\\r\\n \\r\\nThanks,\\r\\n\\r\\n\\r\\n\\r\\nTina Zhang   |   Assistant Merchandiser   |   CTC Triangle (Shanghai) Trading Co., Ltd |   T: 21-63849988 ext 847\\r\\n \\r\\nFrom: Hayley Xu <s24@guangwei-china.com> \\r\\nSent: December 18, 2019 4:36 PM\\r\\nTo: Tina Zhang <Tina.Zhang@cantire.com>\\r\\nSubject: Re: RE: RE: Re: 1% Vendor Fund Initiative - CT investment and Vendor support\\r\\n \\r\\nHi Tina,\\r\\n \\r\\nThanks for your quick response.\\r\\n \\r\\nI will stay focus on it till it is approval by your team.\\r\\n \\r\\nBest regards,\\r\\nHayley Xu \\r\\n \\r\\n\\r\\n \\r\\nShanghai Greatway Industry Co.,Ltd\\r\\nTel:  +86-021-64501185 ext 6532\\r\\nFax: +86-021-64508336\\r\\nMobile:+86-18721829914\\r\\nWeb: www.guangwei-china.com \\r\\n \\r\\n----- Original Message -----\\r\\nFrom：Tina Zhang\\r\\nDate：2019-12-18 16:15\\r\\nSubject：RE: RE: Re: 1% Vendor Fund Initiative - CT investment and Vendor support\\r\\nTo：Hayley Xu\\r\\n \\r\\nThanks Hayley.\\r\\n \\r\\nPls kindly further follow up until our Vendor Support Team approved your changes ( the approval notification will be sent to Jenny’s email address automatically), then we can see the changes in system.\\r\\n \\r\\nBest Regards,\\r\\n\\r\\n\\r\\n\\r\\nTina Zhang   |   Assistant Merchandiser   |   CTC Triangle (Shanghai) Trading Co., Ltd |   T: 21-63849988 ext 847\\r\\n \\r\\nFrom: Hayley Xu <s24@guangwei-china.com> \\r\\nSent: December 18, 2019 4:10 PM\\r\\nTo: Tina Zhang <Tina.Zhang@cantire.com>\\r\\nSubject: Re: RE: Re: 1% Vendor Fund Initiative - CT investment and Vendor support\\r\\n \\r\\nHi Tina,\\r\\n \\r\\nThanks for your information.\\r\\n \\r\\nThe terms and effective date have been updated already. \\r\\n \\r\\nBest regards,\\r\\nHayley Xu \\r\\n \\r\\n\\r\\n \\r\\nShanghai Greatway Industry Co.,Ltd\\r\\nTel:  +86-021-64501185 ext 6532\\r\\nFax: +86-021-64508336\\r\\nMobile:+86-18721829914\\r\\nWeb: www.guangwei-china.com \\r\\n \\r\\n----- Original Message -----\\r\\nFrom：Tina Zhang\\r\\nDate：2019-12-18 15:27\\r\\nSubject：RE: Re: 1% Vendor Fund Initiative - CT investment and Vendor support\\r\\nTo：Hayley Xu\\r\\n \\r\\nFYI.\\r\\n \\r\\nBest Regards,\\r\\n\\r\\n\\r\\n\\r\\nTina Zhang   |   Assistant Merchandiser   |   CTC Triangle (Shanghai) Trading Co., Ltd |   T: 21-63849988 ext 847\\r\\n \\r\\nFrom: Tina Zhang \\r\\nSent: December 16, 2019 12:04 PM\\r\\nTo: Hayley Xu <s24@guangwei-china.com>\\r\\nCc: Victoria Sun <Victoria.Sun@cantire.com>; Eva Hou <Eva.Hou@cantire.com>\\r\\nSubject: RE: Re: 1% Vendor Fund Initiative - CT investment and Vendor support\\r\\n \\r\\nHi Hayley,\\r\\n \\r\\nThanks for the 1% support.\\r\\n \\r\\nCould you pls update the advertising program and also revise the effective date to Jan 1st, 2020 in your FOB profile?\\r\\n \\r\\n\\r\\n \\r\\nThank you.\\r\\n \\r\\nBest Regards,\\r\\n\\r\\n\\r\\n\\r\\nTina Zhang   |   Assistant Merchandiser   |   CTC Triangle (Shanghai) Trading Co., Ltd |   T: 21-63849988 ext 847\\r\\n \\r\\nFrom: Hayley Xu <s24@guangwei-china.com> \\r\\nSent: December 13, 2019 11:22 AM\\r\\nTo: Eva Hou <Eva.Hou@cantire.com>\\r\\nCc: Tina Zhang <Tina.Zhang@cantire.com>; Victoria Sun <Victoria.Sun@cantire.com>\\r\\nSubject: Re: Re: 1% Vendor Fund Initiative - CT investment and Vendor support\\r\\n \\r\\nHi Eva,\\r\\n \\r\\nAfter applying, to support CTC investment, we offer 1% support. \\r\\n \\r\\nMeanwhile, please kindly find update price for booster cable as attached.\\r\\n \\r\\nBest regards,\\r\\nHayley Xu \\r\\n \\r\\n\\r\\n \\r\\nShanghai Greatway Industry Co.,Ltd\\r\\nTel:  +86-021-64501185 ext 6532\\r\\nFax: +86-021-64508336\\r\\nMobile:+86-18721829914\\r\\nWeb: www.guangwei-china.com \\r\\n \\r\\n----- Original Message -----\\r\\nFrom：Hayley Xu\\r\\nDate：2019-11-02 17:30\\r\\nSubject：Re: 1% Vendor Fund Initiative - CT investment and Vendor support\\r\\nTo：Eva Hou\\r\\nCC：Victoria Sun; Tina Zhang; John Liu; Jenny Wang; Sherry Xue\\r\\n \\r\\nHi Eva,\\r\\n \\r\\nThanks for your detailed information. We fully respect you taking a broad and long-term view both on maintaining strong and close relationship with customers and investing on new customers. There is no doubt that these investments will achieve significant results, and we hope the project will be successful.\\r\\n \\r\\nThis year we are suffering more complicated situation at the moment, for example the tariff of America, the rebate rate reduced 3%, and the demand shrinking of the booster cable. To be honest, benefit that the exchange rate helps us a little to balance all of those serious situation, but we know it is not stable. So, we are doing more efforts on improving production efficiency and new products development. However, we believe that with the support from you, Greatway will keep going up as before, and this time we also show our hand to rebate 0.5% of each order amount for your new project. We appreciate your business. \\r\\n \\r\\nThanks and have a good weekend!\\r\\n \\r\\nBest regards,\\r\\nHayley Xu \\r\\n \\r\\n\\r\\n \\r\\nShanghai Greatway Industry Co.,Ltd\\r\\nTel:  +86-021-64501185 ext 6532\\r\\nFax: +86-021-64508336\\r\\nMobile:+86-18721829914\\r\\nWeb: www.guangwei-china.com \\r\\n \\r\\n----- Original Message -----\\r\\nFrom：Eva Hou\\r\\nDate：2019-10-17 14:42\\r\\nSubject：1% Vendor Fund Initiative - CT investment and Vendor support\\r\\nTo：John Liu; Jenny Wang; Hayley Xu\\r\\nCC：Victoria Sun; Tina Zhang\\r\\n \\r\\nHi Jenny/John,\\r\\n \\r\\nSorry to advise you that Sergio prefer the due date to be Jan 1st, 2020. Please kindly confirm whether you can accept it. \\r\\n \\r\\nEva Hou\\r\\nTel: (86) 21 63849988 ext 815\\r\\n \\r\\nFrom: Eva Hou \\r\\nSent: October 10, 2019 4:24 PM\\r\\nTo: John Liu <s19@guangwei-china.com>; Jenny Wang <s20@guangwei-china.com>; Hayley Xu <s24@guangwei-china.com>\\r\\nCc: Victoria Sun <Victoria.Sun@cantire.com>; Tina Zhang <Tina.Zhang@cantire.com>; Jennifer Mercier <Jennifer.Mercier@cantire.com>\\r\\nSubject: 1% Vendor Fund Initiative - CT investment and Vendor support\\r\\n \\r\\nDear Jenny/John,\\r\\n \\r\\nFor 97 years, Canadian Tire Retail has maintained a strong relationship with its customers from coast-to-coast.  As the retail market evolves and competition increases, we have been investing to build improved customer acquisition capabilities within our organization. These developing capabilities have played a key role in delivering 21 consecutive quarters of growth at CTR. \\r\\n \\r\\nOur success is due in large part to incremental investments we are making to aggressively market new customer-centric vehicles that enable us to connect with and reward customers in new ways and build loyalty to drive sustainable growth. At the same time, we are investing in our traditional vehicles that continue to deliver strong results. As our relevance with our customers has grown, so has our collective business. \\r\\n \\r\\nTo support these incremental investments, we are looking for an increase in your support as outlined in the attached document, “CT Investments and Vendor Funds”.  \\r\\nThe effective date for this increase in support is :\\r\\nSS 21 reviews - - Effective date Oct 1, 2020 (Invoice date) \\r\\nOut of cycle negotiations - - latest effective date April 1, 2020(Invoice date)\\r\\n \\r\\nYour participation is critical to ensuring our collective business grows and we expect this incremental support across all categories and products that you sell at Canadian Tire. I will be the lead merchant at CTR coordinating the execution of this new requirement for your business.\\r\\n \\r\\nPlease review the document in full and confirm alignment to me within one week. \\r\\n \\r\\nIf you have any questions, please reach out to me directly.\\r\\n \\r\\nThank you for your continued immediate support in advance and looking forward to your feedback. \\r\\n \\r\\nEnjoy National holiday!\\r\\n \\r\\nThanks.\\r\\n \\r\\n----- Original Message -----\\r\\nFrom：Eva Hou\\r\\nDate：2019-10-17 14:42\\r\\nSubject：1% Vendor Fund Initiative - CT investment and Vendor support\\r\\nTo：John Liu; Jenny Wang; Hayley Xu\\r\\nCC：Victoria Sun; Tina Zhang\\r\\n \\r\\nHi Jenny/John,\\r\\n \\r\\nSorry to advise you that Sergio prefer the due date to be Jan 1st, 2020. Please kindly confirm whether you can accept it. \\r\\n \\r\\nEva Hou\\r\\nTel: (86) 21 63849988 ext 815\\r\\n \\r\\nFrom: Eva Hou \\r\\nSent: October 10, 2019 4:24 PM\\r\\nTo: John Liu <s19@guangwei-china.com>; Jenny Wang <s20@guangwei-china.com>; Hayley Xu <s24@guangwei-china.com>\\r\\nCc: Victoria Sun <Victoria.Sun@cantire.com>; Tina Zhang <Tina.Zhang@cantire.com>; Jennifer Mercier <Jennifer.Mercier@cantire.com>\\r\\nSubject: 1% Vendor Fund Initiative - CT investment and Vendor support\\r\\n \\r\\nDear Jenny/John,\\r\\n \\r\\nFor 97 years, Canadian Tire Retail has maintained a strong relationship with its customers from coast-to-coast.  As the retail market evolves and competition increases, we have been investing to build improved customer acquisition capabilities within our organization. These developing capabilities have played a key role in delivering 21 consecutive quarters of growth at CTR. \\r\\n \\r\\nOur success is due in large part to incremental investments we are making to aggressively market new customer-centric vehicles that enable us to connect with and reward customers in new ways and build loyalty to drive sustainable growth. At the same time, we are investing in our traditional vehicles that continue to deliver strong results. As our relevance with our customers has grown, so has our collective business. \\r\\n \\r\\nTo support these incremental investments, we are looking for an increase in your support as outlined in the attached document, “CT Investments and Vendor Funds”.  \\r\\nThe effective date for this increase in support is :\\r\\nSS 21 reviews - - Effective date Oct 1, 2020 (Invoice date) \\r\\nOut of cycle negotiations - - latest effective date April 1, 2020(Invoice date)\\r\\n \\r\\nYour participation is critical to ensuring our collective business grows and we expect this incremental support across all categories and products that you sell at Canadian Tire. I will be the lead merchant at CTR coordinating the execution of this new requirement for your business.\\r\\n \\r\\nPlease review the document in full and confirm alignment to me within one week. \\r\\n \\r\\nIf you have any questions, please reach out to me directly.\\r\\n \\r\\nThank you for your continued immediate support in advance and looking forward to your feedback. \\r\\n \\r\\nEnjoy National holiday!\\r\\n \\r\\nThanks.\\r\\n \\r\\nEva HouJohn Liu; Jenny Wang; Hayley XuVictoria Sun; Tina Zhang \\r\\nHi Jenny/John,\\r\\n \\r\\nSorry to advise you that Sergio prefer the due date to be Jan 1st, 2020. Please kindly confirm whether you can accept it. \\r\\n \\r\\nEva Hou\\r\\nTel: (86) 21 63849988 ext 815\\r\\n \\r\\nFrom: Eva Hou \\r\\nSent: October 10, 2019 4:24 PM\\r\\nTo: John Liu <s19@guangwei-china.com>; Jenny Wang <s20@guangwei-china.com>; Hayley Xu <s24@guangwei-china.com>\\r\\nCc: Victoria Sun <Victoria.Sun@cantire.com>; Tina Zhang <Tina.Zhang@cantire.com>; Jennifer Mercier <Jennifer.Mercier@cantire.com>\\r\\nSubject: 1% Vendor Fund Initiative - CT investment and Vendor support\\r\\n \\r\\nDear Jenny/John,\\r\\n \\r\\nFor 97 years, Canadian Tire Retail has maintained a strong relationship with its customers from coast-to-coast.  As the retail market evolves and competition increases, we have been investing to build improved customer acquisition capabilities within our organization. These developing capabilities have played a key role in delivering 21 consecutive quarters of growth at CTR. \\r\\n \\r\\nOur success is due in large part to incremental investments we are making to aggressively market new customer-centric vehicles that enable us to connect with and reward customers in new ways and build loyalty to drive sustainable growth. At the same time, we are investing in our traditional vehicles that continue to deliver strong results. As our relevance with our customers has grown, so has our collective business. \\r\\n \\r\\nTo support these incremental investments, we are looking for an increase in your support as outlined in the attached document, “CT Investments and Vendor Funds”.  \\r\\nThe effective date for this increase in support is :\\r\\nSS 21 reviews - - Effective date Oct 1, 2020 (Invoice date) \\r\\nOut of cycle negotiations - - latest effective date April 1, 2020(Invoice date)\\r\\n \\r\\nYour participation is critical to ensuring our collective business grows and we expect this incremental support across all categories and products that you sell at Canadian Tire. I will be the lead merchant at CTR coordinating the execution of this new requirement for your business.\\r\\n \\r\\nPlease review the document in full and confirm alignment to me within one week. \\r\\n \\r\\nIf you have any questions, please reach out to me directly.\\r\\n \\r\\nThank you for your continued immediate support in advance and looking forward to your feedback. \\r\\n \\r\\nEnjoy National holiday!\\r\\n \\r\\nThanks.\\r\\n \\r\\n1% Vendor Fund Initiative - CT investment and Vendor support2019-10-1714:42\\r\\n----- Original Message -----\\r\\nFrom：Hayley Xu\\r\\nDate：2019-11-02 17:30\\r\\nSubject：Re: 1% Vendor Fund Initiative - CT investment and Vendor support\\r\\nTo：Eva Hou\\r\\nCC：Victoria Sun; Tina Zhang; John Liu; Jenny Wang; Sherry Xue\\r\\n \\r\\nHi Eva,\\r\\n \\r\\nThanks for your detailed information. We fully respect you taking a broad and long-term view both on maintaining strong and close relationship with customers and investing on new customers. There is no doubt that these investments will achieve significant results, and we hope the project will be successful.\\r\\n \\r\\nThis year we are suffering more complicated situation at the moment, for example the tariff of America, the rebate rate reduced 3%, and the demand shrinking of the booster cable. To be honest, benefit that the exchange rate helps us a little to balance all of those serious situation, but we know it is not stable. So, we are doing more efforts on improving production efficiency and new products development. However, we believe that with the support from you, Greatway will keep going up as before, and this time we also show our hand to rebate 0.5% of each order amount for your new project. We appreciate your business. \\r\\n \\r\\nThanks and have a good weekend!\\r\\n \\r\\nBest regards,\\r\\nHayley Xu \\r\\n \\r\\n\\r\\n \\r\\nShanghai Greatway Industry Co.,Ltd\\r\\nTel:  +86-021-64501185 ext 6532\\r\\nFax: +86-021-64508336\\r\\nMobile:+86-18721829914\\r\\nWeb: www.guangwei-china.com \\r\\n \\r\\n----- Original Message -----\\r\\nFrom：Eva Hou\\r\\nDate：2019-10-17 14:42\\r\\nSubject：1% Vendor Fund Initiative - CT investment and Vendor support\\r\\nTo：John Liu; Jenny Wang; Hayley Xu\\r\\nCC：Victoria Sun; Tina Zhang\\r\\n \\r\\nHi Jenny/John,\\r\\n \\r\\nSorry to advise you that Sergio prefer the due date to be Jan 1st, 2020. Please kindly confirm whether you can accept it. \\r\\n \\r\\nEva Hou\\r\\nTel: (86) 21 63849988 ext 815\\r\\n \\r\\nFrom: Eva Hou \\r\\nSent: October 10, 2019 4:24 PM\\r\\nTo: John Liu <s19@guangwei-china.com>; Jenny Wang <s20@guangwei-china.com>; Hayley Xu <s24@guangwei-china.com>\\r\\nCc: Victoria Sun <Victoria.Sun@cantire.com>; Tina Zhang <Tina.Zhang@cantire.com>; Jennifer Mercier <Jennifer.Mercier@cantire.com>\\r\\nSubject: 1% Vendor Fund Initiative - CT investment and Vendor support\\r\\n \\r\\nDear Jenny/John,\\r\\n \\r\\nFor 97 years, Canadian Tire Retail has maintained a strong relationship with its customers from coast-to-coast.  As the retail market evolves and competition increases, we have been investing to build improved customer acquisition capabilities within our organization. These developing capabilities have played a key role in delivering 21 consecutive quarters of growth at CTR. \\r\\n \\r\\nOur success is due in large part to incremental investments we are making to aggressively market new customer-centric vehicles that enable us to connect with and reward customers in new ways and build loyalty to drive sustainable growth. At the same time, we are investing in our traditional vehicles that continue to deliver strong results. As our relevance with our customers has grown, so has our collective business. \\r\\n \\r\\nTo support these incremental investments, we are looking for an increase in your support as outlined in the attached document, “CT Investments and Vendor Funds”.  \\r\\nThe effective date for this increase in support is :\\r\\nSS 21 reviews - - Effective date Oct 1, 2020 (Invoice date) \\r\\nOut of cycle negotiations - - latest effective date April 1, 2020(Invoice date)\\r\\n \\r\\nYour participation is critical to ensuring our collective business grows and we expect this incremental support across all categories and products that you sell at Canadian Tire. I will be the lead merchant at CTR coordinating the execution of this new requirement for your business.\\r\\n \\r\\nPlease review the document in full and confirm alignment to me within one week. \\r\\n \\r\\nIf you have any questions, please reach out to me directly.\\r\\n \\r\\nThank you for your continued immediate support in advance and looking forward to your feedback. \\r\\n \\r\\nEnjoy National holiday!\\r\\n \\r\\nThanks.\\r\\n \\r\\n----- Original Message -----\\r\\nFrom：Eva Hou\\r\\nDate：2019-10-17 14:42\\r\\nSubject：1% Vendor Fund Initiative - CT investment and Vendor support\\r\\nTo：John Liu; Jenny Wang; Hayley Xu\\r\\nCC：Victoria Sun; Tina Zhang\\r\\n \\r\\nHi Jenny/John,\\r\\n \\r\\nSorry to advise you that Sergio prefer the due date to be Jan 1st, 2020. Please kindly confirm whether you can accept it. \\r\\n \\r\\nEva Hou\\r\\nTel: (86) 21 63849988 ext 815\\r\\n \\r\\nFrom: Eva Hou \\r\\nSent: October 10, 2019 4:24 PM\\r\\nTo: John Liu <s19@guangwei-china.com>; Jenny Wang <s20@guangwei-china.com>; Hayley Xu <s24@guangwei-china.com>\\r\\nCc: Victoria Sun <Victoria.Sun@cantire.com>; Tina Zhang <Tina.Zhang@cantire.com>; Jennifer Mercier <Jennifer.Mercier@cantire.com>\\r\\nSubject: 1% Vendor Fund Initiative - CT investment and Vendor support\\r\\n \\r\\nDear Jenny/John,\\r\\n \\r\\nFor 97 years, Canadian Tire Retail has maintained a strong relationship with its customers from coast-to-coast.  As the retail market evolves and competition increases, we have been investing to build improved customer acquisition capabilities within our organization. These developing capabilities have played a key role in delivering 21 consecutive quarters of growth at CTR. \\r\\n \\r\\nOur success is due in large part to incremental investments we are making to aggressively market new customer-centric vehicles that enable us to connect with and reward customers in new ways and build loyalty to drive sustainable growth. At the same time, we are investing in our traditional vehicles that continue to deliver strong results. As our relevance with our customers has grown, so has our collective business. \\r\\n \\r\\nTo support these incremental investments, we are looking for an increase in your support as outlined in the attached document, “CT Investments and Vendor Funds”.  \\r\\nThe effective date for this increase in support is :\\r\\nSS 21 reviews - - Effective date Oct 1, 2020 (Invoice date) \\r\\nOut of cycle negotiations - - latest effective date April 1, 2020(Invoice date)\\r\\n \\r\\nYour participation is critical to ensuring our collective business grows and we expect this incremental support across all categories and products that you sell at Canadian Tire. I will be the lead merchant at CTR coordinating the execution of this new requirement for your business.\\r\\n \\r\\nPlease review the document in full and confirm alignment to me within one week. \\r\\n \\r\\nIf you have any questions, please reach out to me directly.\\r\\n \\r\\nThank you for your continued immediate support in advance and looking forward to your feedback. \\r\\n \\r\\nEnjoy National holiday!\\r\\n \\r\\nThanks.\\r\\n \\r\\nEva HouJohn Liu; Jenny Wang; Hayley XuVictoria Sun; Tina Zhang \\r\\nHi Jenny/John,\\r\\n \\r\\nSorry to advise you that Sergio prefer the due date to be Jan 1st, 2020. Please kindly confirm whether you can accept it. \\r\\n \\r\\nEva Hou\\r\\nTel: (86) 21 63849988 ext 815\\r\\n \\r\\nFrom: Eva Hou \\r\\nSent: October 10, 2019 4:24 PM\\r\\nTo: John Liu <s19@guangwei-china.com>; Jenny Wang <s20@guangwei-china.com>; Hayley Xu <s24@guangwei-china.com>\\r\\nCc: Victoria Sun <Victoria.Sun@cantire.com>; Tina Zhang <Tina.Zhang@cantire.com>; Jennifer Mercier <Jennifer.Mercier@cantire.com>\\r\\nSubject: 1% Vendor Fund Initiative - CT investment and Vendor support\\r\\n \\r\\nDear Jenny/John,\\r\\n \\r\\nFor 97 years, Canadian Tire Retail has maintained a strong relationship with its customers from coast-to-coast.  As the retail market evolves and competition increases, we have been investing to build improved customer acquisition capabilities within our organization. These developing capabilities have played a key role in delivering 21 consecutive quarters of growth at CTR. \\r\\n \\r\\nOur success is due in large part to incremental investments we are making to aggressively market new customer-centric vehicles that enable us to connect with and reward customers in new ways and build loyalty to drive sustainable growth. At the same time, we are investing in our traditional vehicles that continue to deliver strong results. As our relevance with our customers has grown, so has our collective business. \\r\\n \\r\\nTo support these incremental investments, we are looking for an increase in your support as outlined in the attached document, “CT Investments and Vendor Funds”.  ',\n",
       " 'metaData': {'to_be_indexed': True,\n",
       "  'date': '09/11/2020',\n",
       "  'from': ['s24@guangwei-china.com'],\n",
       "  'from_name': ['Hayley Xu'],\n",
       "  'to': ['Tina.Zhang@cantire.com'],\n",
       "  'to_name': ['Tina Zhang'],\n",
       "  'subject': 'Re: Re: RE: RE: RE: Re: 1% Vendor Fund Initiative - CT investment\\r\\n and Vendor support',\n",
       "  'message-id': '20200911020847403.7BB159C372257BC5@XS203'},\n",
       " 'filePath': 'cantire-es-bucket/cantire-2020-09/_doc/1c0bc1b741d35cacf52f25b1bd1e6d23/1747aee0bc8fb11b.eml',\n",
       " 'fileType': 'Message/Email File',\n",
       " 'domain': [],\n",
       " 'Attachment': [],\n",
       " 'MD5': '1c0bc1b741d35cacf52f25b1bd1e6d23',\n",
       " 'path': '2020-09-11/CATEGORY_PERSONAL/1747aee0bc8fb11b.eml',\n",
       " 'indexDate': '2020-10-20T18:15:06.989231',\n",
       " 'entities': {'entities': {'hasAmount': False,\n",
       "   'hasPercent': True,\n",
       "   'hasDate': False,\n",
       "   'hasBuyerEmail': True,\n",
       "   'hasBuyerId': True,\n",
       "   'hasBuyerFirstName': True,\n",
       "   'hasBuyerLastName': False,\n",
       "   'hasVendorDomain': True,\n",
       "   'hasVendorID': True,\n",
       "   'hasEvents': True,\n",
       "   'hasVendorName': False,\n",
       "   'hasFrom': False,\n",
       "   'hasTo': False,\n",
       "   'percent': [{'entity': '1%', 'position': 393},\n",
       "    {'entity': '1%', 'position': 873},\n",
       "    {'entity': '1%', 'position': 1079},\n",
       "    {'entity': '1%', 'position': 1470},\n",
       "    {'entity': '1%', 'position': 1920},\n",
       "    {'entity': '1%', 'position': 2501},\n",
       "    {'entity': '1%', 'position': 2943},\n",
       "    {'entity': '1%', 'position': 3356},\n",
       "    {'entity': '1%', 'position': 3451},\n",
       "    {'entity': '1%', 'position': 3959},\n",
       "    {'entity': '1%', 'position': 4088},\n",
       "    {'entity': '1%', 'position': 4448},\n",
       "    {'entity': '3%', 'position': 5041},\n",
       "    {'entity': '0.5%', 'position': 5460},\n",
       "    {'entity': '1%', 'position': 6456},\n",
       "    {'entity': '1%', 'position': 8988},\n",
       "    {'entity': '1%', 'position': 11380},\n",
       "    {'entity': '1%', 'position': 13218},\n",
       "    {'entity': '1%', 'position': 13376},\n",
       "    {'entity': '3%', 'position': 13969},\n",
       "    {'entity': '0.5%', 'position': 14388},\n",
       "    {'entity': '1%', 'position': 15384},\n",
       "    {'entity': '1%', 'position': 17916},\n",
       "    {'entity': '1%', 'position': 20308}],\n",
       "   'buyerEmails': [{'entity': 'Tina.Zhang@cantire.com', 'position': 1421},\n",
       "    {'entity': 'Tina.Zhang@cantire.com', 'position': 2456},\n",
       "    {'entity': 'Victoria.Sun@cantire.com', 'position': 3282},\n",
       "    {'entity': 'Eva.Hou@cantire.com', 'position': 3318},\n",
       "    {'entity': 'Eva.Hou@cantire.com', 'position': 3839},\n",
       "    {'entity': 'Tina.Zhang@cantire.com', 'position': 3877},\n",
       "    {'entity': 'Victoria.Sun@cantire.com', 'position': 3916},\n",
       "    {'entity': 'Victoria.Sun@cantire.com', 'position': 6335},\n",
       "    {'entity': 'Tina.Zhang@cantire.com', 'position': 6374},\n",
       "    {'entity': 'Jennifer.Mercier@cantire.com', 'position': 6417},\n",
       "    {'entity': 'Victoria.Sun@cantire.com', 'position': 8867},\n",
       "    {'entity': 'Tina.Zhang@cantire.com', 'position': 8906},\n",
       "    {'entity': 'Jennifer.Mercier@cantire.com', 'position': 8949},\n",
       "    {'entity': 'Victoria.Sun@cantire.com', 'position': 11259},\n",
       "    {'entity': 'Tina.Zhang@cantire.com', 'position': 11298},\n",
       "    {'entity': 'Jennifer.Mercier@cantire.com', 'position': 11341},\n",
       "    {'entity': 'Victoria.Sun@cantire.com', 'position': 15263},\n",
       "    {'entity': 'Tina.Zhang@cantire.com', 'position': 15302},\n",
       "    {'entity': 'Jennifer.Mercier@cantire.com', 'position': 15345},\n",
       "    {'entity': 'Victoria.Sun@cantire.com', 'position': 17795},\n",
       "    {'entity': 'Tina.Zhang@cantire.com', 'position': 17834},\n",
       "    {'entity': 'Jennifer.Mercier@cantire.com', 'position': 17877},\n",
       "    {'entity': 'Victoria.Sun@cantire.com', 'position': 20187},\n",
       "    {'entity': 'Tina.Zhang@cantire.com', 'position': 20226},\n",
       "    {'entity': 'Jennifer.Mercier@cantire.com', 'position': 20269}],\n",
       "   'buyerId': [{'entity': '021', 'position': 194},\n",
       "    {'entity': '021', 'position': 226},\n",
       "    {'entity': '021', 'position': 676},\n",
       "    {'entity': '021', 'position': 708},\n",
       "    {'entity': '847', 'position': 1321},\n",
       "    {'entity': '021', 'position': 1728},\n",
       "    {'entity': '021', 'position': 1760},\n",
       "    {'entity': '847', 'position': 2356},\n",
       "    {'entity': '021', 'position': 2755},\n",
       "    {'entity': '021', 'position': 2787},\n",
       "    {'entity': '847', 'position': 3163},\n",
       "    {'entity': '847', 'position': 3741},\n",
       "    {'entity': '021', 'position': 4265},\n",
       "    {'entity': '021', 'position': 4297},\n",
       "    {'entity': '021', 'position': 5660},\n",
       "    {'entity': '021', 'position': 5692},\n",
       "    {'entity': '815', 'position': 6149},\n",
       "    {'entity': '815', 'position': 8681},\n",
       "    {'entity': '815', 'position': 11073},\n",
       "    {'entity': '021', 'position': 14588},\n",
       "    {'entity': '021', 'position': 14620},\n",
       "    {'entity': '815', 'position': 15077},\n",
       "    {'entity': '815', 'position': 17609},\n",
       "    {'entity': '815', 'position': 20001}],\n",
       "   'buyer_first_names': [{'entity': 'Hayley', 'position': 130},\n",
       "    {'entity': 'John', 'position': 4552},\n",
       "    {'entity': 'John', 'position': 4552},\n",
       "    {'entity': 'Jennifer', 'position': 6399},\n",
       "    {'entity': 'John', 'position': 4552},\n",
       "    {'entity': 'John', 'position': 4552},\n",
       "    {'entity': 'Sergio', 'position': 6012}],\n",
       "   'vendor_domains': ['guangwei-china.com'],\n",
       "   'vendor_ids': [{'entity': '6532', 'position': 211},\n",
       "    {'entity': '2020', 'position': 348},\n",
       "    {'entity': '6532', 'position': 693},\n",
       "    {'entity': '2020', 'position': 832},\n",
       "    {'entity': '2020', 'position': 1149},\n",
       "    {'entity': '6532', 'position': 1745},\n",
       "    {'entity': '6532', 'position': 2772},\n",
       "    {'entity': '2020', 'position': 3560},\n",
       "    {'entity': '6532', 'position': 4282},\n",
       "    {'entity': '6532', 'position': 5677},\n",
       "    {'entity': '2020', 'position': 6054},\n",
       "    {'entity': '2020', 'position': 7611},\n",
       "    {'entity': '2020', 'position': 7694},\n",
       "    {'entity': '2020', 'position': 8586},\n",
       "    {'entity': '2020', 'position': 10143},\n",
       "    {'entity': '2020', 'position': 10226},\n",
       "    {'entity': '2020', 'position': 10978},\n",
       "    {'entity': '2020', 'position': 12535},\n",
       "    {'entity': '2020', 'position': 12618},\n",
       "    {'entity': '1714', 'position': 13287},\n",
       "    {'entity': '6532', 'position': 14605},\n",
       "    {'entity': '2020', 'position': 14982},\n",
       "    {'entity': '2020', 'position': 16539},\n",
       "    {'entity': '2020', 'position': 16622},\n",
       "    {'entity': '2020', 'position': 17514},\n",
       "    {'entity': '2020', 'position': 19071},\n",
       "    {'entity': '2020', 'position': 19154},\n",
       "    {'entity': '2020', 'position': 19906}],\n",
       "   'events': [{'entity': 'advertising', 'position': 1092},\n",
       "    {'entity': 'advertising', 'position': 3493},\n",
       "    {'entity': 'price', 'position': 4143}]},\n",
       "  'tag': [],\n",
       "  'has_effect_date': False},\n",
       " 'labels': ['1635234220825VFB',\n",
       "  '1635234213262Costdown',\n",
       "  '1608029695239advertising-support',\n",
       "  '1635234220298Pricing'],\n",
       " 'doc_scores': {'useful_sents': ['theeffectivedateforthisincreaseinsupportis: ss21reviews--effectivedateoct1,2020(invoicedate) outofcyclenegotiations--latesteffectivedateapril1,2020(invoicedate)          subject:1%vendorfundinitiative-ctinvestmentandvendorsupport        subject:1%vendorfundinitiative-ctinvestmentandvendorsupport  for97years,canadiantireretailhasmaintainedastrongrelationshipwithitscustomersfromcoast-to-coast.astheretailmarketevolvesandcompetitionincreases,wehavebeeninvestingtobuildimprovedcustomeracquisitioncapabilitieswithinourorganization.thesedevelopingcapabilitieshaveplayedakeyroleindelivering21consecutivequartersofgrowthatctr.',\n",
       "   'theeffectivedateforthisincreaseinsupportis: ss21reviews--effectivedateoct1,2020(invoicedate) outofcyclenegotiations--latesteffectivedateapril1,2020(invoicedate)              subject:1%vendorfundinitiative-ctinvestmentandvendorsupport  for97years,canadiantireretailhasmaintainedastrongrelationshipwithitscustomersfromcoast-to-coast.astheretailmarketevolvesandcompetitionincreases,wehavebeeninvestingtobuildimprovedcustomeracquisitioncapabilitieswithinourorganization.thesedevelopingcapabilitieshaveplayedakeyroleindelivering21consecutivequartersofgrowthatctr.',\n",
       "   'so, we are doing more efforts on improving production efficiency and new products development.',\n",
       "   'tina zhang   |   assistant merchandiser   |   ctc triangle (shanghai) trading co., ltd |   t: 21-63849988 ext 847  subject:re:re:re:re:1%vendorfundinitiative-ctinvestmentandvendorsupport             subject:re:re:re:1%vendorfundinitiative-ctinvestmentandvendorsupport    tina zhang   |   assistant merchandiser   |   ctc triangle (shanghai) trading co., ltd |   t: 21-63849988 ext 847  subject:re:re:re:1%vendorfundinitiative-ctinvestmentandvendorsupport   thetermsandeffectivedatehavebeenupdatedalready.',\n",
       "   'subject:re:1%vendorfundinitiative-ctinvestmentandvendorsupport    this year we are suffering more complicated situation at the moment, for example the tariff of america, the rebate rate reduced 3%, and the demand shrinking of the booster cable.',\n",
       "   'meanwhile, please kindly find update price for booster cable as attached.',\n",
       "   'to be honest, benefit that the exchange rate helps us a little to balance all of those serious situation, but we know it is not stable.',\n",
       "   'theeffectivedateforthisincreaseinsupportis: ss21reviews--effectivedateoct1,2020(invoicedate) outofcyclenegotiations--latesteffectivedateapril1,2020(invoicedate)       1%vendorfundinitiative-ctinvestmentandvendorsupport2019-10-1714:42    subject:re:1%vendorfundinitiative-ctinvestmentandvendorsupport    this year we are suffering more complicated situation at the moment, for example the tariff of america, the rebate rate reduced 3%, and the demand shrinking of the booster cable.',\n",
       "   'however, we believe that with the support from you, greatway will keep going up as before, and this time we also show our hand to rebate 0.5% of each order amount for your new project.',\n",
       "   'we appreciate your business.',\n",
       "   'subject:re:re:1%vendorfundinitiative-ctinvestmentandvendorsupport   tina zhang   |   assistant merchandiser   |   ctc triangle (shanghai) trading co., ltd |   t: 21-63849988 ext 847   subject:re:re:1%vendorfundinitiative-ctinvestmentandvendorsupport   couldyouplsupdatetheadvertisingprogramandalsorevisetheeffectivedatetojan1st,2020inyourfobprofile?',\n",
       "   'subject:1%vendorfundinitiative-ctinvestmentandvendorsupport        subject:1%vendorfundinitiative-ctinvestmentandvendorsupport  for97years,canadiantireretailhasmaintainedastrongrelationshipwithitscustomersfromcoast-to-coast.astheretailmarketevolvesandcompetitionincreases,wehavebeeninvestingtobuildimprovedcustomeracquisitioncapabilitieswithinourorganization.thesedevelopingcapabilitieshaveplayedakeyroleindelivering21consecutivequartersofgrowthatctr.',\n",
       "   'tosupporttheseincrementalinvestments,wearelookingforanincreaseinyoursupportasoutlinedintheattacheddocument,“ctinvestmentsandvendorfunds”.',\n",
       "   '           subject:re:re:re:re:re:1%vendorfundinitiative-ctinvestmentandvendorsupport             subject:re:re:re:re:1%vendorfundinitiative-ctinvestmentandvendorsupport   adding1%intotheadvertisingtermsandchangetheeffectivedateto01/01/2020,letmeknowwhenyouhavedone.',\n",
       "   'tina zhang   |   assistant merchandiser   |   ctc triangle (shanghai) trading co., ltd |   t: 21-63849988 ext 847   subject:re:re:1%vendorfundinitiative-ctinvestmentandvendorsupport  after applying, to support ctc investment, we offer 1% support.'],\n",
       "  'pricing': {'score': 36.01,\n",
       "   'category': ['attached',\n",
       "    'price',\n",
       "    'vendor',\n",
       "    'change',\n",
       "    'update',\n",
       "    'for 97 years, canadian tire retail has maintained a strong relationship',\n",
       "    'amount',\n",
       "    'effective date',\n",
       "    'support',\n",
       "    'vendor fund']},\n",
       "  'external_tag': True},\n",
       " 'vfb': 'true',\n",
       " 'costdown': 'true',\n",
       " 'scores': {'category': ['attached',\n",
       "   'effective date',\n",
       "   'support',\n",
       "   'price',\n",
       "   'for 97 years, canadian tire retail has maintained a strong relationship',\n",
       "   'change',\n",
       "   'vendor fund',\n",
       "   'vendor',\n",
       "   'amount',\n",
       "   'update'],\n",
       "  'doc_score': 36.01},\n",
       " 'external_mail': True,\n",
       " 'number_of_conversations': 21}"
      ]
     },
     "execution_count": 61,
     "metadata": {},
     "output_type": "execute_result"
    }
   ],
   "source": [
    "res['hits'][\"hits\"][2][\"_source\"]\n",
    "# thread_id = []\n",
    "# for i in range(100):\n",
    "#     try:\n",
    "#         thread_id.append(res[\"hits\"][\"hits\"][i][\"_source\"][\"metaData\"][\"thread-index\"])\n",
    "#     except:\n",
    "#         print(i)\n",
    "# 20200904082345115.2B286ABC4C645959@XS203\n"
   ]
  },
  {
   "cell_type": "code",
   "execution_count": 7,
   "metadata": {},
   "outputs": [],
   "source": [
    "# for i in range(len(res[\"hits\"][\"hits\"])):\n",
    "#     if \"For 97 years, Canadian Tire Retail\" not in res[\"hits\"][\"hits\"][i][\"_source\"][\"content\"]:\n",
    "#         print(i)"
   ]
  },
  {
   "cell_type": "code",
   "execution_count": 16,
   "metadata": {},
   "outputs": [],
   "source": [
    "def domain_ext(val,i):\n",
    "    value = []\n",
    "    try:\n",
    "        k = res[\"hits\"][\"hits\"][i][\"_source\"][\"metaData\"][val]\n",
    "    except:\n",
    "        k=\"\"\n",
    "    m = []\n",
    "    if type(k)!=str:\n",
    "        m.extend(k)\n",
    "        if len(k)<=1:\n",
    "            s = (\" \".join(m)).split(\"@\")\n",
    "            value.append(s[1])\n",
    "        else:\n",
    "            for j in k:\n",
    "                if \"@\" in j:\n",
    "                    s = (\"\".join(j)).split(\"@\")\n",
    "                    value.append(s[1])\n",
    "    else:\n",
    "        m.append(k)\n",
    "        s = (\" \".join(m)).split(\"@\")\n",
    "        try:\n",
    "            value.append(s[1])\n",
    "        except:\n",
    "            pass\n",
    "    return list(set(value))"
   ]
  },
  {
   "cell_type": "code",
   "execution_count": 17,
   "metadata": {},
   "outputs": [],
   "source": [
    "import re\n",
    "def date_ext(dt,i):\n",
    "    cont = res[\"hits\"][\"hits\"][i][\"_source\"][\"content\"]\n",
    "    cont = cont.split(\"From:\")\n",
    "    \n",
    "    if len(cont)>1:\n",
    "        day = cont[dt].find(\"Sent:\")\n",
    "        if day == -1:\n",
    "            day = (cont[dt].find(\"Date:\"))\n",
    "            if day !=-1:\n",
    "                day+=5\n",
    "                resu = cont[dt][day:day+30]\n",
    "                resu = resu.replace(\",\",\" \").replace(\".\",\" \").replace(\"\\n\",\"\").replace(\"*\",\"\")\n",
    "                resu_r = resu.find(\"\\r\")\n",
    "                if resu_r !=-1:\n",
    "                    resu = resu[:resu_r]\n",
    "                    \n",
    "                resu_t = resu.find(\"To\")\n",
    "                if resu_t !=-1:\n",
    "                    resu = resu[:resu_t]\n",
    "                try:\n",
    "                    x = re.search(\"\\s\\d{4}\\s\", resu)\n",
    "                    result = resu[:x.end()]\n",
    "                    return result\n",
    "                except:\n",
    "                    return resu\n",
    "\n",
    "        else:\n",
    "            day = day+5\n",
    "            resu = cont[dt][day:day+30]\n",
    "            resu = resu.replace(\",\",\" \").replace(\".\",\" \").replace(\"\\n\",\"\").replace(\"*\",\"\")\n",
    "            resu_r = resu.find(\"\\r\")\n",
    "            if resu_r !=-1:\n",
    "                resu = resu[:resu_r]\n",
    "                \n",
    "            resu_t = resu.find(\"To\")\n",
    "            if resu_t !=-1:\n",
    "                resu = resu[:resu_t]\n",
    "            try:\n",
    "                x = re.search(\"\\s\\d{4}\\s\", resu)\n",
    "                result = resu[:x.end()]\n",
    "                return result\n",
    "            except:\n",
    "                return resu\n",
    "    else:\n",
    "        return res[\"hits\"][\"hits\"][i][\"_source\"][\"metaData\"][\"date\"]"
   ]
  },
  {
   "cell_type": "code",
   "execution_count": 18,
   "metadata": {},
   "outputs": [
    {
     "data": {
      "text/plain": [
       "'/mnt/cantire-analytics/datarepo/pavan rs/elasticsearch_works'"
      ]
     },
     "execution_count": 18,
     "metadata": {},
     "output_type": "execute_result"
    }
   ],
   "source": [
    "pwd"
   ]
  },
  {
   "cell_type": "code",
   "execution_count": 21,
   "metadata": {},
   "outputs": [
    {
     "name": "stdout",
     "output_type": "stream",
     "text": [
      "/mnt/cantire-analytics/datarepo/zz\n"
     ]
    }
   ],
   "source": [
    "cd zz"
   ]
  },
  {
   "cell_type": "code",
   "execution_count": 218,
   "metadata": {},
   "outputs": [],
   "source": [
    "# /mnt/cantire-analytics/datarepo/zz     the below created csv is in this path"
   ]
  },
  {
   "cell_type": "code",
   "execution_count": 22,
   "metadata": {},
   "outputs": [],
   "source": [
    "import csv\n",
    "header = [\"md5\",\"subject\",\"from_domain\",\"to_domain\",\"begin_email_date\",\"end_email_date\",\"Domains\"]\n",
    "with open(\"md_97y_phrase_1.csv\", \"a\") as f:\n",
    "    csvwriter = csv.writer(f)\n",
    "    csvwriter.writerow(header)"
   ]
  },
  {
   "cell_type": "code",
   "execution_count": 23,
   "metadata": {},
   "outputs": [],
   "source": [
    "import csv\n",
    "from tqdm import tqdm\n",
    "j=0\n",
    "lis = []\n",
    "for i in range(len(res[\"hits\"][\"hits\"])):\n",
    "    j+=1\n",
    "    md5 = []\n",
    "    sub = []\n",
    "    frm = []\n",
    "    to = []\n",
    "    b_date = []\n",
    "    e_date = []\n",
    "    \n",
    "    try:\n",
    "        m = res[\"hits\"][\"hits\"][i][\"_source\"][\"MD5\"]\n",
    "        if type(m)!=str:\n",
    "            md5.extend(m)\n",
    "        else:\n",
    "            md5.append(m)\n",
    "    except:\n",
    "        pass\n",
    "    \n",
    "    try:\n",
    "        s = res[\"hits\"][\"hits\"][i][\"_source\"][\"metaData\"][\"subject\"]\n",
    "        if type(s)!=str:\n",
    "            sub.extend(s)\n",
    "        else:\n",
    "            sub.append(s)\n",
    "    except:\n",
    "        pass\n",
    "    \n",
    "    frm.extend(domain_ext(\"from\",i))\n",
    "    to.extend(domain_ext(\"to\",i))\n",
    "    b_date.append(date_ext(-1,i))     # -1 because the latest mail will be the first mail in the thread\n",
    "    e_date.append(date_ext(1,i))    # 1 becasue the initial mail of the thread will be at last of the thread.\n",
    "    dom = frm + to\n",
    "    for I in dom:\n",
    "        if I.lower() == \"cantire.com\":\n",
    "            dom.remove(I)\n",
    "        if len(dom) == 0:\n",
    "            dom.append(\"cantire.com\")\n",
    "    dom = \",\".join(dom)\n",
    "#     print(md5,sub,frm,to,b_date,e_date,dom)\n",
    "\n",
    "    lis.extend([[md5,sub,frm,to,b_date,e_date,dom]])\n",
    "    if i==100:\n",
    "        with open(\"md_97y_phrase_1.csv\",\"a\") as file:\n",
    "            csvwriter = csv.writer(file)\n",
    "            csvwriter.writerows(lis)\n",
    "        lis=[]\n",
    "        i=0\n",
    "if i!=0:\n",
    "    with open(\"md_97y_phrase_1.csv\",\"a\") as file:\n",
    "            csvwriter = csv.writer(file)\n",
    "            csvwriter.writerows(lis)"
   ]
  },
  {
   "cell_type": "code",
   "execution_count": 41,
   "metadata": {},
   "outputs": [],
   "source": [
    "# import re\n",
    "# for i in range(100):\n",
    "#     cont = res[\"hits\"][\"hits\"][i][\"_source\"][\"content\"]\n",
    "#     cont = cont.split(\"From:\")\n",
    "    \n",
    "#     if len(cont)>1:\n",
    "#         day = cont[-1].find(\"Sent:\")\n",
    "#         if day == -1:\n",
    "#             day = (cont[-1].find(\"Date:\"))\n",
    "#             if day !=-1:\n",
    "#                 day+=5\n",
    "#                 resu = cont[-1][day:day+30]\n",
    "#                 resu = resu.replace(\",\",\" \").replace(\".\",\" \").replace(\"\\n\",\"\")\n",
    "#                 try:\n",
    "#                     x = re.search(\"\\s\\d{4}\\s\", resu)\n",
    "#                     result = resu[:x.end()]\n",
    "#                     print(i,result)\n",
    "#                 except:\n",
    "#                     print(i,resu)\n",
    "\n",
    "#         else:\n",
    "#             day = day+5\n",
    "#             resu = cont[-1][day:day+30]\n",
    "#             resu = resu.replace(\",\",\" \").replace(\".\",\" \").replace(\"\\n\",\"\").replace(\"*\",\"\")\n",
    "#             try:\n",
    "#                 x = re.search(\"\\s\\d{4}\\s\", resu)\n",
    "#                 result = resu[:x.end()]\n",
    "#                 print(result)\n",
    "#             except:\n",
    "#                 print(resu)\n",
    "#     else:\n",
    "#         print(res[\"hits\"][\"hits\"][i][\"_source\"][\"metaData\"][\"date\"])\n",
    "        "
   ]
  },
  {
   "cell_type": "code",
   "execution_count": null,
   "metadata": {},
   "outputs": [],
   "source": [
    "\n",
    "# for i in range(len(res[\"hits\"][\"hits\"])):\n",
    "#     val=\"to\"\n",
    "#     value = []\n",
    "#     try:\n",
    "#         k = res[\"hits\"][\"hits\"][i][\"_source\"][\"metaData\"][val]\n",
    "#     except:\n",
    "#         k=\"\"\n",
    "#     m = []\n",
    "#     if type(k)!=str:\n",
    "#         m.extend(k)\n",
    "#         if len(k)<=1:\n",
    "#             s = (\" \".join(m)).split(\"@\")\n",
    "#             value.append(s[1])\n",
    "#         else:\n",
    "#             for j in k:\n",
    "#                 if \"@\" in j:\n",
    "#                     s = (\"\".join(j)).split(\"@\")\n",
    "#                     value.append(s[1])\n",
    "#     else:\n",
    "#         m.append(k)\n",
    "#         s = (\" \".join(m)).split(\"@\")\n",
    "#         try:\n",
    "#             value.append(s[1])\n",
    "#         except:\n",
    "#             pass\n",
    "#     print(i,list(set(value)))"
   ]
  },
  {
   "cell_type": "code",
   "execution_count": null,
   "metadata": {},
   "outputs": [],
   "source": []
  },
  {
   "cell_type": "code",
   "execution_count": 165,
   "metadata": {},
   "outputs": [
    {
     "data": {
      "text/plain": [
       "(2493, 7)"
      ]
     },
     "execution_count": 165,
     "metadata": {},
     "output_type": "execute_result"
    }
   ],
   "source": [
    "import pandas as pd\n",
    "df_1 = pd.read_csv(\"md_97y_phrase_1.csv\")\n",
    "df_1.shape"
   ]
  },
  {
   "cell_type": "code",
   "execution_count": 166,
   "metadata": {},
   "outputs": [
    {
     "data": {
      "text/html": [
       "<div>\n",
       "<style scoped>\n",
       "    .dataframe tbody tr th:only-of-type {\n",
       "        vertical-align: middle;\n",
       "    }\n",
       "\n",
       "    .dataframe tbody tr th {\n",
       "        vertical-align: top;\n",
       "    }\n",
       "\n",
       "    .dataframe thead th {\n",
       "        text-align: right;\n",
       "    }\n",
       "</style>\n",
       "<table border=\"1\" class=\"dataframe\">\n",
       "  <thead>\n",
       "    <tr style=\"text-align: right;\">\n",
       "      <th></th>\n",
       "      <th>md5</th>\n",
       "      <th>subject</th>\n",
       "      <th>from_domain</th>\n",
       "      <th>to_domain</th>\n",
       "      <th>begin_email_date</th>\n",
       "      <th>end_email_date</th>\n",
       "      <th>Domains</th>\n",
       "    </tr>\n",
       "  </thead>\n",
       "  <tbody>\n",
       "    <tr>\n",
       "      <th>0</th>\n",
       "      <td>['a44c407f804960d920486ecd0cf45d8c']</td>\n",
       "      <td>['Re: RE: RE: RE: RE: Re: 1% Vendor Fund Initi...</td>\n",
       "      <td>['guangwei-china.com']</td>\n",
       "      <td>['cantire.com']</td>\n",
       "      <td>[' October 10  2019 ']</td>\n",
       "      <td>[' September 4  2020 ']</td>\n",
       "      <td>guangwei-china.com</td>\n",
       "    </tr>\n",
       "    <tr>\n",
       "      <th>1</th>\n",
       "      <td>['cada51b7c31e0bc056dd7b039643daf1']</td>\n",
       "      <td>['Re: RE: RE: RE: Re: 1% Vendor Fund Initiativ...</td>\n",
       "      <td>['guangwei-china.com']</td>\n",
       "      <td>['cantire.com']</td>\n",
       "      <td>[' October 10  2019 ']</td>\n",
       "      <td>[' December 18  2019 ']</td>\n",
       "      <td>guangwei-china.com</td>\n",
       "    </tr>\n",
       "    <tr>\n",
       "      <th>2</th>\n",
       "      <td>['1c0bc1b741d35cacf52f25b1bd1e6d23']</td>\n",
       "      <td>['Re: Re: RE: RE: RE: Re: 1% Vendor Fund Initi...</td>\n",
       "      <td>['guangwei-china.com']</td>\n",
       "      <td>['cantire.com']</td>\n",
       "      <td>[' October 10  2019 ']</td>\n",
       "      <td>[' December 18  2019 ']</td>\n",
       "      <td>guangwei-china.com</td>\n",
       "    </tr>\n",
       "    <tr>\n",
       "      <th>3</th>\n",
       "      <td>['4b24e4b46998bf61e3f6720b38c7d1f8']</td>\n",
       "      <td>['RE: RE: RE: RE: Re: 1% Vendor Fund Initiativ...</td>\n",
       "      <td>['cantire.com']</td>\n",
       "      <td>['guangwei-china.com']</td>\n",
       "      <td>[' October 10  2019 ']</td>\n",
       "      <td>[' September 4  2020 ']</td>\n",
       "      <td>guangwei-china.com</td>\n",
       "    </tr>\n",
       "    <tr>\n",
       "      <th>4</th>\n",
       "      <td>['339d20dc5ab218edcff48a75de4ae7e7']</td>\n",
       "      <td>['RE: Re: RE: RE: RE: Re: 1% Vendor Fund Initi...</td>\n",
       "      <td>['cantire.com']</td>\n",
       "      <td>['guangwei-china.com']</td>\n",
       "      <td>[' October 10  2019 ']</td>\n",
       "      <td>[' September 11  2020 ']</td>\n",
       "      <td>guangwei-china.com</td>\n",
       "    </tr>\n",
       "  </tbody>\n",
       "</table>\n",
       "</div>"
      ],
      "text/plain": [
       "                                    md5  \\\n",
       "0  ['a44c407f804960d920486ecd0cf45d8c']   \n",
       "1  ['cada51b7c31e0bc056dd7b039643daf1']   \n",
       "2  ['1c0bc1b741d35cacf52f25b1bd1e6d23']   \n",
       "3  ['4b24e4b46998bf61e3f6720b38c7d1f8']   \n",
       "4  ['339d20dc5ab218edcff48a75de4ae7e7']   \n",
       "\n",
       "                                             subject             from_domain  \\\n",
       "0  ['Re: RE: RE: RE: RE: Re: 1% Vendor Fund Initi...  ['guangwei-china.com']   \n",
       "1  ['Re: RE: RE: RE: Re: 1% Vendor Fund Initiativ...  ['guangwei-china.com']   \n",
       "2  ['Re: Re: RE: RE: RE: Re: 1% Vendor Fund Initi...  ['guangwei-china.com']   \n",
       "3  ['RE: RE: RE: RE: Re: 1% Vendor Fund Initiativ...         ['cantire.com']   \n",
       "4  ['RE: Re: RE: RE: RE: Re: 1% Vendor Fund Initi...         ['cantire.com']   \n",
       "\n",
       "                to_domain        begin_email_date            end_email_date  \\\n",
       "0         ['cantire.com']  [' October 10  2019 ']   [' September 4  2020 ']   \n",
       "1         ['cantire.com']  [' October 10  2019 ']   [' December 18  2019 ']   \n",
       "2         ['cantire.com']  [' October 10  2019 ']   [' December 18  2019 ']   \n",
       "3  ['guangwei-china.com']  [' October 10  2019 ']   [' September 4  2020 ']   \n",
       "4  ['guangwei-china.com']  [' October 10  2019 ']  [' September 11  2020 ']   \n",
       "\n",
       "              Domains  \n",
       "0  guangwei-china.com  \n",
       "1  guangwei-china.com  \n",
       "2  guangwei-china.com  \n",
       "3  guangwei-china.com  \n",
       "4  guangwei-china.com  "
      ]
     },
     "execution_count": 166,
     "metadata": {},
     "output_type": "execute_result"
    }
   ],
   "source": [
    "df_1.head()"
   ]
  },
  {
   "cell_type": "code",
   "execution_count": 27,
   "metadata": {},
   "outputs": [
    {
     "data": {
      "text/plain": [
       "(12785, 5)"
      ]
     },
     "execution_count": 27,
     "metadata": {},
     "output_type": "execute_result"
    }
   ],
   "source": [
    "df_2 = pd.read_csv(\"vendor_data2 (1).csv\")\n",
    "df_2.shape"
   ]
  },
  {
   "cell_type": "code",
   "execution_count": 64,
   "metadata": {},
   "outputs": [
    {
     "data": {
      "text/html": [
       "<div>\n",
       "<style scoped>\n",
       "    .dataframe tbody tr th:only-of-type {\n",
       "        vertical-align: middle;\n",
       "    }\n",
       "\n",
       "    .dataframe tbody tr th {\n",
       "        vertical-align: top;\n",
       "    }\n",
       "\n",
       "    .dataframe thead th {\n",
       "        text-align: right;\n",
       "    }\n",
       "</style>\n",
       "<table border=\"1\" class=\"dataframe\">\n",
       "  <thead>\n",
       "    <tr style=\"text-align: right;\">\n",
       "      <th></th>\n",
       "      <th>Domains</th>\n",
       "      <th>CME_ID</th>\n",
       "    </tr>\n",
       "  </thead>\n",
       "  <tbody>\n",
       "    <tr>\n",
       "      <th>0</th>\n",
       "      <td>sharkninja.com</td>\n",
       "      <td>4555</td>\n",
       "    </tr>\n",
       "    <tr>\n",
       "      <th>1</th>\n",
       "      <td>sharkninja.com</td>\n",
       "      <td>8852</td>\n",
       "    </tr>\n",
       "    <tr>\n",
       "      <th>2</th>\n",
       "      <td>sharkninja.com</td>\n",
       "      <td>9680</td>\n",
       "    </tr>\n",
       "    <tr>\n",
       "      <th>3</th>\n",
       "      <td>sharkninja.com</td>\n",
       "      <td>6479</td>\n",
       "    </tr>\n",
       "    <tr>\n",
       "      <th>4</th>\n",
       "      <td>sharkninja.com</td>\n",
       "      <td>G6NY</td>\n",
       "    </tr>\n",
       "    <tr>\n",
       "      <th>...</th>\n",
       "      <td>...</td>\n",
       "      <td>...</td>\n",
       "    </tr>\n",
       "    <tr>\n",
       "      <th>12780</th>\n",
       "      <td>torys.com</td>\n",
       "      <td>NaN</td>\n",
       "    </tr>\n",
       "    <tr>\n",
       "      <th>12781</th>\n",
       "      <td>classycaps.com</td>\n",
       "      <td>G3RJ</td>\n",
       "    </tr>\n",
       "    <tr>\n",
       "      <th>12782</th>\n",
       "      <td>neopost.com</td>\n",
       "      <td>NaN</td>\n",
       "    </tr>\n",
       "    <tr>\n",
       "      <th>12783</th>\n",
       "      <td>NaN</td>\n",
       "      <td>NaN</td>\n",
       "    </tr>\n",
       "    <tr>\n",
       "      <th>12784</th>\n",
       "      <td>NaN</td>\n",
       "      <td>NaN</td>\n",
       "    </tr>\n",
       "  </tbody>\n",
       "</table>\n",
       "<p>12785 rows × 2 columns</p>\n",
       "</div>"
      ],
      "text/plain": [
       "              Domains CME_ID\n",
       "0      sharkninja.com   4555\n",
       "1      sharkninja.com   8852\n",
       "2      sharkninja.com   9680\n",
       "3      sharkninja.com   6479\n",
       "4      sharkninja.com   G6NY\n",
       "...               ...    ...\n",
       "12780       torys.com    NaN\n",
       "12781  classycaps.com   G3RJ\n",
       "12782     neopost.com    NaN\n",
       "12783             NaN    NaN\n",
       "12784             NaN    NaN\n",
       "\n",
       "[12785 rows x 2 columns]"
      ]
     },
     "execution_count": 64,
     "metadata": {},
     "output_type": "execute_result"
    }
   ],
   "source": [
    "df_3 = df_2.loc[:,[\"Domains\",\"CME_ID\"]]\n",
    "df_3"
   ]
  },
  {
   "cell_type": "code",
   "execution_count": 123,
   "metadata": {},
   "outputs": [
    {
     "name": "stdout",
     "output_type": "stream",
     "text": [
      "guangwei-china.com\n"
     ]
    }
   ],
   "source": [
    "for i in df_1[\"Domains\"]:\n",
    "    print(i)\n",
    "    break\n",
    "    val = df_3.loc[df_3['Domains'] == i, 'CME_ID']\n",
    "    print(val)"
   ]
  },
  {
   "cell_type": "code",
   "execution_count": 167,
   "metadata": {},
   "outputs": [],
   "source": [
    "import pandas as pd\n",
    "new = pd.DataFrame(columns=[\"CME-ID\"])"
   ]
  },
  {
   "cell_type": "code",
   "execution_count": 168,
   "metadata": {},
   "outputs": [
    {
     "data": {
      "text/html": [
       "<div>\n",
       "<style scoped>\n",
       "    .dataframe tbody tr th:only-of-type {\n",
       "        vertical-align: middle;\n",
       "    }\n",
       "\n",
       "    .dataframe tbody tr th {\n",
       "        vertical-align: top;\n",
       "    }\n",
       "\n",
       "    .dataframe thead th {\n",
       "        text-align: right;\n",
       "    }\n",
       "</style>\n",
       "<table border=\"1\" class=\"dataframe\">\n",
       "  <thead>\n",
       "    <tr style=\"text-align: right;\">\n",
       "      <th></th>\n",
       "      <th>CME-ID</th>\n",
       "    </tr>\n",
       "  </thead>\n",
       "  <tbody>\n",
       "  </tbody>\n",
       "</table>\n",
       "</div>"
      ],
      "text/plain": [
       "Empty DataFrame\n",
       "Columns: [CME-ID]\n",
       "Index: []"
      ]
     },
     "execution_count": 168,
     "metadata": {},
     "output_type": "execute_result"
    }
   ],
   "source": [
    "new"
   ]
  },
  {
   "cell_type": "code",
   "execution_count": 171,
   "metadata": {},
   "outputs": [],
   "source": [
    "import numpy as np\n",
    "u = 0\n",
    "for i in df_1[\"Domains\"]:\n",
    "    lis = []\n",
    "    val = df_3.loc[df_3[\"Domains\"] == i, \"CME_ID\"]\n",
    "    val = val[~val[:].isna()]\n",
    "    for p in val:\n",
    "        lis.append(p)\n",
    "    lis_val = \"\"\n",
    "    for i in lis:\n",
    "        lis_val += i+\",\"\n",
    "    new.loc[u] = lis_val\n",
    "    u+=1"
   ]
  },
  {
   "cell_type": "code",
   "execution_count": 172,
   "metadata": {},
   "outputs": [
    {
     "data": {
      "text/html": [
       "<div>\n",
       "<style scoped>\n",
       "    .dataframe tbody tr th:only-of-type {\n",
       "        vertical-align: middle;\n",
       "    }\n",
       "\n",
       "    .dataframe tbody tr th {\n",
       "        vertical-align: top;\n",
       "    }\n",
       "\n",
       "    .dataframe thead th {\n",
       "        text-align: right;\n",
       "    }\n",
       "</style>\n",
       "<table border=\"1\" class=\"dataframe\">\n",
       "  <thead>\n",
       "    <tr style=\"text-align: right;\">\n",
       "      <th></th>\n",
       "      <th>CME-ID</th>\n",
       "    </tr>\n",
       "  </thead>\n",
       "  <tbody>\n",
       "    <tr>\n",
       "      <th>0</th>\n",
       "      <td>1747,</td>\n",
       "    </tr>\n",
       "    <tr>\n",
       "      <th>1</th>\n",
       "      <td>1747,</td>\n",
       "    </tr>\n",
       "    <tr>\n",
       "      <th>2</th>\n",
       "      <td>1747,</td>\n",
       "    </tr>\n",
       "    <tr>\n",
       "      <th>3</th>\n",
       "      <td>1747,</td>\n",
       "    </tr>\n",
       "    <tr>\n",
       "      <th>4</th>\n",
       "      <td>1747,</td>\n",
       "    </tr>\n",
       "    <tr>\n",
       "      <th>...</th>\n",
       "      <td>...</td>\n",
       "    </tr>\n",
       "    <tr>\n",
       "      <th>2488</th>\n",
       "      <td>G694,</td>\n",
       "    </tr>\n",
       "    <tr>\n",
       "      <th>2489</th>\n",
       "      <td>G694,</td>\n",
       "    </tr>\n",
       "    <tr>\n",
       "      <th>2490</th>\n",
       "      <td>G694,</td>\n",
       "    </tr>\n",
       "    <tr>\n",
       "      <th>2491</th>\n",
       "      <td>G694,</td>\n",
       "    </tr>\n",
       "    <tr>\n",
       "      <th>2492</th>\n",
       "      <td>G694,</td>\n",
       "    </tr>\n",
       "  </tbody>\n",
       "</table>\n",
       "<p>2493 rows × 1 columns</p>\n",
       "</div>"
      ],
      "text/plain": [
       "     CME-ID\n",
       "0     1747,\n",
       "1     1747,\n",
       "2     1747,\n",
       "3     1747,\n",
       "4     1747,\n",
       "...     ...\n",
       "2488  G694,\n",
       "2489  G694,\n",
       "2490  G694,\n",
       "2491  G694,\n",
       "2492  G694,\n",
       "\n",
       "[2493 rows x 1 columns]"
      ]
     },
     "execution_count": 172,
     "metadata": {},
     "output_type": "execute_result"
    }
   ],
   "source": [
    "new"
   ]
  },
  {
   "cell_type": "code",
   "execution_count": 173,
   "metadata": {},
   "outputs": [],
   "source": [
    "df_ = df_1.join(new)"
   ]
  },
  {
   "cell_type": "code",
   "execution_count": 180,
   "metadata": {},
   "outputs": [
    {
     "data": {
      "text/plain": [
       "901"
      ]
     },
     "execution_count": 180,
     "metadata": {},
     "output_type": "execute_result"
    }
   ],
   "source": [
    "len([val for val in df_[\"CME-ID\"] if len(val)==0])"
   ]
  },
  {
   "cell_type": "code",
   "execution_count": 174,
   "metadata": {},
   "outputs": [],
   "source": [
    "df_.to_csv(\"md_97y_fin_1.csv\")"
   ]
  },
  {
   "cell_type": "code",
   "execution_count": 108,
   "metadata": {},
   "outputs": [
    {
     "data": {
      "text/html": [
       "<div>\n",
       "<style scoped>\n",
       "    .dataframe tbody tr th:only-of-type {\n",
       "        vertical-align: middle;\n",
       "    }\n",
       "\n",
       "    .dataframe tbody tr th {\n",
       "        vertical-align: top;\n",
       "    }\n",
       "\n",
       "    .dataframe thead th {\n",
       "        text-align: right;\n",
       "    }\n",
       "</style>\n",
       "<table border=\"1\" class=\"dataframe\">\n",
       "  <thead>\n",
       "    <tr style=\"text-align: right;\">\n",
       "      <th></th>\n",
       "      <th>Domains</th>\n",
       "      <th>CME_ID</th>\n",
       "    </tr>\n",
       "  </thead>\n",
       "  <tbody>\n",
       "    <tr>\n",
       "      <th>238</th>\n",
       "      <td>cantire.com</td>\n",
       "      <td>NaN</td>\n",
       "    </tr>\n",
       "    <tr>\n",
       "      <th>1883</th>\n",
       "      <td>cantire.com</td>\n",
       "      <td>NaN</td>\n",
       "    </tr>\n",
       "    <tr>\n",
       "      <th>2363</th>\n",
       "      <td>cantire.com</td>\n",
       "      <td>NaN</td>\n",
       "    </tr>\n",
       "    <tr>\n",
       "      <th>2923</th>\n",
       "      <td>cantire.com</td>\n",
       "      <td>NaN</td>\n",
       "    </tr>\n",
       "    <tr>\n",
       "      <th>5779</th>\n",
       "      <td>cantire.com</td>\n",
       "      <td>NaN</td>\n",
       "    </tr>\n",
       "    <tr>\n",
       "      <th>6556</th>\n",
       "      <td>cantire.com</td>\n",
       "      <td>G694</td>\n",
       "    </tr>\n",
       "    <tr>\n",
       "      <th>6624</th>\n",
       "      <td>cantire.com</td>\n",
       "      <td>NaN</td>\n",
       "    </tr>\n",
       "    <tr>\n",
       "      <th>7441</th>\n",
       "      <td>cantire.com</td>\n",
       "      <td>NaN</td>\n",
       "    </tr>\n",
       "    <tr>\n",
       "      <th>7773</th>\n",
       "      <td>cantire.com</td>\n",
       "      <td>NaN</td>\n",
       "    </tr>\n",
       "    <tr>\n",
       "      <th>8079</th>\n",
       "      <td>cantire.com</td>\n",
       "      <td>NaN</td>\n",
       "    </tr>\n",
       "    <tr>\n",
       "      <th>8337</th>\n",
       "      <td>cantire.com</td>\n",
       "      <td>NaN</td>\n",
       "    </tr>\n",
       "    <tr>\n",
       "      <th>8808</th>\n",
       "      <td>cantire.com</td>\n",
       "      <td>NaN</td>\n",
       "    </tr>\n",
       "    <tr>\n",
       "      <th>9172</th>\n",
       "      <td>cantire.com</td>\n",
       "      <td>NaN</td>\n",
       "    </tr>\n",
       "    <tr>\n",
       "      <th>9402</th>\n",
       "      <td>cantire.com</td>\n",
       "      <td>NaN</td>\n",
       "    </tr>\n",
       "    <tr>\n",
       "      <th>9944</th>\n",
       "      <td>cantire.com</td>\n",
       "      <td>NaN</td>\n",
       "    </tr>\n",
       "    <tr>\n",
       "      <th>10156</th>\n",
       "      <td>cantire.com</td>\n",
       "      <td>NaN</td>\n",
       "    </tr>\n",
       "    <tr>\n",
       "      <th>11273</th>\n",
       "      <td>cantire.com</td>\n",
       "      <td>NaN</td>\n",
       "    </tr>\n",
       "    <tr>\n",
       "      <th>11435</th>\n",
       "      <td>cantire.com</td>\n",
       "      <td>NaN</td>\n",
       "    </tr>\n",
       "    <tr>\n",
       "      <th>12206</th>\n",
       "      <td>cantire.com</td>\n",
       "      <td>NaN</td>\n",
       "    </tr>\n",
       "    <tr>\n",
       "      <th>12256</th>\n",
       "      <td>cantire.com</td>\n",
       "      <td>NaN</td>\n",
       "    </tr>\n",
       "    <tr>\n",
       "      <th>12372</th>\n",
       "      <td>cantire.com</td>\n",
       "      <td>NaN</td>\n",
       "    </tr>\n",
       "  </tbody>\n",
       "</table>\n",
       "</div>"
      ],
      "text/plain": [
       "           Domains CME_ID\n",
       "238    cantire.com    NaN\n",
       "1883   cantire.com    NaN\n",
       "2363   cantire.com    NaN\n",
       "2923   cantire.com    NaN\n",
       "5779   cantire.com    NaN\n",
       "6556   cantire.com   G694\n",
       "6624   cantire.com    NaN\n",
       "7441   cantire.com    NaN\n",
       "7773   cantire.com    NaN\n",
       "8079   cantire.com    NaN\n",
       "8337   cantire.com    NaN\n",
       "8808   cantire.com    NaN\n",
       "9172   cantire.com    NaN\n",
       "9402   cantire.com    NaN\n",
       "9944   cantire.com    NaN\n",
       "10156  cantire.com    NaN\n",
       "11273  cantire.com    NaN\n",
       "11435  cantire.com    NaN\n",
       "12206  cantire.com    NaN\n",
       "12256  cantire.com    NaN\n",
       "12372  cantire.com    NaN"
      ]
     },
     "execution_count": 108,
     "metadata": {},
     "output_type": "execute_result"
    }
   ],
   "source": [
    "len(df_3[\"Domains\"].unique())\n",
    "df_3[df_3[\"Domains\"][:] == \"cantire.com\"]"
   ]
  },
  {
   "cell_type": "code",
   "execution_count": 66,
   "metadata": {},
   "outputs": [
    {
     "data": {
      "text/plain": [
       "(27301, 8)"
      ]
     },
     "execution_count": 66,
     "metadata": {},
     "output_type": "execute_result"
    }
   ],
   "source": [
    "df_ = pd.merge(df_1,df_3, on=\"Domains\", how='left')\n",
    "df_.shape"
   ]
  },
  {
   "cell_type": "code",
   "execution_count": 67,
   "metadata": {},
   "outputs": [
    {
     "data": {
      "text/html": [
       "<div>\n",
       "<style scoped>\n",
       "    .dataframe tbody tr th:only-of-type {\n",
       "        vertical-align: middle;\n",
       "    }\n",
       "\n",
       "    .dataframe tbody tr th {\n",
       "        vertical-align: top;\n",
       "    }\n",
       "\n",
       "    .dataframe thead th {\n",
       "        text-align: right;\n",
       "    }\n",
       "</style>\n",
       "<table border=\"1\" class=\"dataframe\">\n",
       "  <thead>\n",
       "    <tr style=\"text-align: right;\">\n",
       "      <th></th>\n",
       "      <th>md5</th>\n",
       "      <th>subject</th>\n",
       "      <th>from_domain</th>\n",
       "      <th>to_domain</th>\n",
       "      <th>begin_email_date</th>\n",
       "      <th>end_email_date</th>\n",
       "      <th>Domains</th>\n",
       "      <th>CME_ID</th>\n",
       "    </tr>\n",
       "  </thead>\n",
       "  <tbody>\n",
       "    <tr>\n",
       "      <th>0</th>\n",
       "      <td>['a44c407f804960d920486ecd0cf45d8c']</td>\n",
       "      <td>['Re: RE: RE: RE: RE: Re: 1% Vendor Fund Initi...</td>\n",
       "      <td>['guangwei-china.com']</td>\n",
       "      <td>['cantire.com']</td>\n",
       "      <td>[' October 10  2019 ']</td>\n",
       "      <td>[' September 4  2020 ']</td>\n",
       "      <td>guangwei-china.com</td>\n",
       "      <td>1747</td>\n",
       "    </tr>\n",
       "    <tr>\n",
       "      <th>1</th>\n",
       "      <td>['cada51b7c31e0bc056dd7b039643daf1']</td>\n",
       "      <td>['Re: RE: RE: RE: Re: 1% Vendor Fund Initiativ...</td>\n",
       "      <td>['guangwei-china.com']</td>\n",
       "      <td>['cantire.com']</td>\n",
       "      <td>[' October 10  2019 ']</td>\n",
       "      <td>[' December 18  2019 ']</td>\n",
       "      <td>guangwei-china.com</td>\n",
       "      <td>1747</td>\n",
       "    </tr>\n",
       "    <tr>\n",
       "      <th>2</th>\n",
       "      <td>['1c0bc1b741d35cacf52f25b1bd1e6d23']</td>\n",
       "      <td>['Re: Re: RE: RE: RE: Re: 1% Vendor Fund Initi...</td>\n",
       "      <td>['guangwei-china.com']</td>\n",
       "      <td>['cantire.com']</td>\n",
       "      <td>[' October 10  2019 ']</td>\n",
       "      <td>[' December 18  2019 ']</td>\n",
       "      <td>guangwei-china.com</td>\n",
       "      <td>1747</td>\n",
       "    </tr>\n",
       "    <tr>\n",
       "      <th>3</th>\n",
       "      <td>['4b24e4b46998bf61e3f6720b38c7d1f8']</td>\n",
       "      <td>['RE: RE: RE: RE: Re: 1% Vendor Fund Initiativ...</td>\n",
       "      <td>['cantire.com']</td>\n",
       "      <td>['guangwei-china.com']</td>\n",
       "      <td>[' October 10  2019 ']</td>\n",
       "      <td>[' September 4  2020 ']</td>\n",
       "      <td>guangwei-china.com</td>\n",
       "      <td>1747</td>\n",
       "    </tr>\n",
       "    <tr>\n",
       "      <th>4</th>\n",
       "      <td>['339d20dc5ab218edcff48a75de4ae7e7']</td>\n",
       "      <td>['RE: Re: RE: RE: RE: Re: 1% Vendor Fund Initi...</td>\n",
       "      <td>['cantire.com']</td>\n",
       "      <td>['guangwei-china.com']</td>\n",
       "      <td>[' October 10  2019 ']</td>\n",
       "      <td>[' September 11  2020 ']</td>\n",
       "      <td>guangwei-china.com</td>\n",
       "      <td>1747</td>\n",
       "    </tr>\n",
       "    <tr>\n",
       "      <th>...</th>\n",
       "      <td>...</td>\n",
       "      <td>...</td>\n",
       "      <td>...</td>\n",
       "      <td>...</td>\n",
       "      <td>...</td>\n",
       "      <td>...</td>\n",
       "      <td>...</td>\n",
       "      <td>...</td>\n",
       "    </tr>\n",
       "    <tr>\n",
       "      <th>27296</th>\n",
       "      <td>NaN</td>\n",
       "      <td>NaN</td>\n",
       "      <td>NaN</td>\n",
       "      <td>NaN</td>\n",
       "      <td>NaN</td>\n",
       "      <td>NaN</td>\n",
       "      <td>versapet.com</td>\n",
       "      <td>G515</td>\n",
       "    </tr>\n",
       "    <tr>\n",
       "      <th>27297</th>\n",
       "      <td>NaN</td>\n",
       "      <td>NaN</td>\n",
       "      <td>NaN</td>\n",
       "      <td>NaN</td>\n",
       "      <td>NaN</td>\n",
       "      <td>NaN</td>\n",
       "      <td>foremostgroups.com</td>\n",
       "      <td>G46F</td>\n",
       "    </tr>\n",
       "    <tr>\n",
       "      <th>27298</th>\n",
       "      <td>NaN</td>\n",
       "      <td>NaN</td>\n",
       "      <td>NaN</td>\n",
       "      <td>NaN</td>\n",
       "      <td>NaN</td>\n",
       "      <td>NaN</td>\n",
       "      <td>kidsvip.ca</td>\n",
       "      <td>G6F6</td>\n",
       "    </tr>\n",
       "    <tr>\n",
       "      <th>27299</th>\n",
       "      <td>NaN</td>\n",
       "      <td>NaN</td>\n",
       "      <td>NaN</td>\n",
       "      <td>NaN</td>\n",
       "      <td>NaN</td>\n",
       "      <td>NaN</td>\n",
       "      <td>vicwestbrands.com</td>\n",
       "      <td>NaN</td>\n",
       "    </tr>\n",
       "    <tr>\n",
       "      <th>27300</th>\n",
       "      <td>NaN</td>\n",
       "      <td>NaN</td>\n",
       "      <td>NaN</td>\n",
       "      <td>NaN</td>\n",
       "      <td>NaN</td>\n",
       "      <td>NaN</td>\n",
       "      <td>classycaps.com</td>\n",
       "      <td>G3RJ</td>\n",
       "    </tr>\n",
       "  </tbody>\n",
       "</table>\n",
       "<p>27301 rows × 8 columns</p>\n",
       "</div>"
      ],
      "text/plain": [
       "                                        md5  \\\n",
       "0      ['a44c407f804960d920486ecd0cf45d8c']   \n",
       "1      ['cada51b7c31e0bc056dd7b039643daf1']   \n",
       "2      ['1c0bc1b741d35cacf52f25b1bd1e6d23']   \n",
       "3      ['4b24e4b46998bf61e3f6720b38c7d1f8']   \n",
       "4      ['339d20dc5ab218edcff48a75de4ae7e7']   \n",
       "...                                     ...   \n",
       "27296                                   NaN   \n",
       "27297                                   NaN   \n",
       "27298                                   NaN   \n",
       "27299                                   NaN   \n",
       "27300                                   NaN   \n",
       "\n",
       "                                                 subject  \\\n",
       "0      ['Re: RE: RE: RE: RE: Re: 1% Vendor Fund Initi...   \n",
       "1      ['Re: RE: RE: RE: Re: 1% Vendor Fund Initiativ...   \n",
       "2      ['Re: Re: RE: RE: RE: Re: 1% Vendor Fund Initi...   \n",
       "3      ['RE: RE: RE: RE: Re: 1% Vendor Fund Initiativ...   \n",
       "4      ['RE: Re: RE: RE: RE: Re: 1% Vendor Fund Initi...   \n",
       "...                                                  ...   \n",
       "27296                                                NaN   \n",
       "27297                                                NaN   \n",
       "27298                                                NaN   \n",
       "27299                                                NaN   \n",
       "27300                                                NaN   \n",
       "\n",
       "                  from_domain               to_domain        begin_email_date  \\\n",
       "0      ['guangwei-china.com']         ['cantire.com']  [' October 10  2019 ']   \n",
       "1      ['guangwei-china.com']         ['cantire.com']  [' October 10  2019 ']   \n",
       "2      ['guangwei-china.com']         ['cantire.com']  [' October 10  2019 ']   \n",
       "3             ['cantire.com']  ['guangwei-china.com']  [' October 10  2019 ']   \n",
       "4             ['cantire.com']  ['guangwei-china.com']  [' October 10  2019 ']   \n",
       "...                       ...                     ...                     ...   \n",
       "27296                     NaN                     NaN                     NaN   \n",
       "27297                     NaN                     NaN                     NaN   \n",
       "27298                     NaN                     NaN                     NaN   \n",
       "27299                     NaN                     NaN                     NaN   \n",
       "27300                     NaN                     NaN                     NaN   \n",
       "\n",
       "                 end_email_date             Domains CME_ID  \n",
       "0       [' September 4  2020 ']  guangwei-china.com   1747  \n",
       "1       [' December 18  2019 ']  guangwei-china.com   1747  \n",
       "2       [' December 18  2019 ']  guangwei-china.com   1747  \n",
       "3       [' September 4  2020 ']  guangwei-china.com   1747  \n",
       "4      [' September 11  2020 ']  guangwei-china.com   1747  \n",
       "...                         ...                 ...    ...  \n",
       "27296                       NaN        versapet.com   G515  \n",
       "27297                       NaN  foremostgroups.com   G46F  \n",
       "27298                       NaN          kidsvip.ca   G6F6  \n",
       "27299                       NaN   vicwestbrands.com    NaN  \n",
       "27300                       NaN      classycaps.com   G3RJ  \n",
       "\n",
       "[27301 rows x 8 columns]"
      ]
     },
     "execution_count": 67,
     "metadata": {},
     "output_type": "execute_result"
    }
   ],
   "source": [
    "df_"
   ]
  },
  {
   "cell_type": "code",
   "execution_count": 48,
   "metadata": {},
   "outputs": [],
   "source": [
    "df_.to_csv(\"md_97y_fin.csv\")"
   ]
  },
  {
   "cell_type": "code",
   "execution_count": null,
   "metadata": {},
   "outputs": [],
   "source": []
  },
  {
   "cell_type": "code",
   "execution_count": null,
   "metadata": {},
   "outputs": [],
   "source": []
  },
  {
   "cell_type": "code",
   "execution_count": null,
   "metadata": {},
   "outputs": [],
   "source": []
  },
  {
   "cell_type": "code",
   "execution_count": null,
   "metadata": {},
   "outputs": [],
   "source": []
  },
  {
   "cell_type": "code",
   "execution_count": null,
   "metadata": {},
   "outputs": [],
   "source": []
  },
  {
   "cell_type": "code",
   "execution_count": null,
   "metadata": {},
   "outputs": [],
   "source": []
  },
  {
   "cell_type": "code",
   "execution_count": null,
   "metadata": {},
   "outputs": [],
   "source": []
  },
  {
   "cell_type": "code",
   "execution_count": null,
   "metadata": {},
   "outputs": [],
   "source": []
  },
  {
   "cell_type": "code",
   "execution_count": null,
   "metadata": {},
   "outputs": [],
   "source": []
  },
  {
   "cell_type": "code",
   "execution_count": null,
   "metadata": {},
   "outputs": [],
   "source": []
  },
  {
   "cell_type": "code",
   "execution_count": null,
   "metadata": {},
   "outputs": [],
   "source": []
  },
  {
   "cell_type": "code",
   "execution_count": null,
   "metadata": {},
   "outputs": [],
   "source": []
  },
  {
   "cell_type": "code",
   "execution_count": null,
   "metadata": {},
   "outputs": [],
   "source": []
  },
  {
   "cell_type": "code",
   "execution_count": null,
   "metadata": {},
   "outputs": [],
   "source": []
  },
  {
   "cell_type": "code",
   "execution_count": null,
   "metadata": {},
   "outputs": [],
   "source": []
  },
  {
   "cell_type": "code",
   "execution_count": null,
   "metadata": {},
   "outputs": [],
   "source": []
  },
  {
   "cell_type": "code",
   "execution_count": null,
   "metadata": {},
   "outputs": [],
   "source": []
  },
  {
   "cell_type": "code",
   "execution_count": null,
   "metadata": {},
   "outputs": [],
   "source": []
  },
  {
   "cell_type": "code",
   "execution_count": null,
   "metadata": {},
   "outputs": [],
   "source": []
  },
  {
   "cell_type": "code",
   "execution_count": 173,
   "metadata": {},
   "outputs": [
    {
     "name": "stdout",
     "output_type": "stream",
     "text": [
      "/mnt/cantire-analytics/datarepo/zz\n"
     ]
    }
   ],
   "source": [
    "cd zz"
   ]
  },
  {
   "cell_type": "code",
   "execution_count": 249,
   "metadata": {},
   "outputs": [
    {
     "data": {
      "text/plain": [
       "(22543, 17)"
      ]
     },
     "execution_count": 249,
     "metadata": {},
     "output_type": "execute_result"
    }
   ],
   "source": [
    "df = pd.read_excel(\"entityExtractionCD_290.xlsx\")\n",
    "df.head(1)\n",
    "df.shape"
   ]
  },
  {
   "cell_type": "code",
   "execution_count": 250,
   "metadata": {},
   "outputs": [
    {
     "data": {
      "text/plain": [
       "234"
      ]
     },
     "execution_count": 250,
     "metadata": {},
     "output_type": "execute_result"
    }
   ],
   "source": [
    "md5s = df[\"md5\"].unique()\n",
    "len(md5s)"
   ]
  },
  {
   "cell_type": "code",
   "execution_count": 251,
   "metadata": {},
   "outputs": [
    {
     "data": {
      "text/plain": [
       "'595c0a4495d5a7cda7e6be80349050b3'"
      ]
     },
     "execution_count": 251,
     "metadata": {},
     "output_type": "execute_result"
    }
   ],
   "source": [
    "md5s[0]"
   ]
  },
  {
   "cell_type": "code",
   "execution_count": 252,
   "metadata": {},
   "outputs": [],
   "source": [
    "# import csv\n",
    "# header = [\"md5\",\"from\",\"to\",\"subject\",\"email_date\"]\n",
    "# with open(\"entity_ext_290.csv\",\"a\") as f:\n",
    "#             csvwriter = csv.writer(f)\n",
    "#             csvwriter.writerow(header)"
   ]
  },
  {
   "cell_type": "code",
   "execution_count": 366,
   "metadata": {},
   "outputs": [
    {
     "name": "stderr",
     "output_type": "stream",
     "text": [
      "  0%|          | 0/234 [00:00<?, ?it/s]/opt/anaconda3/lib/python3.7/site-packages/ipykernel_launcher.py:22: DeprecationWarning: The 'body' parameter is deprecated for the 'search' API and will be removed in a future version. Instead use API parameters directly. See https://github.com/elastic/elasticsearch-py/issues/1698 for more information\n",
      "  0%|          | 0/234 [00:02<?, ?it/s]"
     ]
    },
    {
     "name": "stdout",
     "output_type": "stream",
     "text": [
      "[['595c0a4495d5a7cda7e6be80349050b3', ['Melissa.McCreary@cantire.com'], ['Madison.Merritt@cantire.com'], ['Goodbaby Canada Cost Down D333-336-337'], ['2021/10/15 15:52:06']]]\n"
     ]
    },
    {
     "name": "stderr",
     "output_type": "stream",
     "text": [
      "\n"
     ]
    }
   ],
   "source": [
    "from tqdm import tqdm\n",
    "i=0\n",
    "lis = []\n",
    "for name in tqdm(md5s):\n",
    "    i+=1\n",
    "    body = {\n",
    "        \"query\":{\n",
    "            \"bool\":{\n",
    "                \"must\":[{\n",
    "                    \"match_phrase\":{\n",
    "                        \"Attachment.MD5\":name\n",
    "                    }\n",
    "                },\n",
    "                {\n",
    "                    \"match_phrase_prefix\":{\n",
    "                        \"fileType\":\"Email\"\n",
    "                    }\n",
    "                }]\n",
    "            }\n",
    "        }\n",
    "    }\n",
    "    res = es.search(index=[\"cantire-2021-*\",\"cantire-2022-*\"],body = body)\n",
    "    frm = []\n",
    "    to = []\n",
    "    sub = []\n",
    "    date = []\n",
    "    try:\n",
    "        f = res[\"hits\"][\"hits\"][0][\"_source\"][\"metaData\"][\"from\"]\n",
    "        if type(f)!=str:\n",
    "            frm.extend(f)\n",
    "        else:\n",
    "            frm.append(f)\n",
    "    except:\n",
    "        pass\n",
    "    try:\n",
    "        t = res[\"hits\"][\"hits\"][0][\"_source\"][\"metaData\"][\"to\"]\n",
    "        if type(t)!=str:\n",
    "            to.extend(t)\n",
    "        else:\n",
    "            to.append(t)\n",
    "    except:\n",
    "        pass\n",
    "    try:\n",
    "        s = res[\"hits\"][\"hits\"][0][\"_source\"][\"metaData\"][\"subject\"]\n",
    "        if type(s)!=str:\n",
    "            sub.extend(s)\n",
    "        else:\n",
    "            sub.append(s)\n",
    "    except:\n",
    "        pass\n",
    "    try:\n",
    "        d = res[\"hits\"][\"hits\"][0][\"_source\"][\"metaData\"][\"date\"]\n",
    "        if type(d)!=str:\n",
    "            date.extend(d)\n",
    "        else:\n",
    "            date.append(d)\n",
    "    except:\n",
    "        pass\n",
    "    lis.extend([[name,frm,to,sub,date]])\n",
    "    print(lis)\n",
    "    break\n",
    "#     if i==100:\n",
    "#         with open(\"entity_ext_290.csv\",\"a\") as file:\n",
    "#             csvwriter = csv.writer(file)\n",
    "#             csvwriter.writerows(lis)\n",
    "#         lis=[]\n",
    "#         i=0\n",
    "# if i!=0:\n",
    "#     with open(\"entity_ext_290.csv\",\"a\") as file:\n",
    "#             csvwriter = csv.writer(file)\n",
    "#             csvwriter.writerows(lis)"
   ]
  },
  {
   "cell_type": "code",
   "execution_count": 254,
   "metadata": {},
   "outputs": [
    {
     "data": {
      "text/html": [
       "<div>\n",
       "<style scoped>\n",
       "    .dataframe tbody tr th:only-of-type {\n",
       "        vertical-align: middle;\n",
       "    }\n",
       "\n",
       "    .dataframe tbody tr th {\n",
       "        vertical-align: top;\n",
       "    }\n",
       "\n",
       "    .dataframe thead th {\n",
       "        text-align: right;\n",
       "    }\n",
       "</style>\n",
       "<table border=\"1\" class=\"dataframe\">\n",
       "  <thead>\n",
       "    <tr style=\"text-align: right;\">\n",
       "      <th></th>\n",
       "      <th>sku</th>\n",
       "      <th>product_description</th>\n",
       "      <th>cost_per_unit</th>\n",
       "      <th>vendor_name</th>\n",
       "      <th>vendor_number</th>\n",
       "      <th>date</th>\n",
       "      <th>purchase_agreement_date</th>\n",
       "      <th>cbm_number</th>\n",
       "      <th>cbm_name</th>\n",
       "      <th>contract_number</th>\n",
       "      <th>promotional_deal</th>\n",
       "      <th>signatures</th>\n",
       "      <th>format</th>\n",
       "      <th>source</th>\n",
       "      <th>filename</th>\n",
       "      <th>md5</th>\n",
       "      <th>program_name</th>\n",
       "    </tr>\n",
       "  </thead>\n",
       "  <tbody>\n",
       "    <tr>\n",
       "      <th>0</th>\n",
       "      <td>0463980 EVNFL SYMPHONY</td>\n",
       "      <td>20</td>\n",
       "      <td>20</td>\n",
       "      <td>Goodbaby Canada Inc</td>\n",
       "      <td>7516</td>\n",
       "      <td>2021-10-15 00:00:00</td>\n",
       "      <td>NaN</td>\n",
       "      <td>139</td>\n",
       "      <td>Elena Branch</td>\n",
       "      <td>21-333-336-337-137-7516-POST</td>\n",
       "      <td>NaN</td>\n",
       "      <td>0</td>\n",
       "      <td>old</td>\n",
       "      <td>email</td>\n",
       "      <td>21-333-336-337-139-7516-POST.pdf</td>\n",
       "      <td>595c0a4495d5a7cda7e6be80349050b3</td>\n",
       "      <td>NaN</td>\n",
       "    </tr>\n",
       "  </tbody>\n",
       "</table>\n",
       "</div>"
      ],
      "text/plain": [
       "                      sku product_description cost_per_unit  \\\n",
       "0  0463980 EVNFL SYMPHONY                  20            20   \n",
       "\n",
       "           vendor_name vendor_number                 date  \\\n",
       "0  Goodbaby Canada Inc          7516  2021-10-15 00:00:00   \n",
       "\n",
       "  purchase_agreement_date cbm_number      cbm_name  \\\n",
       "0                     NaN        139  Elena Branch   \n",
       "\n",
       "                contract_number promotional_deal  signatures format source  \\\n",
       "0  21-333-336-337-137-7516-POST              NaN           0    old  email   \n",
       "\n",
       "                           filename                               md5  \\\n",
       "0  21-333-336-337-139-7516-POST.pdf  595c0a4495d5a7cda7e6be80349050b3   \n",
       "\n",
       "  program_name  \n",
       "0          NaN  "
      ]
     },
     "execution_count": 254,
     "metadata": {},
     "output_type": "execute_result"
    }
   ],
   "source": [
    "import pandas as pd\n",
    "df1 = pd.read_excel(\"entityExtractionCD_290.xlsx\")\n",
    "df1.head(1)"
   ]
  },
  {
   "cell_type": "code",
   "execution_count": 255,
   "metadata": {},
   "outputs": [
    {
     "data": {
      "text/plain": [
       "32"
      ]
     },
     "execution_count": 255,
     "metadata": {},
     "output_type": "execute_result"
    }
   ],
   "source": [
    "df2 = pd.read_csv(\"entity_ext_290.csv\")\n",
    "len([val for val in df2[\"email_date\"] if len(eval(val))==0])"
   ]
  },
  {
   "cell_type": "code",
   "execution_count": 256,
   "metadata": {},
   "outputs": [],
   "source": [
    "k = []\n",
    "for i in range(len(df[\"email_date\"])):\n",
    "    if len(df[\"email_date\"][i]) <= 4:\n",
    "        k.append(i)"
   ]
  },
  {
   "cell_type": "code",
   "execution_count": 257,
   "metadata": {},
   "outputs": [
    {
     "data": {
      "text/plain": [
       "32"
      ]
     },
     "execution_count": 257,
     "metadata": {},
     "output_type": "execute_result"
    }
   ],
   "source": [
    "len(k)"
   ]
  },
  {
   "cell_type": "code",
   "execution_count": 258,
   "metadata": {},
   "outputs": [],
   "source": [
    "import csv\n",
    "header = [\"md5\"]\n",
    "with open(\"290_missing_md5_lis.csv\",\"a\") as f:\n",
    "            csvwriter = csv.writer(f)\n",
    "            csvwriter.writerow(header)"
   ]
  },
  {
   "cell_type": "code",
   "execution_count": 259,
   "metadata": {},
   "outputs": [],
   "source": [
    "for i in k:\n",
    "    lis = []\n",
    "    lis.append(df2[\"md5\"][i])\n",
    "    with open(\"290_missing_md5_lis.csv\",\"a\") as f:\n",
    "                csvwriter = csv.writer(f)\n",
    "                csvwriter.writerow(lis)"
   ]
  },
  {
   "cell_type": "code",
   "execution_count": null,
   "metadata": {},
   "outputs": [],
   "source": []
  },
  {
   "cell_type": "code",
   "execution_count": null,
   "metadata": {},
   "outputs": [],
   "source": []
  },
  {
   "cell_type": "code",
   "execution_count": 261,
   "metadata": {},
   "outputs": [
    {
     "data": {
      "text/html": [
       "<div>\n",
       "<style scoped>\n",
       "    .dataframe tbody tr th:only-of-type {\n",
       "        vertical-align: middle;\n",
       "    }\n",
       "\n",
       "    .dataframe tbody tr th {\n",
       "        vertical-align: top;\n",
       "    }\n",
       "\n",
       "    .dataframe thead th {\n",
       "        text-align: right;\n",
       "    }\n",
       "</style>\n",
       "<table border=\"1\" class=\"dataframe\">\n",
       "  <thead>\n",
       "    <tr style=\"text-align: right;\">\n",
       "      <th></th>\n",
       "      <th>md5</th>\n",
       "      <th>from</th>\n",
       "      <th>to</th>\n",
       "      <th>subject</th>\n",
       "      <th>email_date</th>\n",
       "    </tr>\n",
       "  </thead>\n",
       "  <tbody>\n",
       "    <tr>\n",
       "      <th>0</th>\n",
       "      <td>595c0a4495d5a7cda7e6be80349050b3</td>\n",
       "      <td>['Melissa.McCreary@cantire.com']</td>\n",
       "      <td>['Madison.Merritt@cantire.com']</td>\n",
       "      <td>['Goodbaby Canada Cost Down D333-336-337']</td>\n",
       "      <td>['2021/10/15 15:52:06']</td>\n",
       "    </tr>\n",
       "  </tbody>\n",
       "</table>\n",
       "</div>"
      ],
      "text/plain": [
       "                                md5                              from  \\\n",
       "0  595c0a4495d5a7cda7e6be80349050b3  ['Melissa.McCreary@cantire.com']   \n",
       "\n",
       "                                to  \\\n",
       "0  ['Madison.Merritt@cantire.com']   \n",
       "\n",
       "                                      subject               email_date  \n",
       "0  ['Goodbaby Canada Cost Down D333-336-337']  ['2021/10/15 15:52:06']  "
      ]
     },
     "execution_count": 261,
     "metadata": {},
     "output_type": "execute_result"
    }
   ],
   "source": [
    "df2.head(1)"
   ]
  },
  {
   "cell_type": "code",
   "execution_count": 263,
   "metadata": {},
   "outputs": [
    {
     "data": {
      "text/plain": [
       "\"['2021/10/15 15:52:06']\""
      ]
     },
     "execution_count": 263,
     "metadata": {},
     "output_type": "execute_result"
    }
   ],
   "source": [
    "df2[\"email_date\"][0]"
   ]
  },
  {
   "cell_type": "code",
   "execution_count": 239,
   "metadata": {},
   "outputs": [
    {
     "data": {
      "text/plain": [
       "'0804e9277f9eb766cf2158ebcc738565'"
      ]
     },
     "execution_count": 239,
     "metadata": {},
     "output_type": "execute_result"
    }
   ],
   "source": [
    "df2[\"filename\"][36]"
   ]
  },
  {
   "cell_type": "code",
   "execution_count": 265,
   "metadata": {},
   "outputs": [
    {
     "data": {
      "text/plain": [
       "(22543, 21)"
      ]
     },
     "execution_count": 265,
     "metadata": {},
     "output_type": "execute_result"
    }
   ],
   "source": [
    "df = pd.merge(df1, df2, on='md5', how='left')\n",
    "df.shape"
   ]
  },
  {
   "cell_type": "code",
   "execution_count": 266,
   "metadata": {},
   "outputs": [],
   "source": [
    "df.to_csv(\"entitiy_extr_290_fin.csv\")"
   ]
  },
  {
   "cell_type": "code",
   "execution_count": 192,
   "metadata": {},
   "outputs": [
    {
     "data": {
      "text/html": [
       "<div>\n",
       "<style scoped>\n",
       "    .dataframe tbody tr th:only-of-type {\n",
       "        vertical-align: middle;\n",
       "    }\n",
       "\n",
       "    .dataframe tbody tr th {\n",
       "        vertical-align: top;\n",
       "    }\n",
       "\n",
       "    .dataframe thead th {\n",
       "        text-align: right;\n",
       "    }\n",
       "</style>\n",
       "<table border=\"1\" class=\"dataframe\">\n",
       "  <thead>\n",
       "    <tr style=\"text-align: right;\">\n",
       "      <th></th>\n",
       "      <th>Unnamed: 0</th>\n",
       "      <th>vendor_number</th>\n",
       "      <th>vendor_name</th>\n",
       "      <th>cbm_number</th>\n",
       "      <th>cbm_name</th>\n",
       "      <th>contract_number</th>\n",
       "      <th>contract_date</th>\n",
       "      <th>amount</th>\n",
       "      <th>program_name</th>\n",
       "      <th>filename</th>\n",
       "      <th>md5</th>\n",
       "      <th>from</th>\n",
       "      <th>to</th>\n",
       "      <th>subject</th>\n",
       "      <th>email_date</th>\n",
       "    </tr>\n",
       "  </thead>\n",
       "  <tbody>\n",
       "    <tr>\n",
       "      <th>0</th>\n",
       "      <td>0</td>\n",
       "      <td>9680</td>\n",
       "      <td>EURO-PRO CORPORATION</td>\n",
       "      <td>30.0</td>\n",
       "      <td>NaN</td>\n",
       "      <td>NaN</td>\n",
       "      <td>2022-09-12 00:00:00</td>\n",
       "      <td>200.06</td>\n",
       "      <td>Vendor Funds to Support Webshop Orders for DWO...</td>\n",
       "      <td>Shark_9680_-_Margin_O&amp;A_Q1_Q2_-_Webshop_Orders...</td>\n",
       "      <td>dabd09db079b69c5e71cff3fd6ca995c</td>\n",
       "      <td>['Meg.Casbourn@cantire.com']</td>\n",
       "      <td>['John.Hooke@cantire.com', 'REddy@sharkninja.c...</td>\n",
       "      <td>['[EXTERNAL] - RE: SHARK ALM Activity Tracking...</td>\n",
       "      <td>['2022/09/21 13:27:13']</td>\n",
       "    </tr>\n",
       "    <tr>\n",
       "      <th>1</th>\n",
       "      <td>1</td>\n",
       "      <td>3290</td>\n",
       "      <td>RUST-OLEUM CORP</td>\n",
       "      <td>NaN</td>\n",
       "      <td>NaN</td>\n",
       "      <td>NaN</td>\n",
       "      <td>NaN</td>\n",
       "      <td>Per Unit</td>\n",
       "      <td>2022 Q1 Cost Downs</td>\n",
       "      <td>22-0304-3290-163.pdf</td>\n",
       "      <td>965aebacf070da9ef75b1c45e0623023</td>\n",
       "      <td>[]</td>\n",
       "      <td>[]</td>\n",
       "      <td>[]</td>\n",
       "      <td>[]</td>\n",
       "    </tr>\n",
       "    <tr>\n",
       "      <th>2</th>\n",
       "      <td>2</td>\n",
       "      <td>NaN</td>\n",
       "      <td>NaN</td>\n",
       "      <td>58.0</td>\n",
       "      <td>NaN</td>\n",
       "      <td>NaN</td>\n",
       "      <td>NaN</td>\n",
       "      <td>Per Unit ($)</td>\n",
       "      <td>2022 Q4 Cost Downs</td>\n",
       "      <td>22-0349-4109-058.pdf</td>\n",
       "      <td>0e0f9d79ac55cf5cdd790b69eaf9a947</td>\n",
       "      <td>['\"Houle', 'houle.t@pg.com']</td>\n",
       "      <td>['Andrew.Holder@cantire.com']</td>\n",
       "      <td>['[EXTERNAL] - RE: Deals 0349/350/351 Updated ...</td>\n",
       "      <td>['2022/09/14 19:55:02']</td>\n",
       "    </tr>\n",
       "    <tr>\n",
       "      <th>3</th>\n",
       "      <td>3</td>\n",
       "      <td>NaN</td>\n",
       "      <td>NaN</td>\n",
       "      <td>NaN</td>\n",
       "      <td>NaN</td>\n",
       "      <td>NaN</td>\n",
       "      <td>NaN</td>\n",
       "      <td>See Schedule A attached hereto</td>\n",
       "      <td>Deal 329/2022</td>\n",
       "      <td>Deal_329_Cost_Down_OA_Agreement_-_v9344.pdf</td>\n",
       "      <td>feacec6cb818338171c53fb5af32483e</td>\n",
       "      <td>[]</td>\n",
       "      <td>[]</td>\n",
       "      <td>[]</td>\n",
       "      <td>[]</td>\n",
       "    </tr>\n",
       "    <tr>\n",
       "      <th>4</th>\n",
       "      <td>4</td>\n",
       "      <td>4520</td>\n",
       "      <td>MTD PRODUCTS LTD.</td>\n",
       "      <td>90.0</td>\n",
       "      <td>NaN</td>\n",
       "      <td>NaN</td>\n",
       "      <td>August 29th 2022</td>\n",
       "      <td>14569</td>\n",
       "      <td>Non Advertising O&amp;A</td>\n",
       "      <td>OverAbove_2022_MTDZT.pdf</td>\n",
       "      <td>48e1cf410ba92719d34f1b8e3f82ce03</td>\n",
       "      <td>['Karl.Solis@cantire.com']</td>\n",
       "      <td>['Vendor.Support@cantire.com']</td>\n",
       "      <td>['[EXTERNAL] - FW: O&amp;A for ZT Tractors - V# 21...</td>\n",
       "      <td>['2022/09/26 15:59:52']</td>\n",
       "    </tr>\n",
       "  </tbody>\n",
       "</table>\n",
       "</div>"
      ],
      "text/plain": [
       "   Unnamed: 0 vendor_number           vendor_name  cbm_number cbm_name  \\\n",
       "0           0          9680  EURO-PRO CORPORATION        30.0      NaN   \n",
       "1           1          3290       RUST-OLEUM CORP         NaN      NaN   \n",
       "2           2           NaN                   NaN        58.0      NaN   \n",
       "3           3           NaN                   NaN         NaN      NaN   \n",
       "4           4          4520     MTD PRODUCTS LTD.        90.0      NaN   \n",
       "\n",
       "  contract_number        contract_date                          amount  \\\n",
       "0             NaN  2022-09-12 00:00:00                          200.06   \n",
       "1             NaN                  NaN                        Per Unit   \n",
       "2             NaN                  NaN                    Per Unit ($)   \n",
       "3             NaN                  NaN  See Schedule A attached hereto   \n",
       "4             NaN     August 29th 2022                           14569   \n",
       "\n",
       "                                        program_name  \\\n",
       "0  Vendor Funds to Support Webshop Orders for DWO...   \n",
       "1                                 2022 Q1 Cost Downs   \n",
       "2                                 2022 Q4 Cost Downs   \n",
       "3                                      Deal 329/2022   \n",
       "4                                Non Advertising O&A   \n",
       "\n",
       "                                            filename  \\\n",
       "0  Shark_9680_-_Margin_O&A_Q1_Q2_-_Webshop_Orders...   \n",
       "1                               22-0304-3290-163.pdf   \n",
       "2                               22-0349-4109-058.pdf   \n",
       "3        Deal_329_Cost_Down_OA_Agreement_-_v9344.pdf   \n",
       "4                           OverAbove_2022_MTDZT.pdf   \n",
       "\n",
       "                                md5                          from  \\\n",
       "0  dabd09db079b69c5e71cff3fd6ca995c  ['Meg.Casbourn@cantire.com']   \n",
       "1  965aebacf070da9ef75b1c45e0623023                            []   \n",
       "2  0e0f9d79ac55cf5cdd790b69eaf9a947  ['\"Houle', 'houle.t@pg.com']   \n",
       "3  feacec6cb818338171c53fb5af32483e                            []   \n",
       "4  48e1cf410ba92719d34f1b8e3f82ce03    ['Karl.Solis@cantire.com']   \n",
       "\n",
       "                                                  to  \\\n",
       "0  ['John.Hooke@cantire.com', 'REddy@sharkninja.c...   \n",
       "1                                                 []   \n",
       "2                      ['Andrew.Holder@cantire.com']   \n",
       "3                                                 []   \n",
       "4                     ['Vendor.Support@cantire.com']   \n",
       "\n",
       "                                             subject               email_date  \n",
       "0  ['[EXTERNAL] - RE: SHARK ALM Activity Tracking...  ['2022/09/21 13:27:13']  \n",
       "1                                                 []                       []  \n",
       "2  ['[EXTERNAL] - RE: Deals 0349/350/351 Updated ...  ['2022/09/14 19:55:02']  \n",
       "3                                                 []                       []  \n",
       "4  ['[EXTERNAL] - FW: O&A for ZT Tractors - V# 21...  ['2022/09/26 15:59:52']  "
      ]
     },
     "execution_count": 192,
     "metadata": {},
     "output_type": "execute_result"
    }
   ],
   "source": [
    "df = pd.read_csv(\"oa-sep-oct-fin.csv\")\n",
    "df.head()"
   ]
  },
  {
   "cell_type": "code",
   "execution_count": 199,
   "metadata": {},
   "outputs": [
    {
     "data": {
      "text/plain": [
       "1774"
      ]
     },
     "execution_count": 199,
     "metadata": {},
     "output_type": "execute_result"
    }
   ],
   "source": [
    "len(df[\"email_date\"].isna())"
   ]
  },
  {
   "cell_type": "code",
   "execution_count": 205,
   "metadata": {},
   "outputs": [
    {
     "data": {
      "text/plain": [
       "807"
      ]
     },
     "execution_count": 205,
     "metadata": {},
     "output_type": "execute_result"
    }
   ],
   "source": [
    "len([val for val in df[\"email_date\"] if len(eval(val))==0])"
   ]
  },
  {
   "cell_type": "code",
   "execution_count": null,
   "metadata": {},
   "outputs": [],
   "source": []
  }
 ],
 "metadata": {
  "kernelspec": {
   "display_name": "Python 3",
   "language": "python",
   "name": "python3"
  },
  "language_info": {
   "codemirror_mode": {
    "name": "ipython",
    "version": 3
   },
   "file_extension": ".py",
   "mimetype": "text/x-python",
   "name": "python",
   "nbconvert_exporter": "python",
   "pygments_lexer": "ipython3",
   "version": "3.7.3"
  }
 },
 "nbformat": 4,
 "nbformat_minor": 2
}
