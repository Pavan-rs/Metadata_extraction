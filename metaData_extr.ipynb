{
 "cells": [
  {
   "cell_type": "code",
   "execution_count": 1,
   "metadata": {},
   "outputs": [],
   "source": [
    "from elasticsearch import Elasticsearch\n",
    "import json\n",
    "from elasticsearch.helpers import scan\n",
    "from elasticsearch_dsl import Search,Q\n",
    "from credentials import usr_pwd"
   ]
  },
  {
   "cell_type": "code",
   "execution_count": 2,
   "metadata": {},
   "outputs": [],
   "source": [
    "hosts = [\"10.1.8.6:9200\"]\n",
    "user,pas = usr_pwd()"
   ]
  },
  {
   "cell_type": "code",
   "execution_count": 3,
   "metadata": {},
   "outputs": [],
   "source": [
    "es = Elasticsearch(hosts,\n",
    "                  timeout = 6000,\n",
    "                  use_ssl = True,\n",
    "                  verify_certs = False,\n",
    "                  ssl_show_warn = False,\n",
    "                  raise_on_error = False,\n",
    "                  http_auth = (user,pas)\n",
    "                  )"
   ]
  },
  {
   "cell_type": "code",
   "execution_count": 4,
   "metadata": {},
   "outputs": [
    {
     "data": {
      "text/plain": [
       "True"
      ]
     },
     "execution_count": 4,
     "metadata": {},
     "output_type": "execute_result"
    }
   ],
   "source": [
    "es.ping()"
   ]
  },
  {
   "cell_type": "code",
   "execution_count": 5,
   "metadata": {},
   "outputs": [
    {
     "name": "stderr",
     "output_type": "stream",
     "text": [
      "/home/pavan_rs/.local/lib/python3.7/site-packages/pandas/compat/_optional.py:138: UserWarning: Pandas requires version '2.7.0' or newer of 'numexpr' (version '2.6.9' currently installed).\n",
      "  warnings.warn(msg, UserWarning)\n"
     ]
    }
   ],
   "source": [
    "import pandas as pd\n",
    "import numpy as np"
   ]
  },
  {
   "cell_type": "code",
   "execution_count": 6,
   "metadata": {},
   "outputs": [
    {
     "data": {
      "text/html": [
       "<div>\n",
       "<style scoped>\n",
       "    .dataframe tbody tr th:only-of-type {\n",
       "        vertical-align: middle;\n",
       "    }\n",
       "\n",
       "    .dataframe tbody tr th {\n",
       "        vertical-align: top;\n",
       "    }\n",
       "\n",
       "    .dataframe thead th {\n",
       "        text-align: right;\n",
       "    }\n",
       "</style>\n",
       "<table border=\"1\" class=\"dataframe\">\n",
       "  <thead>\n",
       "    <tr style=\"text-align: right;\">\n",
       "      <th></th>\n",
       "      <th>md5</th>\n",
       "      <th>From</th>\n",
       "      <th>To</th>\n",
       "      <th>Subject</th>\n",
       "      <th>Month/Year</th>\n",
       "    </tr>\n",
       "  </thead>\n",
       "  <tbody>\n",
       "    <tr>\n",
       "      <th>0</th>\n",
       "      <td>a7551870dbe26c7b810c986c023f7ea6</td>\n",
       "      <td>NaN</td>\n",
       "      <td>NaN</td>\n",
       "      <td>NaN</td>\n",
       "      <td>NaN</td>\n",
       "    </tr>\n",
       "    <tr>\n",
       "      <th>1</th>\n",
       "      <td>629ac74d1f717403516b0852e43461ad</td>\n",
       "      <td>NaN</td>\n",
       "      <td>NaN</td>\n",
       "      <td>NaN</td>\n",
       "      <td>NaN</td>\n",
       "    </tr>\n",
       "    <tr>\n",
       "      <th>2</th>\n",
       "      <td>9a58f66ce99522ba8649112a143027e0</td>\n",
       "      <td>NaN</td>\n",
       "      <td>NaN</td>\n",
       "      <td>NaN</td>\n",
       "      <td>NaN</td>\n",
       "    </tr>\n",
       "    <tr>\n",
       "      <th>3</th>\n",
       "      <td>79baab175907a5c9525471edf8c298b8</td>\n",
       "      <td>NaN</td>\n",
       "      <td>NaN</td>\n",
       "      <td>NaN</td>\n",
       "      <td>NaN</td>\n",
       "    </tr>\n",
       "    <tr>\n",
       "      <th>4</th>\n",
       "      <td>962a4f55273c5358bb5100e64b9d2df5</td>\n",
       "      <td>NaN</td>\n",
       "      <td>NaN</td>\n",
       "      <td>NaN</td>\n",
       "      <td>NaN</td>\n",
       "    </tr>\n",
       "    <tr>\n",
       "      <th>...</th>\n",
       "      <td>...</td>\n",
       "      <td>...</td>\n",
       "      <td>...</td>\n",
       "      <td>...</td>\n",
       "      <td>...</td>\n",
       "    </tr>\n",
       "    <tr>\n",
       "      <th>4577</th>\n",
       "      <td>56039898dd0baa9c720b76983ed3097c</td>\n",
       "      <td>NaN</td>\n",
       "      <td>NaN</td>\n",
       "      <td>NaN</td>\n",
       "      <td>NaN</td>\n",
       "    </tr>\n",
       "    <tr>\n",
       "      <th>4578</th>\n",
       "      <td>b88f24c4c8d8c0b665c8ad945a602941</td>\n",
       "      <td>NaN</td>\n",
       "      <td>NaN</td>\n",
       "      <td>NaN</td>\n",
       "      <td>NaN</td>\n",
       "    </tr>\n",
       "    <tr>\n",
       "      <th>4579</th>\n",
       "      <td>ad912bda79550d4fca64331606ace7be</td>\n",
       "      <td>NaN</td>\n",
       "      <td>NaN</td>\n",
       "      <td>NaN</td>\n",
       "      <td>NaN</td>\n",
       "    </tr>\n",
       "    <tr>\n",
       "      <th>4580</th>\n",
       "      <td>1fe45e6333f07ea85abe67ae5762a66e</td>\n",
       "      <td>NaN</td>\n",
       "      <td>NaN</td>\n",
       "      <td>NaN</td>\n",
       "      <td>NaN</td>\n",
       "    </tr>\n",
       "    <tr>\n",
       "      <th>4581</th>\n",
       "      <td>f3e8e791ab16e0a0960fa9e63572ce3e</td>\n",
       "      <td>NaN</td>\n",
       "      <td>NaN</td>\n",
       "      <td>NaN</td>\n",
       "      <td>NaN</td>\n",
       "    </tr>\n",
       "  </tbody>\n",
       "</table>\n",
       "<p>4582 rows × 5 columns</p>\n",
       "</div>"
      ],
      "text/plain": [
       "                                   md5  From  To  Subject  Month/Year\n",
       "0     a7551870dbe26c7b810c986c023f7ea6   NaN NaN      NaN         NaN\n",
       "1     629ac74d1f717403516b0852e43461ad   NaN NaN      NaN         NaN\n",
       "2     9a58f66ce99522ba8649112a143027e0   NaN NaN      NaN         NaN\n",
       "3     79baab175907a5c9525471edf8c298b8   NaN NaN      NaN         NaN\n",
       "4     962a4f55273c5358bb5100e64b9d2df5   NaN NaN      NaN         NaN\n",
       "...                                ...   ...  ..      ...         ...\n",
       "4577  56039898dd0baa9c720b76983ed3097c   NaN NaN      NaN         NaN\n",
       "4578  b88f24c4c8d8c0b665c8ad945a602941   NaN NaN      NaN         NaN\n",
       "4579  ad912bda79550d4fca64331606ace7be   NaN NaN      NaN         NaN\n",
       "4580  1fe45e6333f07ea85abe67ae5762a66e   NaN NaN      NaN         NaN\n",
       "4581  f3e8e791ab16e0a0960fa9e63572ce3e   NaN NaN      NaN         NaN\n",
       "\n",
       "[4582 rows x 5 columns]"
      ]
     },
     "execution_count": 6,
     "metadata": {},
     "output_type": "execute_result"
    }
   ],
   "source": [
    "df = pd.read_excel(\"New MD5 cost downs.xlsx\")\n",
    "df"
   ]
  },
  {
   "cell_type": "code",
   "execution_count": 7,
   "metadata": {},
   "outputs": [
    {
     "data": {
      "text/plain": [
       "array(['a7551870dbe26c7b810c986c023f7ea6',\n",
       "       '629ac74d1f717403516b0852e43461ad',\n",
       "       '9a58f66ce99522ba8649112a143027e0',\n",
       "       '79baab175907a5c9525471edf8c298b8',\n",
       "       '962a4f55273c5358bb5100e64b9d2df5',\n",
       "       '2cc1a91f80bbe2832936672cdf7855d6',\n",
       "       '0b47d1c3f59e72c58aabb9e2140ac330',\n",
       "       '850ebd0786d2a741db7abe7a4adcc2f0',\n",
       "       'f8ba29c416f627f80fb32f71f16f4a2e',\n",
       "       '2fa3975e6cbf3d1e4c8e79c37508193d'], dtype=object)"
      ]
     },
     "execution_count": 7,
     "metadata": {},
     "output_type": "execute_result"
    }
   ],
   "source": [
    "df_md5 = df[\"md5\"].values.flatten()\n",
    "df_md5[:10]"
   ]
  },
  {
   "cell_type": "code",
   "execution_count": 13,
   "metadata": {},
   "outputs": [],
   "source": [
    "# query = {\n",
    "#     \"bool\":{\n",
    "#         \"must\":[{\n",
    "#             \"match_phrase_prefix\":{\n",
    "#                 \"fileType\":\"Email\"\n",
    "#             }\n",
    "#         },\n",
    "#         {\n",
    "#             \"match_phrase\":{\n",
    "#                 \"Attachment.MD5\":\"927bf1a54ca56ed2ac1fe247d70725c5\"\n",
    "#             }\n",
    "#         }]\n",
    "#     }\n",
    "# }\n",
    "\n",
    "# s = Search(using=es, index=\"*\")\n",
    "# s.query = Q(query)\n",
    "# s = s.source([\"content\",\"metaData\",\"Attachment\"])\n",
    "\n",
    "# for x in s.scan():\n",
    "#     print(x.metaData[\"from\"])"
   ]
  },
  {
   "cell_type": "code",
   "execution_count": 14,
   "metadata": {},
   "outputs": [],
   "source": [
    "# i=0\n",
    "# for val in df_md5:\n",
    "#     i+=1\n",
    "#     s = Search(using=es, index=\"*\")\n",
    "#     s.query = Q(fetch_md(val))\n",
    "#     s = s.source([\"content\",\"metaData\",\"Attachment\"])\n",
    "#     val_lis = []\n",
    "#     frm = []\n",
    "#     to = []\n",
    "#     sub = []\n",
    "#     date = []\n",
    "#     for x in s.scan():\n",
    "#         if \"from\" in x.metaData:\n",
    "#             frm.append(x.metaData[\"from\"])\n",
    "#         if \"to\" in x.metaData:\n",
    "#             to.append(x.metaData[\"to\"])\n",
    "#         if \"subject\" in x.metaData:\n",
    "#             sub.append(x.metaData[\"subject\"])\n",
    "#         if \"date\" in x.metaData:\n",
    "#             date.append(x.metaData[\"date\"]) \n",
    "#     val_lis.extend([frm,to,sub,date])\n",
    "#     if i==10:\n",
    "#         break\n",
    "#     print(val_lis)"
   ]
  },
  {
   "cell_type": "code",
   "execution_count": 15,
   "metadata": {},
   "outputs": [],
   "source": [
    "def fetch_md(md5_val):\n",
    "    query = {\n",
    "    \"bool\":{\n",
    "        \"must\":[{\n",
    "            \"match_phrase_prefix\":{\n",
    "                \"fileType\":\"Email\"\n",
    "            }\n",
    "        },\n",
    "        {\n",
    "            \"match_phrase\":{\n",
    "                \"Attachment.MD5\":md5_val\n",
    "                }\n",
    "            }]\n",
    "        }\n",
    "        \n",
    "     }\n",
    "    return query"
   ]
  },
  {
   "cell_type": "code",
   "execution_count": 16,
   "metadata": {},
   "outputs": [],
   "source": [
    "from collections import Iterable\n",
    "def flatten(lis):\n",
    "     for item in lis:\n",
    "            if isinstance(item, Iterable) and not isinstance(item, str):\n",
    "                for x in flatten(item):\n",
    "                    yield x\n",
    "            else:        \n",
    "                yield item"
   ]
  },
  {
   "cell_type": "code",
   "execution_count": 19,
   "metadata": {},
   "outputs": [],
   "source": [
    "import csv\n",
    "header = [\"MD5\",\"FROM\",\"TO\",\"SUBJECT\",\"DATE\"]\n",
    "with open(\"new_MD5_Costdown.csv\",\"a\") as f:\n",
    "            csvwriter = csv.writer(f)\n",
    "            csvwriter.writerow(header)"
   ]
  },
  {
   "cell_type": "code",
   "execution_count": 20,
   "metadata": {},
   "outputs": [
    {
     "name": "stderr",
     "output_type": "stream",
     "text": [
      "100%|██████████| 4582/4582 [1:14:58<00:00,  1.02it/s]\n"
     ]
    }
   ],
   "source": [
    "from tqdm import tqdm\n",
    "import csv\n",
    "i=0\n",
    "val_lis = []\n",
    "for val in tqdm(df_md5):\n",
    "    i+=1\n",
    "    s = Search(using=es, index=\"*\")\n",
    "    s.query = Q(fetch_md(val))\n",
    "    s = s.source([\"content\",\"metaData\",\"Attachment\"])\n",
    "    frm = []\n",
    "    to = []\n",
    "    sub = []\n",
    "    date = []\n",
    "    for x in s.scan():\n",
    "        if \"from\" in x.metaData:\n",
    "            frm.append(x.metaData[\"from\"])\n",
    "        if \"to\" in x.metaData:\n",
    "            to.append(x.metaData[\"to\"])\n",
    "        if \"subject\" in x.metaData:\n",
    "            sub.append(x.metaData[\"subject\"])\n",
    "        if \"date\" in x.metaData:\n",
    "            date.append(x.metaData[\"date\"])\n",
    "    frm = list(flatten(frm))\n",
    "    to = list(flatten(to))\n",
    "    sub = list(flatten(sub))\n",
    "    date = list(flatten(date))\n",
    "    val_lis.extend([[val,set(frm),set(to),set(sub),set(date)]])\n",
    "    if i==100:\n",
    "        with open(\"new_MD5_Costdown.csv\",\"a\") as file:\n",
    "            csvwriter = csv.writer(file)\n",
    "            csvwriter.writerows(val_lis)\n",
    "        val_lis=[]\n",
    "        i=0\n",
    "if i!=0:\n",
    "    with open(\"new_MD5_Costdown.csv\",\"a\") as file:\n",
    "            csvwriter = csv.writer(file)\n",
    "            csvwriter.writerows(val_lis)"
   ]
  },
  {
   "cell_type": "code",
   "execution_count": null,
   "metadata": {},
   "outputs": [],
   "source": []
  },
  {
   "cell_type": "code",
   "execution_count": 21,
   "metadata": {},
   "outputs": [
    {
     "data": {
      "text/html": [
       "<div>\n",
       "<style scoped>\n",
       "    .dataframe tbody tr th:only-of-type {\n",
       "        vertical-align: middle;\n",
       "    }\n",
       "\n",
       "    .dataframe tbody tr th {\n",
       "        vertical-align: top;\n",
       "    }\n",
       "\n",
       "    .dataframe thead th {\n",
       "        text-align: right;\n",
       "    }\n",
       "</style>\n",
       "<table border=\"1\" class=\"dataframe\">\n",
       "  <thead>\n",
       "    <tr style=\"text-align: right;\">\n",
       "      <th></th>\n",
       "      <th>MD5</th>\n",
       "      <th>FROM</th>\n",
       "      <th>TO</th>\n",
       "      <th>SUBJECT</th>\n",
       "      <th>DATE</th>\n",
       "    </tr>\n",
       "  </thead>\n",
       "  <tbody>\n",
       "    <tr>\n",
       "      <th>0</th>\n",
       "      <td>a7551870dbe26c7b810c986c023f7ea6</td>\n",
       "      <td>{'Manisha.Joshi@cantire.com', 'Angie.Masotti@c...</td>\n",
       "      <td>{'Manisha.Joshi@cantire.com', 'Dilakshika.Kuga...</td>\n",
       "      <td>{'[EXTERNAL] - Euro-Pro | 1365 Cost Down', '[E...</td>\n",
       "      <td>{'2022/03/01 18:46:23', '2022/05/12 15:33:39',...</td>\n",
       "    </tr>\n",
       "    <tr>\n",
       "      <th>1</th>\n",
       "      <td>629ac74d1f717403516b0852e43461ad</td>\n",
       "      <td>{'jennifervassallo@gorillaglue.com'}</td>\n",
       "      <td>{'andrew.holder@cantire.com'}</td>\n",
       "      <td>{'[EXTERNAL] - FW: Deal 0828-2022 Cost Down - ...</td>\n",
       "      <td>{'2022/01/26 19:56:17'}</td>\n",
       "    </tr>\n",
       "    <tr>\n",
       "      <th>2</th>\n",
       "      <td>9a58f66ce99522ba8649112a143027e0</td>\n",
       "      <td>{'Andrew.Holder@cantire.com'}</td>\n",
       "      <td>{'Dipesh.Mistry@cantire.com'}</td>\n",
       "      <td>{'[EXTERNAL] - Deal 0876-2022 Cost Downs'}</td>\n",
       "      <td>{'2022/05/19 19:45:22'}</td>\n",
       "    </tr>\n",
       "    <tr>\n",
       "      <th>3</th>\n",
       "      <td>79baab175907a5c9525471edf8c298b8</td>\n",
       "      <td>{'Andrew.Holder@cantire.com'}</td>\n",
       "      <td>{'Dipesh.Mistry@cantire.com'}</td>\n",
       "      <td>{'[EXTERNAL] - Deal 0876-2022 Cost Downs'}</td>\n",
       "      <td>{'2022/05/19 19:45:22'}</td>\n",
       "    </tr>\n",
       "    <tr>\n",
       "      <th>4</th>\n",
       "      <td>962a4f55273c5358bb5100e64b9d2df5</td>\n",
       "      <td>{'Andrew.Holder@cantire.com'}</td>\n",
       "      <td>{'Dipesh.Mistry@cantire.com'}</td>\n",
       "      <td>{'[EXTERNAL] - Deal 0876-2022 Cost Downs'}</td>\n",
       "      <td>{'2022/05/19 19:45:22'}</td>\n",
       "    </tr>\n",
       "    <tr>\n",
       "      <th>...</th>\n",
       "      <td>...</td>\n",
       "      <td>...</td>\n",
       "      <td>...</td>\n",
       "      <td>...</td>\n",
       "      <td>...</td>\n",
       "    </tr>\n",
       "    <tr>\n",
       "      <th>4577</th>\n",
       "      <td>56039898dd0baa9c720b76983ed3097c</td>\n",
       "      <td>{'kspence@wd40.com', 'Gregory.Jennings@cantire...</td>\n",
       "      <td>{'Gregory.Jennings@cantire.com', 'gregory.jenn...</td>\n",
       "      <td>{'RE: [EXTERNAL] WD40 Cost Down - D330', 'FW: ...</td>\n",
       "      <td>{'2022/05/27 14:35:19', '2022/05/27 14:34:13'}</td>\n",
       "    </tr>\n",
       "    <tr>\n",
       "      <th>4578</th>\n",
       "      <td>b88f24c4c8d8c0b665c8ad945a602941</td>\n",
       "      <td>{'kspence@wd40.com'}</td>\n",
       "      <td>{'Samara.Sayeed@cantire.com', 'Yvonne.Ng@canti...</td>\n",
       "      <td>{'RE: [EXTERNAL] RE: WD-40: Q4 Cost Down Agree...</td>\n",
       "      <td>{'2021/10/20 19:02:49'}</td>\n",
       "    </tr>\n",
       "    <tr>\n",
       "      <th>4579</th>\n",
       "      <td>ad912bda79550d4fca64331606ace7be</td>\n",
       "      <td>{'Gregory.Jennings@cantire.com'}</td>\n",
       "      <td>{'kspence@wd40.com'}</td>\n",
       "      <td>{'[EXTERNAL] - WD40 Cost Down - D330'}</td>\n",
       "      <td>{'2022/05/26 17:30:54'}</td>\n",
       "    </tr>\n",
       "    <tr>\n",
       "      <th>4580</th>\n",
       "      <td>1fe45e6333f07ea85abe67ae5762a66e</td>\n",
       "      <td>{'Gregory.Jennings@cantire.com'}</td>\n",
       "      <td>{'gregory.jennings.92@gmail.com'}</td>\n",
       "      <td>{'FW: [EXTERNAL] D1118 In-Spring Guide - WD-40...</td>\n",
       "      <td>{'2022/02/28 20:35:42'}</td>\n",
       "    </tr>\n",
       "    <tr>\n",
       "      <th>4581</th>\n",
       "      <td>f3e8e791ab16e0a0960fa9e63572ce3e</td>\n",
       "      <td>{'Erika.Petrosyan@cantire.com'}</td>\n",
       "      <td>{'Jeff.Rolfe@cantire.com'}</td>\n",
       "      <td>{'[EXTERNAL] - RE: Cost Downs'}</td>\n",
       "      <td>{'2021/12/07 22:42:07'}</td>\n",
       "    </tr>\n",
       "  </tbody>\n",
       "</table>\n",
       "<p>4582 rows × 5 columns</p>\n",
       "</div>"
      ],
      "text/plain": [
       "                                   MD5  \\\n",
       "0     a7551870dbe26c7b810c986c023f7ea6   \n",
       "1     629ac74d1f717403516b0852e43461ad   \n",
       "2     9a58f66ce99522ba8649112a143027e0   \n",
       "3     79baab175907a5c9525471edf8c298b8   \n",
       "4     962a4f55273c5358bb5100e64b9d2df5   \n",
       "...                                ...   \n",
       "4577  56039898dd0baa9c720b76983ed3097c   \n",
       "4578  b88f24c4c8d8c0b665c8ad945a602941   \n",
       "4579  ad912bda79550d4fca64331606ace7be   \n",
       "4580  1fe45e6333f07ea85abe67ae5762a66e   \n",
       "4581  f3e8e791ab16e0a0960fa9e63572ce3e   \n",
       "\n",
       "                                                   FROM  \\\n",
       "0     {'Manisha.Joshi@cantire.com', 'Angie.Masotti@c...   \n",
       "1                  {'jennifervassallo@gorillaglue.com'}   \n",
       "2                         {'Andrew.Holder@cantire.com'}   \n",
       "3                         {'Andrew.Holder@cantire.com'}   \n",
       "4                         {'Andrew.Holder@cantire.com'}   \n",
       "...                                                 ...   \n",
       "4577  {'kspence@wd40.com', 'Gregory.Jennings@cantire...   \n",
       "4578                               {'kspence@wd40.com'}   \n",
       "4579                   {'Gregory.Jennings@cantire.com'}   \n",
       "4580                   {'Gregory.Jennings@cantire.com'}   \n",
       "4581                    {'Erika.Petrosyan@cantire.com'}   \n",
       "\n",
       "                                                     TO  \\\n",
       "0     {'Manisha.Joshi@cantire.com', 'Dilakshika.Kuga...   \n",
       "1                         {'andrew.holder@cantire.com'}   \n",
       "2                         {'Dipesh.Mistry@cantire.com'}   \n",
       "3                         {'Dipesh.Mistry@cantire.com'}   \n",
       "4                         {'Dipesh.Mistry@cantire.com'}   \n",
       "...                                                 ...   \n",
       "4577  {'Gregory.Jennings@cantire.com', 'gregory.jenn...   \n",
       "4578  {'Samara.Sayeed@cantire.com', 'Yvonne.Ng@canti...   \n",
       "4579                               {'kspence@wd40.com'}   \n",
       "4580                  {'gregory.jennings.92@gmail.com'}   \n",
       "4581                         {'Jeff.Rolfe@cantire.com'}   \n",
       "\n",
       "                                                SUBJECT  \\\n",
       "0     {'[EXTERNAL] - Euro-Pro | 1365 Cost Down', '[E...   \n",
       "1     {'[EXTERNAL] - FW: Deal 0828-2022 Cost Down - ...   \n",
       "2            {'[EXTERNAL] - Deal 0876-2022 Cost Downs'}   \n",
       "3            {'[EXTERNAL] - Deal 0876-2022 Cost Downs'}   \n",
       "4            {'[EXTERNAL] - Deal 0876-2022 Cost Downs'}   \n",
       "...                                                 ...   \n",
       "4577  {'RE: [EXTERNAL] WD40 Cost Down - D330', 'FW: ...   \n",
       "4578  {'RE: [EXTERNAL] RE: WD-40: Q4 Cost Down Agree...   \n",
       "4579             {'[EXTERNAL] - WD40 Cost Down - D330'}   \n",
       "4580  {'FW: [EXTERNAL] D1118 In-Spring Guide - WD-40...   \n",
       "4581                    {'[EXTERNAL] - RE: Cost Downs'}   \n",
       "\n",
       "                                                   DATE  \n",
       "0     {'2022/03/01 18:46:23', '2022/05/12 15:33:39',...  \n",
       "1                               {'2022/01/26 19:56:17'}  \n",
       "2                               {'2022/05/19 19:45:22'}  \n",
       "3                               {'2022/05/19 19:45:22'}  \n",
       "4                               {'2022/05/19 19:45:22'}  \n",
       "...                                                 ...  \n",
       "4577     {'2022/05/27 14:35:19', '2022/05/27 14:34:13'}  \n",
       "4578                            {'2021/10/20 19:02:49'}  \n",
       "4579                            {'2022/05/26 17:30:54'}  \n",
       "4580                            {'2022/02/28 20:35:42'}  \n",
       "4581                            {'2021/12/07 22:42:07'}  \n",
       "\n",
       "[4582 rows x 5 columns]"
      ]
     },
     "execution_count": 21,
     "metadata": {},
     "output_type": "execute_result"
    }
   ],
   "source": [
    "import pandas as pd\n",
    "df_fin = pd.read_csv(\"new_MD5_Costdown.csv\")\n",
    "df_fin"
   ]
  },
  {
   "cell_type": "code",
   "execution_count": 22,
   "metadata": {},
   "outputs": [
    {
     "name": "stdout",
     "output_type": "stream",
     "text": [
      "4582\n"
     ]
    }
   ],
   "source": [
    "print(len(df_fin[\"DATE\"]))"
   ]
  },
  {
   "cell_type": "code",
   "execution_count": 23,
   "metadata": {},
   "outputs": [
    {
     "name": "stdout",
     "output_type": "stream",
     "text": [
      "4582\n"
     ]
    }
   ],
   "source": [
    "import re\n",
    "lis = []\n",
    "for i in range(len(df_fin[\"DATE\"])):\n",
    "    date = df_fin[\"DATE\"][i]\n",
    "    day = date.split(\",\")\n",
    "    year = set()\n",
    "    if len(day)>1:\n",
    "        for val in day:\n",
    "            m_y = re.search(r'(\\d{4})/(\\d{2})', val)\n",
    "            if m_y:\n",
    "                year.add(m_y.group())\n",
    "    else:\n",
    "        m_y = re.search(r'(\\d{4})/(\\d{2})',date)\n",
    "        if m_y:\n",
    "            year.add(m_y.group())\n",
    "    lis.append(year)\n",
    "print(len(lis))"
   ]
  },
  {
   "cell_type": "code",
   "execution_count": 24,
   "metadata": {},
   "outputs": [
    {
     "name": "stderr",
     "output_type": "stream",
     "text": [
      "/opt/anaconda3/lib/python3.7/site-packages/ipykernel_launcher.py:1: SettingWithCopyWarning: \n",
      "A value is trying to be set on a copy of a slice from a DataFrame\n",
      "\n",
      "See the caveats in the documentation: https://pandas.pydata.org/pandas-docs/stable/user_guide/indexing.html#returning-a-view-versus-a-copy\n",
      "  \"\"\"Entry point for launching an IPython kernel.\n"
     ]
    }
   ],
   "source": [
    "df_fin[:][\"DATE\"].update(lis)"
   ]
  },
  {
   "cell_type": "code",
   "execution_count": 25,
   "metadata": {},
   "outputs": [
    {
     "data": {
      "text/plain": [
       "0    {2022/05, 2022/03}\n",
       "1             {2022/01}\n",
       "2             {2022/05}\n",
       "3             {2022/05}\n",
       "4             {2022/05}\n",
       "5             {2022/05}\n",
       "6             {2022/05}\n",
       "7             {2022/05}\n",
       "8             {2022/05}\n",
       "9             {2022/05}\n",
       "Name: DATE, dtype: object"
      ]
     },
     "execution_count": 25,
     "metadata": {},
     "output_type": "execute_result"
    }
   ],
   "source": [
    "df_fin[:][\"DATE\"][:10]"
   ]
  },
  {
   "cell_type": "code",
   "execution_count": 26,
   "metadata": {},
   "outputs": [
    {
     "data": {
      "text/html": [
       "<div>\n",
       "<style scoped>\n",
       "    .dataframe tbody tr th:only-of-type {\n",
       "        vertical-align: middle;\n",
       "    }\n",
       "\n",
       "    .dataframe tbody tr th {\n",
       "        vertical-align: top;\n",
       "    }\n",
       "\n",
       "    .dataframe thead th {\n",
       "        text-align: right;\n",
       "    }\n",
       "</style>\n",
       "<table border=\"1\" class=\"dataframe\">\n",
       "  <thead>\n",
       "    <tr style=\"text-align: right;\">\n",
       "      <th></th>\n",
       "      <th>MD5</th>\n",
       "      <th>FROM</th>\n",
       "      <th>TO</th>\n",
       "      <th>SUBJECT</th>\n",
       "      <th>DATE</th>\n",
       "    </tr>\n",
       "  </thead>\n",
       "  <tbody>\n",
       "    <tr>\n",
       "      <th>0</th>\n",
       "      <td>a7551870dbe26c7b810c986c023f7ea6</td>\n",
       "      <td>{'Manisha.Joshi@cantire.com', 'Angie.Masotti@c...</td>\n",
       "      <td>{'Manisha.Joshi@cantire.com', 'Dilakshika.Kuga...</td>\n",
       "      <td>{'[EXTERNAL] - Euro-Pro | 1365 Cost Down', '[E...</td>\n",
       "      <td>{2022/05, 2022/03}</td>\n",
       "    </tr>\n",
       "    <tr>\n",
       "      <th>1</th>\n",
       "      <td>629ac74d1f717403516b0852e43461ad</td>\n",
       "      <td>{'jennifervassallo@gorillaglue.com'}</td>\n",
       "      <td>{'andrew.holder@cantire.com'}</td>\n",
       "      <td>{'[EXTERNAL] - FW: Deal 0828-2022 Cost Down - ...</td>\n",
       "      <td>{2022/01}</td>\n",
       "    </tr>\n",
       "  </tbody>\n",
       "</table>\n",
       "</div>"
      ],
      "text/plain": [
       "                                MD5  \\\n",
       "0  a7551870dbe26c7b810c986c023f7ea6   \n",
       "1  629ac74d1f717403516b0852e43461ad   \n",
       "\n",
       "                                                FROM  \\\n",
       "0  {'Manisha.Joshi@cantire.com', 'Angie.Masotti@c...   \n",
       "1               {'jennifervassallo@gorillaglue.com'}   \n",
       "\n",
       "                                                  TO  \\\n",
       "0  {'Manisha.Joshi@cantire.com', 'Dilakshika.Kuga...   \n",
       "1                      {'andrew.holder@cantire.com'}   \n",
       "\n",
       "                                             SUBJECT                DATE  \n",
       "0  {'[EXTERNAL] - Euro-Pro | 1365 Cost Down', '[E...  {2022/05, 2022/03}  \n",
       "1  {'[EXTERNAL] - FW: Deal 0828-2022 Cost Down - ...           {2022/01}  "
      ]
     },
     "execution_count": 26,
     "metadata": {},
     "output_type": "execute_result"
    }
   ],
   "source": [
    "df_fin.head(2)"
   ]
  },
  {
   "cell_type": "code",
   "execution_count": 27,
   "metadata": {},
   "outputs": [],
   "source": [
    "df_fin.to_csv(\"new_MD5_Costdown.csv\")"
   ]
  },
  {
   "cell_type": "code",
   "execution_count": null,
   "metadata": {},
   "outputs": [],
   "source": []
  },
  {
   "cell_type": "code",
   "execution_count": null,
   "metadata": {},
   "outputs": [],
   "source": []
  },
  {
   "cell_type": "code",
   "execution_count": null,
   "metadata": {},
   "outputs": [],
   "source": []
  },
  {
   "cell_type": "code",
   "execution_count": null,
   "metadata": {},
   "outputs": [],
   "source": []
  },
  {
   "cell_type": "code",
   "execution_count": null,
   "metadata": {},
   "outputs": [],
   "source": []
  },
  {
   "cell_type": "code",
   "execution_count": null,
   "metadata": {},
   "outputs": [],
   "source": []
  },
  {
   "cell_type": "code",
   "execution_count": null,
   "metadata": {},
   "outputs": [],
   "source": []
  },
  {
   "cell_type": "code",
   "execution_count": null,
   "metadata": {},
   "outputs": [],
   "source": []
  },
  {
   "cell_type": "code",
   "execution_count": null,
   "metadata": {},
   "outputs": [],
   "source": []
  },
  {
   "cell_type": "code",
   "execution_count": null,
   "metadata": {},
   "outputs": [],
   "source": []
  },
  {
   "cell_type": "code",
   "execution_count": null,
   "metadata": {},
   "outputs": [],
   "source": []
  },
  {
   "cell_type": "code",
   "execution_count": 49,
   "metadata": {},
   "outputs": [
    {
     "name": "stderr",
     "output_type": "stream",
     "text": [
      "/opt/anaconda3/lib/python3.7/site-packages/ipykernel_launcher.py:9: DeprecationWarning: The 'body' parameter is deprecated for the 'search' API and will be removed in a future version. Instead use API parameters directly. See https://github.com/elastic/elasticsearch-py/issues/1698 for more information\n",
      "  if __name__ == '__main__':\n"
     ]
    },
    {
     "data": {
      "text/plain": [
       "[]"
      ]
     },
     "execution_count": 49,
     "metadata": {},
     "output_type": "execute_result"
    }
   ],
   "source": [
    "body = {\n",
    "    \"size\":100,\n",
    "    \"query\":{\n",
    "        \"match_phrase\":{\n",
    "            \"MD5\":\"655c817d5ba682609674a11716e1a8cd\"\n",
    "        }\n",
    "    }\n",
    "}\n",
    "res = es.search(index=\"*\",body=body)\n",
    "res[\"hits\"][\"hits\"]"
   ]
  },
  {
   "cell_type": "code",
   "execution_count": null,
   "metadata": {},
   "outputs": [],
   "source": []
  }
 ],
 "metadata": {
  "kernelspec": {
   "display_name": "packages",
   "language": "python",
   "name": "python3"
  },
  "language_info": {
   "codemirror_mode": {
    "name": "ipython",
    "version": 3
   },
   "file_extension": ".py",
   "mimetype": "text/x-python",
   "name": "python",
   "nbconvert_exporter": "python",
   "pygments_lexer": "ipython3",
   "version": "3.7.13 (default, Mar 29 2022, 02:18:16) \n[GCC 7.5.0]"
  },
  "vscode": {
   "interpreter": {
    "hash": "90107b569954c9c48a778267dc79238494a8034d3e11235d76725e132d92d249"
   }
  }
 },
 "nbformat": 4,
 "nbformat_minor": 2
}
